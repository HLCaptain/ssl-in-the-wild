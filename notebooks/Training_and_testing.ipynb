{
 "cells": [
  {
   "cell_type": "markdown",
   "id": "8003ec70",
   "metadata": {},
   "source": [
    "# Imports and hyperparameters"
   ]
  },
  {
   "cell_type": "code",
   "execution_count": null,
   "id": "ec2d30fd",
   "metadata": {},
   "outputs": [],
   "source": [
    "import copy\n",
    "import wandb\n",
    "import os\n",
    "\n",
    "import lightning as l\n",
    "import torch\n",
    "import torchvision\n",
    "import torchmetrics\n",
    "from torch import nn\n",
    "import matplotlib.pyplot as plt\n",
    "import numpy as np\n",
    "\n",
    "from lightly.data import LightlyDataset\n",
    "from lightly.loss.vicreg_loss import VICRegLoss\n",
    "from lightly.models.modules.heads import VICRegProjectionHead\n",
    "from lightly.transforms.vicreg_transform import VICRegTransform\n",
    "from lightly.models.utils import (\n",
    "    batch_shuffle,\n",
    "    batch_unshuffle,\n",
    "    deactivate_requires_grad,\n",
    "    update_momentum,\n",
    ")\n",
    "from lightly.transforms import utils\n",
    "from torch.optim import SGD, Adam"
   ]
  },
  {
   "cell_type": "code",
   "execution_count": null,
   "id": "825fe8be",
   "metadata": {},
   "outputs": [
    {
     "name": "stderr",
     "output_type": "stream",
     "text": [
      "Failed to detect the name of this notebook, you can set it manually with the WANDB_NOTEBOOK_NAME environment variable to enable code saving.\n",
      "\u001b[34m\u001b[1mwandb\u001b[0m: Currently logged in as: \u001b[33millyan\u001b[0m (\u001b[33mnest-ai\u001b[0m). Use \u001b[1m`wandb login --relogin`\u001b[0m to force relogin\n"
     ]
    },
    {
     "data": {
      "text/plain": [
       "True"
      ]
     },
     "execution_count": 2,
     "metadata": {},
     "output_type": "execute_result"
    }
   ],
   "source": [
    "wandb.login()"
   ]
  },
  {
   "cell_type": "code",
   "execution_count": null,
   "id": "e85d1392",
   "metadata": {},
   "outputs": [],
   "source": [
    "num_workers = os.cpu_count()\n",
    "batch_size = 512\n",
    "memory_bank_size = 4096\n",
    "seed = 1\n",
    "max_epochs = 100\n",
    "data_dir = '../data/'\n",
    "accelerator = \"gpu\" if torch.cuda.is_available() else \"cpu\""
   ]
  },
  {
   "cell_type": "code",
   "execution_count": null,
   "id": "b3495978",
   "metadata": {},
   "outputs": [],
   "source": [
    "path_to_train = data_dir + \"100-bird-species/train/\"\n",
    "path_to_valid = data_dir + \"100-bird-species/valid/\"\n",
    "path_to_test = data_dir + \"100-bird-species/test/\""
   ]
  },
  {
   "cell_type": "code",
   "execution_count": null,
   "id": "658953b6",
   "metadata": {},
   "outputs": [
    {
     "name": "stdout",
     "output_type": "stream",
     "text": [
      "525\n"
     ]
    }
   ],
   "source": [
    "from torchvision.datasets import ImageFolder\n",
    "\n",
    "dataset = ImageFolder(path_to_train)\n",
    "num_classes = len(dataset.classes)\n",
    "input_size = 512\n",
    "fc_net = nn.Linear(input_size, num_classes) # Simple FC classifier\n",
    "lin1_size = 64\n",
    "lin2_size = 256\n",
    "lin3_size = 256\n",
    "deep_net = nn.Sequential( # DNN classifier\n",
    "    nn.Linear(input_size, lin1_size),\n",
    "    nn.BatchNorm1d(lin1_size),\n",
    "    nn.ReLU(),\n",
    "    nn.Linear(lin1_size, lin2_size),\n",
    "    nn.BatchNorm1d(lin2_size),\n",
    "    nn.ReLU(),\n",
    "    nn.Linear(lin2_size, lin3_size),\n",
    "    nn.BatchNorm1d(lin3_size),\n",
    "    nn.ReLU(),\n",
    "    nn.Linear(lin3_size, num_classes),\n",
    ")\n",
    "classifier_net = deep_net # Choose which classifier to use, fc_net or deep_net\n",
    "print(num_classes)"
   ]
  },
  {
   "cell_type": "code",
   "execution_count": null,
   "id": "94d09f18",
   "metadata": {},
   "outputs": [
    {
     "name": "stderr",
     "output_type": "stream",
     "text": [
      "Seed set to 1\n"
     ]
    },
    {
     "data": {
      "text/plain": [
       "1"
      ]
     },
     "execution_count": 6,
     "metadata": {},
     "output_type": "execute_result"
    }
   ],
   "source": [
    "l.seed_everything(seed)"
   ]
  },
  {
   "cell_type": "markdown",
   "id": "5132b7c7",
   "metadata": {},
   "source": [
    "# Datasets"
   ]
  },
  {
   "cell_type": "code",
   "execution_count": null,
   "id": "7c064abb",
   "metadata": {},
   "outputs": [],
   "source": [
    "train_vicreg_transform = VICRegTransform(\n",
    "    input_size=32,\n",
    "    gaussian_blur=0.0,\n",
    ")\n",
    "\n",
    "train_classifier_transforms = torchvision.transforms.Compose(\n",
    "    [\n",
    "        torchvision.transforms.RandomCrop(32, padding=4),\n",
    "        torchvision.transforms.RandomHorizontalFlip(),\n",
    "        torchvision.transforms.ToTensor(),\n",
    "        torchvision.transforms.Normalize(\n",
    "            mean=utils.IMAGENET_NORMALIZE[\"mean\"],\n",
    "            std=utils.IMAGENET_NORMALIZE[\"std\"],\n",
    "        ),\n",
    "    ]\n",
    ")\n",
    "\n",
    "# No additional augmentations for the test set\n",
    "test_transforms = torchvision.transforms.Compose(\n",
    "    [\n",
    "        torchvision.transforms.Resize((32, 32)),\n",
    "        torchvision.transforms.ToTensor(),\n",
    "        torchvision.transforms.Normalize(\n",
    "            mean=utils.IMAGENET_NORMALIZE[\"mean\"],\n",
    "            std=utils.IMAGENET_NORMALIZE[\"std\"],\n",
    "        ),\n",
    "    ]\n",
    ")"
   ]
  },
  {
   "cell_type": "code",
   "execution_count": null,
   "id": "bc7136f3",
   "metadata": {},
   "outputs": [],
   "source": [
    "dataset_train_vicreg = LightlyDataset(input_dir=path_to_train, transform=train_vicreg_transform)\n",
    "\n",
    "dataset_train_classifier = LightlyDataset(\n",
    "    input_dir=path_to_train, transform=train_classifier_transforms\n",
    ")\n",
    "\n",
    "dataset_valid = LightlyDataset(input_dir=path_to_valid, transform=test_transforms)\n",
    "dataset_test = LightlyDataset(input_dir=path_to_test, transform=test_transforms)"
   ]
  },
  {
   "cell_type": "code",
   "execution_count": null,
   "id": "6414a55f",
   "metadata": {},
   "outputs": [],
   "source": [
    "dataloader_train_vicreg = torch.utils.data.DataLoader(\n",
    "    dataset_train_vicreg,\n",
    "    batch_size=batch_size,\n",
    "    shuffle=True,\n",
    "    drop_last=True,\n",
    "    num_workers=num_workers,\n",
    "    persistent_workers=True,\n",
    ")\n",
    "\n",
    "dataloader_train_classifier = torch.utils.data.DataLoader(\n",
    "    dataset_train_classifier,\n",
    "    batch_size=batch_size,\n",
    "    shuffle=True,\n",
    "    drop_last=True,\n",
    "    num_workers=num_workers,\n",
    "    persistent_workers=True,\n",
    ")\n",
    "\n",
    "dataloader_valid = torch.utils.data.DataLoader(\n",
    "    dataset_valid,\n",
    "    batch_size=batch_size,\n",
    "    shuffle=False,\n",
    "    drop_last=False,\n",
    "    num_workers=num_workers,\n",
    "    persistent_workers=True,\n",
    ")\n",
    "\n",
    "dataloader_test = torch.utils.data.DataLoader(\n",
    "    dataset_test,\n",
    "    batch_size=batch_size,\n",
    "    shuffle=False,\n",
    "    drop_last=False,\n",
    "    num_workers=num_workers,\n",
    "    persistent_workers=True,\n",
    ")"
   ]
  },
  {
   "cell_type": "markdown",
   "id": "0a25a792",
   "metadata": {},
   "source": [
    "# VICReg class \n",
    "SSL-method with pretrained resnet18 backbone"
   ]
  },
  {
   "cell_type": "code",
   "execution_count": null,
   "id": "e2a8013e",
   "metadata": {},
   "outputs": [],
   "source": [
    "class VICReg(l.LightningModule):\n",
    "    def __init__(self):\n",
    "        super().__init__()\n",
    "        resnet = torchvision.models.resnet18(pretrained=True)\n",
    "        self.backbone = nn.Sequential(*list(resnet.children())[:-1])\n",
    "        self.projection_head = VICRegProjectionHead(\n",
    "            input_dim=512,\n",
    "            hidden_dim=2048,\n",
    "            output_dim=2048,\n",
    "            num_layers=4,\n",
    "        )\n",
    "        self.criterion = VICRegLoss()\n",
    "\n",
    "    def forward(self, x):\n",
    "        x = self.backbone(x).flatten(start_dim=1)\n",
    "        z = self.projection_head(x)\n",
    "        return z\n",
    "\n",
    "    def training_step(self, batch, batch_index):\n",
    "        (x0, x1) = batch[0]\n",
    "        z0 = self.forward(x0)\n",
    "        z1 = self.forward(x1)\n",
    "        loss = self.criterion(z0, z1)\n",
    "        self.log(\"vicreg_loss\", loss, on_epoch=True)\n",
    "        return loss\n",
    "\n",
    "    def configure_optimizers(self):\n",
    "        optim = Adam(self.parameters(), lr=0.06)\n",
    "        return optim"
   ]
  },
  {
   "cell_type": "markdown",
   "id": "416b82e7",
   "metadata": {},
   "source": [
    "# Classifier class\n",
    "Defining one classification layer after the backbone"
   ]
  },
  {
   "cell_type": "code",
   "execution_count": null,
   "id": "af461663",
   "metadata": {},
   "outputs": [],
   "source": [
    "class Classifier(l.LightningModule):\n",
    "    def __init__(self, backbone, freeze, num_classes, net):\n",
    "        super().__init__()\n",
    "        self.backbone = backbone\n",
    "\n",
    "        if freeze:\n",
    "            # freeze the backbone\n",
    "            deactivate_requires_grad(backbone)\n",
    "\n",
    "        # create a linear layer for our downstream classification model\n",
    "        self.net = net\n",
    "\n",
    "        self.firstTime = True\n",
    "\n",
    "        self.criterion = nn.CrossEntropyLoss()\n",
    "        self.accuracy = torchmetrics.Accuracy(task='multiclass', num_classes=num_classes)\n",
    "        self.validation_step_outputs = []\n",
    "\n",
    "    def forward(self, x):\n",
    "        y_hat = self.backbone(x).flatten(start_dim=1)\n",
    "        y_hat = self.net(y_hat)\n",
    "        return y_hat\n",
    "\n",
    "    def training_step(self, batch, batch_idx):\n",
    "        x, y, _ = batch\n",
    "        if self.firstTime:\n",
    "            self.firstTime = False\n",
    "            print(type(x))\n",
    "            print(x)\n",
    "            print(type(y))\n",
    "        y_hat = self.forward(x)\n",
    "        loss = self.criterion(y_hat, y)\n",
    "        self.log(\"classifier_loss\", loss)\n",
    "        return loss\n",
    "\n",
    "    def validation_step(self, batch, batch_idx):\n",
    "        x, y, _ = batch\n",
    "        y_hat = self.forward(x)\n",
    "        y_hat = torch.nn.functional.softmax(y_hat, dim=1)\n",
    "\n",
    "        _, predicted = torch.max(y_hat, 1)\n",
    "        num = predicted.shape[0]\n",
    "        correct = (predicted == y).float().sum()\n",
    "        self.validation_step_outputs.append((num, correct))\n",
    "        return num, correct\n",
    "\n",
    "    def on_validation_epoch_end(self):\n",
    "        if self.validation_step_outputs:\n",
    "            total_num = 0\n",
    "            total_correct = 0\n",
    "            for num, correct in self.validation_step_outputs:\n",
    "                total_num += num\n",
    "                total_correct += correct\n",
    "            acc = total_correct / total_num\n",
    "            self.log(\"val_acc\", acc, on_epoch=True, prog_bar=True)\n",
    "            self.validation_step_outputs.clear()\n",
    "\n",
    "    def test_step(self, batch, batch_idx):\n",
    "        x, y, _ = batch\n",
    "        y_hat = self(x)\n",
    "\n",
    "        loss = self.criterion(y_hat, y)\n",
    "        accuracy = self.accuracy(y_hat, y)\n",
    "\n",
    "        self.log(\"test_loss\", loss)\n",
    "        self.log(\"test_acc\", accuracy)\n",
    "        return loss\n",
    "\n",
    "    def predict_step(self, batch, batch_idx):\n",
    "        x, y, _ = batch\n",
    "        y_hat = self(x)\n",
    "        return (y_hat, y)\n",
    "\n",
    "    def configure_optimizers(self):\n",
    "        optim = Adam(self.net.parameters(), lr=0.002884)\n",
    "        scheduler = torch.optim.lr_scheduler.CosineAnnealingLR(optim, max_epochs)\n",
    "        return [optim], [scheduler]"
   ]
  },
  {
   "cell_type": "markdown",
   "id": "57e8be37",
   "metadata": {},
   "source": [
    "# Training\n",
    "\n",
    "You can load the trained models after each training cell by specifying the appropriate path and commenting out the required lines"
   ]
  },
  {
   "cell_type": "markdown",
   "id": "506c44bb",
   "metadata": {},
   "source": [
    "## VICReg training"
   ]
  },
  {
   "cell_type": "code",
   "execution_count": 32,
   "id": "99cd7516",
   "metadata": {},
   "outputs": [
    {
     "name": "stderr",
     "output_type": "stream",
     "text": [
      "C:\\Users\\HLCaptain\\AppData\\Local\\Packages\\PythonSoftwareFoundation.Python.3.11_qbz5n2kfra8p0\\LocalCache\\local-packages\\Python311\\site-packages\\torchvision\\models\\_utils.py:208: UserWarning: The parameter 'pretrained' is deprecated since 0.13 and may be removed in the future, please use 'weights' instead.\n",
      "  warnings.warn(\n",
      "C:\\Users\\HLCaptain\\AppData\\Local\\Packages\\PythonSoftwareFoundation.Python.3.11_qbz5n2kfra8p0\\LocalCache\\local-packages\\Python311\\site-packages\\torchvision\\models\\_utils.py:223: UserWarning: Arguments other than a weight enum or `None` for 'weights' are deprecated since 0.13 and may be removed in the future. The current behavior is equivalent to passing `weights=ResNet18_Weights.IMAGENET1K_V1`. You can also use `weights=ResNet18_Weights.DEFAULT` to get the most up-to-date weights.\n",
      "  warnings.warn(msg)\n"
     ]
    },
    {
     "name": "stderr",
     "output_type": "stream",
     "text": [
      "GPU available: True (cuda), used: True\n",
      "TPU available: False, using: 0 TPU cores\n",
      "IPU available: False, using: 0 IPUs\n",
      "HPU available: False, using: 0 HPUs\n",
      "C:\\Users\\HLCaptain\\AppData\\Local\\Packages\\PythonSoftwareFoundation.Python.3.11_qbz5n2kfra8p0\\LocalCache\\local-packages\\Python311\\site-packages\\lightning\\pytorch\\loggers\\wandb.py:389: There is a wandb run already in progress and newly created instances of `WandbLogger` will reuse this run. If this is not desired, call `wandb.finish()` before instantiating `WandbLogger`.\n",
      "C:\\Users\\HLCaptain\\AppData\\Local\\Packages\\PythonSoftwareFoundation.Python.3.11_qbz5n2kfra8p0\\LocalCache\\local-packages\\Python311\\site-packages\\lightning\\pytorch\\callbacks\\model_checkpoint.py:639: Checkpoint directory ./models/ exists and is not empty.\n",
      "LOCAL_RANK: 0 - CUDA_VISIBLE_DEVICES: [0]\n",
      "\n",
      "  | Name            | Type                 | Params\n",
      "---------------------------------------------------------\n",
      "0 | backbone        | Sequential           | 11.2 M\n",
      "1 | projection_head | VICRegProjectionHead | 13.6 M\n",
      "2 | criterion       | VICRegLoss           | 0     \n",
      "---------------------------------------------------------\n",
      "24.8 M    Trainable params\n",
      "0         Non-trainable params\n",
      "24.8 M    Total params\n",
      "99.289    Total estimated model params size (MB)\n",
      "C:\\Users\\HLCaptain\\AppData\\Local\\Packages\\PythonSoftwareFoundation.Python.3.11_qbz5n2kfra8p0\\LocalCache\\local-packages\\Python311\\site-packages\\lightning\\pytorch\\trainer\\call.py:54: Detected KeyboardInterrupt, attempting graceful shutdown...\n",
      "Exception ignored in: <function _MultiProcessingDataLoaderIter.__del__ at 0x000002542A182160>\n",
      "Traceback (most recent call last):\n",
      "  File \"C:\\Users\\HLCaptain\\AppData\\Local\\Packages\\PythonSoftwareFoundation.Python.3.11_qbz5n2kfra8p0\\LocalCache\\local-packages\\Python311\\site-packages\\torch\\utils\\data\\dataloader.py\", line 1478, in __del__\n",
      "    self._shutdown_workers()\n",
      "  File \"C:\\Users\\HLCaptain\\AppData\\Local\\Packages\\PythonSoftwareFoundation.Python.3.11_qbz5n2kfra8p0\\LocalCache\\local-packages\\Python311\\site-packages\\torch\\utils\\data\\dataloader.py\", line 1437, in _shutdown_workers\n",
      "    self._mark_worker_as_unavailable(worker_id, shutdown=True)\n",
      "  File \"C:\\Users\\HLCaptain\\AppData\\Local\\Packages\\PythonSoftwareFoundation.Python.3.11_qbz5n2kfra8p0\\LocalCache\\local-packages\\Python311\\site-packages\\torch\\utils\\data\\dataloader.py\", line 1379, in _mark_worker_as_unavailable\n",
      "    assert self._workers_status[worker_id] or (self._persistent_workers and shutdown)\n",
      "           ^^^^^^^^^^^^^^^^^^^^\n",
      "AttributeError: '_MultiProcessingDataLoaderIter' object has no attribute '_workers_status'\n"
     ]
    },
    {
     "data": {
      "text/html": [
       "<style>\n",
       "    table.wandb td:nth-child(1) { padding: 0 10px; text-align: left ; width: auto;} td:nth-child(2) {text-align: left ; width: 100%}\n",
       "    .wandb-row { display: flex; flex-direction: row; flex-wrap: wrap; justify-content: flex-start; width: 100% }\n",
       "    .wandb-col { display: flex; flex-direction: column; flex-basis: 100%; flex: 1; padding: 10px; }\n",
       "    </style>\n",
       "<div class=\"wandb-row\"><div class=\"wandb-col\"><h3>Run history:</h3><br/><table class=\"wandb\"><tr><td>epoch</td><td>▁▁▁▁▁</td></tr><tr><td>test_acc</td><td>▁▁▆█▁</td></tr><tr><td>test_loss</td><td>█▃▁▁▄</td></tr><tr><td>trainer/global_step</td><td>▁▁▁▁▁</td></tr></table><br/></div><div class=\"wandb-col\"><h3>Run summary:</h3><br/><table class=\"wandb\"><tr><td>epoch</td><td>0</td></tr><tr><td>test_acc</td><td>0.008</td></tr><tr><td>test_loss</td><td>6.08163</td></tr><tr><td>trainer/global_step</td><td>0</td></tr></table><br/></div></div>"
      ],
      "text/plain": [
       "<IPython.core.display.HTML object>"
      ]
     },
     "metadata": {},
     "output_type": "display_data"
    },
    {
     "data": {
      "text/html": [
       " View run <strong style=\"color:#cdcd00\">Classifier</strong> at: <a href='https://wandb.ai/nest-ai/Self-supervised%20learning%20in-the-wild/runs/5awv0ggb' target=\"_blank\">https://wandb.ai/nest-ai/Self-supervised%20learning%20in-the-wild/runs/5awv0ggb</a><br/>Synced 5 W&B file(s), 0 media file(s), 0 artifact file(s) and 0 other file(s)"
      ],
      "text/plain": [
       "<IPython.core.display.HTML object>"
      ]
     },
     "metadata": {},
     "output_type": "display_data"
    },
    {
     "data": {
      "text/html": [
       "Find logs at: <code>.\\wandb\\run-20231210_195211-5awv0ggb\\logs</code>"
      ],
      "text/plain": [
       "<IPython.core.display.HTML object>"
      ]
     },
     "metadata": {},
     "output_type": "display_data"
    }
   ],
   "source": [
    "wandb_logger = l.pytorch.loggers.WandbLogger(\n",
    "    name=\"VICReg\", project=\"Self-supervised learning in-the-wild\"\n",
    ")\n",
    "callback = l.pytorch.callbacks.ModelCheckpoint(\n",
    "    monitor='vicreg_loss',\n",
    "    mode='min',\n",
    "    dirpath = './models/',\n",
    "    filename = 'best_model_vicreg',\n",
    ")\n",
    "\n",
    "ssl_model = VICReg()\n",
    "trainer = l.pytorch.Trainer(\n",
    "    max_epochs=max_epochs, devices=1, accelerator=accelerator, logger=[wandb_logger], callbacks=[callback]\n",
    ")\n",
    "trainer.fit(model=ssl_model, train_dataloaders=dataloader_train_vicreg)\n",
    "\n",
    "wandb.finish()"
   ]
  },
  {
   "cell_type": "code",
   "execution_count": null,
   "id": "1f81d0ba",
   "metadata": {},
   "outputs": [],
   "source": [
    "# Before running change ckpt_path to the correct one\n",
    "# ckpt_path = \"models/best_model_vicreg.ckpt\"\n",
    "\n",
    "# ssl_model = VICReg()\n",
    "# ssl_model.load_state_dict(torch.load(ckpt_path, map_location=torch.device('cpu'))['state_dict'])"
   ]
  },
  {
   "cell_type": "markdown",
   "id": "eb4c72b6",
   "metadata": {},
   "source": [
    "## Classifier training"
   ]
  },
  {
   "cell_type": "code",
   "execution_count": null,
   "id": "d98e94bb",
   "metadata": {},
   "outputs": [],
   "source": [
    "def train_classifier(wandb_name, filename, backbone, freeze, max_eps):\n",
    "    wandb_logger = l.pytorch.loggers.WandbLogger(\n",
    "        name=wandb_name, project=\"Self-supervised learning in-the-wild\"\n",
    "    )\n",
    "    callback = l.pytorch.callbacks.ModelCheckpoint(\n",
    "        monitor='val_acc',\n",
    "        mode='max',\n",
    "        dirpath = './models/',\n",
    "        filename = filename,\n",
    "    )\n",
    "\n",
    "    classifier = Classifier(backbone, freeze, num_classes, classifier_net)\n",
    "    trainer = l.pytorch.Trainer(\n",
    "        max_epochs=max_eps, devices=1, accelerator=accelerator, logger=[wandb_logger], callbacks=[callback]\n",
    "\n",
    "    )\n",
    "    trainer.fit(classifier, dataloader_train_classifier, dataloader_valid)\n",
    "\n",
    "    wandb.finish()\n",
    "\n",
    "    return classifier"
   ]
  },
  {
   "cell_type": "markdown",
   "id": "e0c68aee",
   "metadata": {},
   "source": [
    "### With ssl pretrained backbone and frozen weights"
   ]
  },
  {
   "cell_type": "code",
   "execution_count": null,
   "id": "033aebea",
   "metadata": {
    "scrolled": false
   },
   "outputs": [
    {
     "name": "stderr",
     "output_type": "stream",
     "text": [
      "GPU available: True (cuda), used: True\n",
      "TPU available: False, using: 0 TPU cores\n",
      "IPU available: False, using: 0 IPUs\n",
      "HPU available: False, using: 0 HPUs\n"
     ]
    },
    {
     "data": {
      "text/html": [
       "Tracking run with wandb version 0.16.1"
      ],
      "text/plain": [
       "<IPython.core.display.HTML object>"
      ]
     },
     "metadata": {},
     "output_type": "display_data"
    },
    {
     "data": {
      "text/html": [
       "Run data is saved locally in <code>.\\wandb\\run-20231210_164241-d522depp</code>"
      ],
      "text/plain": [
       "<IPython.core.display.HTML object>"
      ]
     },
     "metadata": {},
     "output_type": "display_data"
    },
    {
     "data": {
      "text/html": [
       "Syncing run <strong><a href='https://wandb.ai/nest-ai/Self-supervised%20learning%20in-the-wild/runs/d522depp' target=\"_blank\">Classifier ssl frozen backbone</a></strong> to <a href='https://wandb.ai/nest-ai/Self-supervised%20learning%20in-the-wild' target=\"_blank\">Weights & Biases</a> (<a href='https://wandb.me/run' target=\"_blank\">docs</a>)<br/>"
      ],
      "text/plain": [
       "<IPython.core.display.HTML object>"
      ]
     },
     "metadata": {},
     "output_type": "display_data"
    },
    {
     "data": {
      "text/html": [
       " View project at <a href='https://wandb.ai/nest-ai/Self-supervised%20learning%20in-the-wild' target=\"_blank\">https://wandb.ai/nest-ai/Self-supervised%20learning%20in-the-wild</a>"
      ],
      "text/plain": [
       "<IPython.core.display.HTML object>"
      ]
     },
     "metadata": {},
     "output_type": "display_data"
    },
    {
     "data": {
      "text/html": [
       " View run at <a href='https://wandb.ai/nest-ai/Self-supervised%20learning%20in-the-wild/runs/d522depp' target=\"_blank\">https://wandb.ai/nest-ai/Self-supervised%20learning%20in-the-wild/runs/d522depp</a>"
      ],
      "text/plain": [
       "<IPython.core.display.HTML object>"
      ]
     },
     "metadata": {},
     "output_type": "display_data"
    },
    {
     "name": "stderr",
     "output_type": "stream",
     "text": [
      "C:\\Users\\HLCaptain\\AppData\\Local\\Packages\\PythonSoftwareFoundation.Python.3.11_qbz5n2kfra8p0\\LocalCache\\local-packages\\Python311\\site-packages\\lightning\\pytorch\\callbacks\\model_checkpoint.py:639: Checkpoint directory ./models/ exists and is not empty.\n",
      "LOCAL_RANK: 0 - CUDA_VISIBLE_DEVICES: [0]\n",
      "\n",
      "  | Name      | Type               | Params\n",
      "-------------------------------------------------\n",
      "0 | backbone  | Sequential         | 11.2 M\n",
      "1 | fc        | Sequential         | 251 K \n",
      "2 | criterion | CrossEntropyLoss   | 0     \n",
      "3 | accuracy  | MulticlassAccuracy | 0     \n",
      "-------------------------------------------------\n",
      "251 K     Trainable params\n",
      "11.2 M    Non-trainable params\n",
      "11.4 M    Total params\n",
      "45.711    Total estimated model params size (MB)\n"
     ]
    },
    {
     "name": "stdout",
     "output_type": "stream",
     "text": [
      "Epoch 0:   0%|          | 0/165 [00:00<?, ?it/s]                           <class 'torch.Tensor'>\n",
      "tensor([[[[-0.5082, -0.5082, -0.6281,  ...,  0.7591,  0.8104,  0.8104],\n",
      "          [-0.5253, -0.4911, -0.5253,  ...,  0.6049,  0.6221,  0.7419],\n",
      "          [-0.4911, -0.4739, -0.4911,  ...,  0.5878,  0.5707,  0.6906],\n",
      "          ...,\n",
      "          [-0.1657, -0.1143,  0.0056,  ..., -0.5424, -0.5082, -0.5253],\n",
      "          [-0.2171, -0.1486,  0.0227,  ..., -0.5938, -0.5938, -0.5767],\n",
      "          [-0.2513, -0.1828, -0.0116,  ..., -0.6281, -0.7137, -0.7993]],\n",
      "\n",
      "         [[-0.3901, -0.4076, -0.5301,  ...,  0.9405,  0.9930,  0.9930],\n",
      "          [-0.3901, -0.3901, -0.4251,  ...,  0.7829,  0.8004,  0.9230],\n",
      "          [-0.3901, -0.3725, -0.3901,  ...,  0.7479,  0.7304,  0.8704],\n",
      "          ...,\n",
      "          [ 0.6429,  0.6954,  0.8179,  ...,  0.0476,  0.0476, -0.0049],\n",
      "          [ 0.6779,  0.7129,  0.8880,  ...,  0.0651,  0.0301,  0.0126],\n",
      "          [ 0.6779,  0.7129,  0.8880,  ...,  0.0126, -0.0749, -0.1975]],\n",
      "\n",
      "         [[-0.6541, -0.7064, -0.8284,  ...,  0.5136,  0.5659,  0.5659],\n",
      "          [-0.7064, -0.6890, -0.7238,  ...,  0.3568,  0.3742,  0.4962],\n",
      "          [-0.6890, -0.6715, -0.7064,  ...,  0.3742,  0.3568,  0.4439],\n",
      "          ...,\n",
      "          [-0.5844, -0.4973, -0.3404,  ..., -0.6890, -0.7238, -0.7587],\n",
      "          [-0.5844, -0.5670, -0.3927,  ..., -0.7064, -0.6890, -0.6890],\n",
      "          [-0.6367, -0.6193, -0.4450,  ..., -0.7064, -0.7587, -0.8633]]],\n",
      "\n",
      "\n",
      "        [[[-1.7583, -1.4843, -1.5014,  ..., -1.6042, -1.5870, -1.5699],\n",
      "          [-1.8268, -1.5185, -1.4329,  ..., -1.6042, -1.6042, -1.5870],\n",
      "          [-2.0152, -1.5870, -1.4500,  ..., -1.6555, -1.6384, -1.6384],\n",
      "          ...,\n",
      "          [-1.8097, -1.8610, -1.8782,  ..., -1.8782, -1.7412, -1.8782],\n",
      "          [-1.5357, -1.7069, -1.7240,  ..., -1.7754, -2.1008, -2.1008],\n",
      "          [-1.2788, -1.4158, -1.8782,  ..., -1.9295, -2.0494, -1.9980]],\n",
      "\n",
      "         [[-0.7752, -0.3901, -0.3901,  ..., -1.4230, -1.4055, -1.3880],\n",
      "          [-0.8102, -0.3725, -0.2500,  ..., -1.4230, -1.4230, -1.4055],\n",
      "          [-0.9678, -0.4426, -0.2675,  ..., -1.4755, -1.4580, -1.4580],\n",
      "          ...,\n",
      "          [-0.4776, -0.6001, -0.6877,  ..., -0.8102, -1.0028, -1.4055],\n",
      "          [-0.2325, -0.4426, -0.5301,  ..., -0.8277, -1.4230, -1.6506],\n",
      "          [ 0.0301, -0.1450, -0.6702,  ..., -1.0728, -1.3880, -1.5280]],\n",
      "\n",
      "         [[ 0.4091,  0.7925,  0.7054,  ..., -0.8458, -0.7936, -0.7761],\n",
      "          [ 0.3568,  0.7925,  0.8622,  ..., -0.8458, -0.8110, -0.7936],\n",
      "          [ 0.1999,  0.6879,  0.8099,  ..., -0.8981, -0.8458, -0.8458],\n",
      "          ...,\n",
      "          [ 0.5136,  0.3568,  0.3045,  ...,  0.2348,  0.0082, -0.5321],\n",
      "          [ 0.7228,  0.5136,  0.4614,  ...,  0.1128, -0.5844, -0.9504],\n",
      "          [ 0.9842,  0.8274,  0.3568,  ..., -0.1661, -0.6193, -0.8807]]],\n",
      "\n",
      "\n",
      "        [[[ 0.9646,  0.9817,  0.9303,  ...,  0.7077,  0.7077,  0.8104],\n",
      "          [ 0.9988,  0.9817,  0.9646,  ...,  0.8789,  0.6906,  0.7248],\n",
      "          [ 1.0159,  0.9988,  0.9817,  ...,  0.7248,  0.8276,  0.7077],\n",
      "          ...,\n",
      "          [ 1.2043,  1.1872,  1.1872,  ...,  2.2318,  1.9749,  1.4954],\n",
      "          [ 1.1700,  1.1700,  1.2043,  ...,  1.9235,  2.1290,  2.2147],\n",
      "          [ 1.1358,  1.1358,  1.1872,  ...,  1.5639,  1.5468,  1.6495]],\n",
      "\n",
      "         [[ 0.9230,  0.9055,  0.8529,  ...,  0.8529,  0.7654,  0.7829],\n",
      "          [ 0.9230,  0.9055,  0.8880,  ...,  1.0980,  0.8179,  0.7654],\n",
      "          [ 0.9405,  0.9230,  0.9055,  ...,  1.0280,  1.0280,  0.8179],\n",
      "          ...,\n",
      "          [ 1.0805,  1.0630,  1.0805,  ...,  1.6933,  1.5007,  1.0980],\n",
      "          [ 1.0455,  1.0455,  1.0805,  ...,  1.1331,  1.3782,  1.6057],\n",
      "          [ 1.0280,  1.0280,  1.0805,  ...,  0.4328,  0.4678,  0.6604]],\n",
      "\n",
      "         [[ 0.5834,  0.5311,  0.4788,  ...,  0.6531,  0.4265,  0.3742],\n",
      "          [ 0.5485,  0.5311,  0.5136,  ...,  1.0714,  0.6705,  0.5311],\n",
      "          [ 0.5659,  0.5485,  0.5311,  ...,  1.1585,  1.0539,  0.7751],\n",
      "          ...,\n",
      "          [ 0.7228,  0.7054,  0.7228,  ...,  0.3045,  0.1651, -0.1661],\n",
      "          [ 0.6356,  0.6356,  0.6705,  ..., -0.3927, -0.0441,  0.2348],\n",
      "          [ 0.5659,  0.5659,  0.6182,  ..., -1.0376, -0.9156, -0.6367]]],\n",
      "\n",
      "\n",
      "        ...,\n",
      "\n",
      "\n",
      "        [[[-1.2788, -1.2445, -1.0048,  ...,  0.5536,  0.3309,  0.6734],\n",
      "          [-0.9020, -0.8507, -0.6965,  ...,  0.3309,  0.5878,  0.0741],\n",
      "          [-0.5082, -0.3883, -0.4397,  ...,  0.3481,  0.4337, -0.0116],\n",
      "          ...,\n",
      "          [-1.7583, -1.6555, -1.5528,  ..., -1.0219, -0.9877, -1.0904],\n",
      "          [-1.8610, -1.6727, -1.5528,  ..., -1.0562, -1.1418, -1.1418],\n",
      "          [-1.7069, -1.6727, -1.5870,  ..., -1.0048, -1.2445, -1.3987]],\n",
      "\n",
      "         [[-0.3550, -0.5476, -0.5476,  ...,  0.7654,  0.5903,  0.8880],\n",
      "          [-0.3901, -0.5476, -0.6527,  ...,  0.5378,  0.8529,  0.3277],\n",
      "          [-0.4776, -0.6176, -0.8452,  ...,  0.4678,  0.6429,  0.1877],\n",
      "          ...,\n",
      "          [-1.2129, -1.1253, -1.1078,  ..., -1.1604, -0.9678, -1.0553],\n",
      "          [-1.3354, -1.2479, -1.3004,  ..., -1.0203, -1.0203, -1.0203],\n",
      "          [-1.1604, -1.3179, -1.4580,  ..., -0.9678, -1.1429, -1.3179]],\n",
      "\n",
      "         [[-1.0724, -1.2119, -1.1770,  ...,  1.1759,  0.9842,  1.3154],\n",
      "          [-0.9330, -1.0550, -1.0898,  ...,  0.9668,  1.2108,  0.7228],\n",
      "          [-0.8110, -0.8633, -1.1073,  ...,  0.9319,  1.0191,  0.5659],\n",
      "          ...,\n",
      "          [-1.4559, -1.4036, -1.3164,  ..., -0.9504, -0.7936, -0.8110],\n",
      "          [-1.6650, -1.5081, -1.4384,  ..., -0.9504, -0.8981, -0.8807],\n",
      "          [-1.5779, -1.6302, -1.6127,  ..., -0.9330, -1.0550, -1.1770]]],\n",
      "\n",
      "\n",
      "        [[[-0.9363, -1.5185, -1.3644,  ..., -0.2684, -0.0116,  0.6734],\n",
      "          [-0.8164, -1.4329, -1.2959,  ...,  0.1254,  0.2967,  0.9474],\n",
      "          [-1.5528, -1.2788, -1.2274,  ...,  0.4337,  0.5364,  0.6906],\n",
      "          ...,\n",
      "          [-0.5253, -0.7993, -0.9534,  ..., -1.5357, -1.4500, -1.4329],\n",
      "          [-0.6965, -0.8507, -0.9192,  ..., -1.0733, -1.1932, -1.0562],\n",
      "          [-0.7137, -0.6965, -0.9534,  ..., -1.2445, -0.9534, -0.8849]],\n",
      "\n",
      "         [[-0.4076, -1.1429, -1.1429,  ..., -0.4601, -0.2325,  0.4678],\n",
      "          [-0.3550, -1.1253, -1.0903,  ..., -0.0924,  0.0826,  0.7479],\n",
      "          [-1.1078, -0.9678, -1.0728,  ...,  0.2227,  0.3277,  0.4853],\n",
      "          ...,\n",
      "          [-0.2500, -0.5301, -0.6877,  ..., -1.6856, -1.6681, -1.7031],\n",
      "          [-0.4251, -0.5826, -0.6527,  ..., -1.2654, -1.4930, -1.4230],\n",
      "          [-0.4426, -0.4251, -0.6877,  ..., -1.5280, -1.3354, -1.3354]],\n",
      "\n",
      "         [[ 0.4439, -0.4798, -0.6018,  ..., -0.4101, -0.2010,  0.4962],\n",
      "          [ 0.4788, -0.4798, -0.5844,  ..., -0.0267,  0.1128,  0.7751],\n",
      "          [-0.3055, -0.3230, -0.5844,  ...,  0.2871,  0.3568,  0.5136],\n",
      "          ...,\n",
      "          [ 0.0953, -0.1835, -0.3404,  ..., -1.5081, -1.5081, -1.5604],\n",
      "          [-0.0790, -0.2358, -0.2707,  ..., -1.1596, -1.3687, -1.3513],\n",
      "          [-0.0615, -0.0441, -0.3055,  ..., -1.5256, -1.3164, -1.3687]]],\n",
      "\n",
      "\n",
      "        [[[-1.2617, -1.3302, -1.3644,  ..., -0.8678,  0.0398, -0.9020],\n",
      "          [-1.3815, -1.3302, -1.3473,  ..., -0.7137, -0.1486, -1.0733],\n",
      "          [-1.4329, -1.3987, -1.3644,  ..., -0.3027, -0.8335, -0.7993],\n",
      "          ...,\n",
      "          [ 0.0398, -0.3027, -0.8335,  ..., -0.0629, -0.3027, -0.9363],\n",
      "          [-0.4739, -0.7137, -0.9192,  ...,  1.1358,  0.4166,  0.7933],\n",
      "          [-0.3027, -0.3027, -0.5082,  ..., -0.5767,  0.3652,  1.0159]],\n",
      "\n",
      "         [[-1.2129, -1.2829, -1.3004,  ..., -0.6176,  0.3102, -0.6527],\n",
      "          [-1.2654, -1.2654, -1.2654,  ..., -0.6001,  0.0301, -0.8803],\n",
      "          [-1.2829, -1.2829, -1.2829,  ..., -0.2850, -0.7227, -0.6702],\n",
      "          ...,\n",
      "          [-0.3200, -0.6176, -1.0378,  ..., -0.3901, -0.5826, -1.2304],\n",
      "          [-0.6176, -0.8627, -0.9328,  ...,  0.8880,  0.0826,  0.4853],\n",
      "          [-0.1975, -0.1975, -0.3375,  ..., -0.8102,  0.0126,  0.6954]],\n",
      "\n",
      "         [[-1.2816, -1.3513, -1.3339,  ..., -0.6193,  0.3393, -0.6193],\n",
      "          [-1.2816, -1.2990, -1.3861,  ..., -0.5844,  0.0605, -0.7761],\n",
      "          [-1.3513, -1.3339, -1.4036,  ..., -0.2707, -0.6715, -0.5495],\n",
      "          ...,\n",
      "          [-0.1661, -0.4798, -0.8458,  ..., -0.4275, -0.6367, -1.2467],\n",
      "          [-0.3055, -0.5495, -0.5844,  ...,  0.8274,  0.0082,  0.4439],\n",
      "          [ 0.2696,  0.3045,  0.1476,  ..., -0.7413, -0.0092,  0.6182]]]],\n",
      "       device='cuda:0')\n",
      "<class 'torch.Tensor'>\n",
      "Epoch 99: 100%|██████████| 165/165 [00:20<00:00,  7.86it/s, v_num=depp, val_acc=0.0114] "
     ]
    },
    {
     "name": "stderr",
     "output_type": "stream",
     "text": [
      "`Trainer.fit` stopped: `max_epochs=100` reached.\n"
     ]
    },
    {
     "name": "stdout",
     "output_type": "stream",
     "text": [
      "Epoch 99: 100%|██████████| 165/165 [00:21<00:00,  7.86it/s, v_num=depp, val_acc=0.0114]\n"
     ]
    },
    {
     "data": {
      "text/html": [
       "<style>\n",
       "    table.wandb td:nth-child(1) { padding: 0 10px; text-align: left ; width: auto;} td:nth-child(2) {text-align: left ; width: 100%}\n",
       "    .wandb-row { display: flex; flex-direction: row; flex-wrap: wrap; justify-content: flex-start; width: 100% }\n",
       "    .wandb-col { display: flex; flex-direction: column; flex-basis: 100%; flex: 1; padding: 10px; }\n",
       "    </style>\n",
       "<div class=\"wandb-row\"><div class=\"wandb-col\"><h3>Run history:</h3><br/><table class=\"wandb\"><tr><td>classifier_loss</td><td>█▇▇▆▇▆▆▆▇▅▆▅▄▆▄▆▅▄▄▄▅▄▄▄▃▃▄▃▄▃▄▃▅▁▅▄▄▃▄▃</td></tr><tr><td>epoch</td><td>▁▁▁▂▂▂▂▂▂▃▃▃▃▃▄▄▄▄▄▄▅▅▅▅▅▅▆▆▆▆▆▇▇▇▇▇▇███</td></tr><tr><td>trainer/global_step</td><td>▁▁▁▂▂▂▂▂▂▃▃▃▃▃▄▄▄▄▄▄▅▅▅▅▅▅▆▆▆▆▆▇▇▇▇▇▇███</td></tr><tr><td>val_acc</td><td>▁▂▂▃▄▅▂▅▃▄▅▄▅▆▂▄▆▄▄▄▇▆▅▅▇▄▆▅▅▄▄▄▅▅▆▆█▆▆▇</td></tr></table><br/></div><div class=\"wandb-col\"><h3>Run summary:</h3><br/><table class=\"wandb\"><tr><td>classifier_loss</td><td>5.90386</td></tr><tr><td>epoch</td><td>99</td></tr><tr><td>trainer/global_step</td><td>16499</td></tr><tr><td>val_acc</td><td>0.01143</td></tr></table><br/></div></div>"
      ],
      "text/plain": [
       "<IPython.core.display.HTML object>"
      ]
     },
     "metadata": {},
     "output_type": "display_data"
    },
    {
     "data": {
      "text/html": [
       " View run <strong style=\"color:#cdcd00\">Classifier ssl frozen backbone</strong> at: <a href='https://wandb.ai/nest-ai/Self-supervised%20learning%20in-the-wild/runs/d522depp' target=\"_blank\">https://wandb.ai/nest-ai/Self-supervised%20learning%20in-the-wild/runs/d522depp</a><br/>Synced 5 W&B file(s), 0 media file(s), 0 artifact file(s) and 0 other file(s)"
      ],
      "text/plain": [
       "<IPython.core.display.HTML object>"
      ]
     },
     "metadata": {},
     "output_type": "display_data"
    },
    {
     "data": {
      "text/html": [
       "Find logs at: <code>.\\wandb\\run-20231210_164241-d522depp\\logs</code>"
      ],
      "text/plain": [
       "<IPython.core.display.HTML object>"
      ]
     },
     "metadata": {},
     "output_type": "display_data"
    }
   ],
   "source": [
    "model_ssl_frozen = train_classifier(\"Classifier ssl frozen backbone\",\n",
    "                                    'best_model_with_ssl_frozen',\n",
    "                                    ssl_model.backbone, True, max_epochs)"
   ]
  },
  {
   "cell_type": "code",
   "execution_count": null,
   "id": "ff2fcbe8",
   "metadata": {},
   "outputs": [
    {
     "name": "stderr",
     "output_type": "stream",
     "text": [
      "C:\\Users\\HLCaptain\\AppData\\Local\\Packages\\PythonSoftwareFoundation.Python.3.11_qbz5n2kfra8p0\\LocalCache\\local-packages\\Python311\\site-packages\\torchvision\\models\\_utils.py:208: UserWarning: The parameter 'pretrained' is deprecated since 0.13 and may be removed in the future, please use 'weights' instead.\n",
      "  warnings.warn(\n",
      "C:\\Users\\HLCaptain\\AppData\\Local\\Packages\\PythonSoftwareFoundation.Python.3.11_qbz5n2kfra8p0\\LocalCache\\local-packages\\Python311\\site-packages\\torchvision\\models\\_utils.py:223: UserWarning: Arguments other than a weight enum or `None` for 'weights' are deprecated since 0.13 and may be removed in the future. The current behavior is equivalent to passing `weights=ResNet18_Weights.IMAGENET1K_V1`. You can also use `weights=ResNet18_Weights.DEFAULT` to get the most up-to-date weights.\n",
      "  warnings.warn(msg)\n"
     ]
    },
    {
     "data": {
      "text/plain": [
       "<All keys matched successfully>"
      ]
     },
     "execution_count": 16,
     "metadata": {},
     "output_type": "execute_result"
    }
   ],
   "source": [
    "# Before running, change ckpt_with_classifier_path to the correct one\n",
    "# and comment out the lines below.\n",
    "\n",
    "ckpt_with_classifier_path = \"models/best_model_with_ssl_frozen.ckpt\"\n",
    "\n",
    "ssl_model = VICReg()\n",
    "model_ssl_frozen = Classifier(ssl_model.backbone, True, num_classes, classifier_net)\n",
    "model_ssl_frozen.load_state_dict(torch.load(ckpt_with_classifier_path, map_location=torch.device('cpu'))['state_dict'])"
   ]
  },
  {
   "cell_type": "markdown",
   "id": "580c2347",
   "metadata": {},
   "source": [
    "### With ssl pretrained backbone and NOT frozen weights"
   ]
  },
  {
   "cell_type": "code",
   "execution_count": null,
   "id": "9514e43e",
   "metadata": {},
   "outputs": [
    {
     "name": "stderr",
     "output_type": "stream",
     "text": [
      "GPU available: True (cuda), used: True\n",
      "TPU available: False, using: 0 TPU cores\n",
      "IPU available: False, using: 0 IPUs\n",
      "HPU available: False, using: 0 HPUs\n"
     ]
    },
    {
     "data": {
      "text/html": [
       "Tracking run with wandb version 0.16.1"
      ],
      "text/plain": [
       "<IPython.core.display.HTML object>"
      ]
     },
     "metadata": {},
     "output_type": "display_data"
    },
    {
     "data": {
      "text/html": [
       "Run data is saved locally in <code>.\\wandb\\run-20231210_172440-svp9v0ou</code>"
      ],
      "text/plain": [
       "<IPython.core.display.HTML object>"
      ]
     },
     "metadata": {},
     "output_type": "display_data"
    },
    {
     "data": {
      "text/html": [
       "Syncing run <strong><a href='https://wandb.ai/nest-ai/Self-supervised%20learning%20in-the-wild/runs/svp9v0ou' target=\"_blank\">Classifier ssl not frozen backbone</a></strong> to <a href='https://wandb.ai/nest-ai/Self-supervised%20learning%20in-the-wild' target=\"_blank\">Weights & Biases</a> (<a href='https://wandb.me/run' target=\"_blank\">docs</a>)<br/>"
      ],
      "text/plain": [
       "<IPython.core.display.HTML object>"
      ]
     },
     "metadata": {},
     "output_type": "display_data"
    },
    {
     "data": {
      "text/html": [
       " View project at <a href='https://wandb.ai/nest-ai/Self-supervised%20learning%20in-the-wild' target=\"_blank\">https://wandb.ai/nest-ai/Self-supervised%20learning%20in-the-wild</a>"
      ],
      "text/plain": [
       "<IPython.core.display.HTML object>"
      ]
     },
     "metadata": {},
     "output_type": "display_data"
    },
    {
     "data": {
      "text/html": [
       " View run at <a href='https://wandb.ai/nest-ai/Self-supervised%20learning%20in-the-wild/runs/svp9v0ou' target=\"_blank\">https://wandb.ai/nest-ai/Self-supervised%20learning%20in-the-wild/runs/svp9v0ou</a>"
      ],
      "text/plain": [
       "<IPython.core.display.HTML object>"
      ]
     },
     "metadata": {},
     "output_type": "display_data"
    },
    {
     "name": "stderr",
     "output_type": "stream",
     "text": [
      "C:\\Users\\HLCaptain\\AppData\\Local\\Packages\\PythonSoftwareFoundation.Python.3.11_qbz5n2kfra8p0\\LocalCache\\local-packages\\Python311\\site-packages\\lightning\\pytorch\\callbacks\\model_checkpoint.py:639: Checkpoint directory ./models/ exists and is not empty.\n",
      "LOCAL_RANK: 0 - CUDA_VISIBLE_DEVICES: [0]\n",
      "\n",
      "  | Name      | Type               | Params\n",
      "-------------------------------------------------\n",
      "0 | backbone  | Sequential         | 11.2 M\n",
      "1 | fc        | Sequential         | 251 K \n",
      "2 | criterion | CrossEntropyLoss   | 0     \n",
      "3 | accuracy  | MulticlassAccuracy | 0     \n",
      "-------------------------------------------------\n",
      "251 K     Trainable params\n",
      "11.2 M    Non-trainable params\n",
      "11.4 M    Total params\n",
      "45.711    Total estimated model params size (MB)\n"
     ]
    },
    {
     "name": "stdout",
     "output_type": "stream",
     "text": [
      "Epoch 0:   0%|          | 0/165 [00:00<?, ?it/s]                           <class 'torch.Tensor'>\n",
      "tensor([[[[-1.6042, -1.5357, -1.1418,  ..., -1.0733, -1.1418, -1.0904],\n",
      "          [-1.5357, -1.4843, -1.0904,  ..., -1.0390, -1.1932, -1.2274],\n",
      "          [-1.6042, -1.4672, -1.0390,  ..., -1.1760, -1.2959, -1.3130],\n",
      "          ...,\n",
      "          [ 0.1939,  0.3309,  0.5022,  ..., -1.5014, -1.5528, -1.5699],\n",
      "          [ 0.1083,  0.1939,  0.2967,  ..., -1.6042, -1.6042, -1.5699],\n",
      "          [-0.0972, -0.0287,  0.0398,  ..., -1.6898, -1.6555, -1.6213]],\n",
      "\n",
      "         [[-1.5980, -1.5280, -1.1253,  ..., -1.1779, -1.2479, -1.1954],\n",
      "          [-1.5280, -1.4755, -1.0728,  ..., -1.1429, -1.3004, -1.3354],\n",
      "          [-1.5980, -1.4580, -1.0203,  ..., -1.2479, -1.3704, -1.3880],\n",
      "          ...,\n",
      "          [ 1.1856,  1.2731,  1.3431,  ..., -1.4930, -1.5455, -1.5630],\n",
      "          [ 1.1856,  1.2206,  1.2206,  ..., -1.5630, -1.5630, -1.5280],\n",
      "          [ 1.0455,  1.0455,  1.0455,  ..., -1.6506, -1.6155, -1.5805]],\n",
      "\n",
      "         [[-1.4384, -1.4036, -1.0027,  ..., -1.1944, -1.2990, -1.2467],\n",
      "          [-1.3687, -1.3513, -0.9504,  ..., -1.1247, -1.3164, -1.3164],\n",
      "          [-1.4384, -1.2990, -0.8633,  ..., -1.1944, -1.3513, -1.3339],\n",
      "          ...,\n",
      "          [-0.0267,  0.2348,  0.4788,  ..., -1.3339, -1.3861, -1.4036],\n",
      "          [-0.0615,  0.1302,  0.2696,  ..., -1.4559, -1.4559, -1.4210],\n",
      "          [-0.2532, -0.0964, -0.0092,  ..., -1.5430, -1.5081, -1.4733]]],\n",
      "\n",
      "\n",
      "        [[[-1.8439, -1.8953, -1.7583,  ..., -1.2788, -0.8849, -0.7650],\n",
      "          [-1.8097, -1.9467, -1.7925,  ..., -1.1932, -0.9020, -0.7822],\n",
      "          [-1.6727, -1.8610, -1.8439,  ..., -1.1418, -0.9363, -0.8164],\n",
      "          ...,\n",
      "          [-0.8507, -1.0048, -1.0733,  ..., -1.2788, -1.0733, -1.1418],\n",
      "          [-0.8849, -1.1075, -1.2103,  ..., -1.2274, -1.0219, -1.1932],\n",
      "          [-0.9534, -1.2617, -1.3815,  ..., -1.1247, -0.9534, -1.1760]],\n",
      "\n",
      "         [[-1.4230, -1.4755, -1.3354,  ..., -1.0028, -0.5476, -0.3550],\n",
      "          [-1.3880, -1.4930, -1.3704,  ..., -0.9328, -0.5651, -0.4426],\n",
      "          [-1.2479, -1.4055, -1.3880,  ..., -0.8978, -0.6352, -0.5126],\n",
      "          ...,\n",
      "          [-0.2675, -0.4426, -0.5126,  ..., -0.8452, -0.6702, -0.7402],\n",
      "          [-0.3025, -0.5476, -0.6527,  ..., -0.7927, -0.6176, -0.7927],\n",
      "          [-0.3725, -0.7052, -0.8277,  ..., -0.6877, -0.5476, -0.7752]],\n",
      "\n",
      "         [[-0.8981, -0.9504, -0.8110,  ..., -0.5670, -0.0441,  0.1476],\n",
      "          [-0.8633, -0.9678, -0.8458,  ..., -0.4101, -0.0441,  0.0779],\n",
      "          [-0.7238, -0.8807, -0.8633,  ..., -0.3404, -0.0964,  0.0605],\n",
      "          ...,\n",
      "          [ 0.3219,  0.1825,  0.1128,  ..., -0.3230, -0.1312, -0.2358],\n",
      "          [ 0.2871,  0.0779, -0.0267,  ..., -0.2707, -0.0790, -0.2881],\n",
      "          [ 0.2173, -0.0790, -0.2010,  ..., -0.1661, -0.0092, -0.2707]]],\n",
      "\n",
      "\n",
      "        [[[-0.1486,  0.7762,  0.6392,  ..., -1.1932, -1.1247, -1.2274],\n",
      "          [ 0.1597,  0.8276,  0.6563,  ..., -0.1486, -0.2513, -0.5938],\n",
      "          [ 0.4851,  0.7591,  0.6563,  ...,  0.2967,  0.2453,  0.1426],\n",
      "          ...,\n",
      "          [ 0.7248,  0.6049,  0.4851,  ...,  0.2967,  0.3309,  0.3823],\n",
      "          [ 0.6906,  0.5536,  0.4508,  ...,  0.3138,  0.3138,  0.3481],\n",
      "          [ 0.6734,  0.5707,  0.4508,  ...,  0.3481,  0.3309,  0.3652]],\n",
      "\n",
      "         [[-0.0924,  0.8354,  0.6954,  ..., -1.5455, -1.3179, -1.3529],\n",
      "          [ 0.2052,  0.8880,  0.7129,  ..., -0.3550, -0.3550, -0.6702],\n",
      "          [ 0.5378,  0.8004,  0.6954,  ...,  0.2052,  0.2402,  0.1001],\n",
      "          ...,\n",
      "          [ 0.7304,  0.6078,  0.4678,  ...,  0.4853,  0.4853,  0.5378],\n",
      "          [ 0.6954,  0.5553,  0.4678,  ...,  0.5028,  0.5028,  0.5378],\n",
      "          [ 0.6779,  0.5728,  0.4678,  ...,  0.5378,  0.5203,  0.5553]],\n",
      "\n",
      "         [[-0.0267,  0.9494,  0.8448,  ..., -1.7870, -1.6127, -1.6824],\n",
      "          [ 0.3568,  1.0365,  0.8797,  ..., -0.6890, -0.6890, -1.0027],\n",
      "          [ 0.7054,  1.0191,  0.9494,  ..., -0.1835, -0.1661, -0.2881],\n",
      "          ...,\n",
      "          [ 0.9145,  0.7751,  0.6008,  ..., -0.1138, -0.0615,  0.0256],\n",
      "          [ 0.8797,  0.7228,  0.5834,  ..., -0.0964, -0.0615,  0.0082],\n",
      "          [ 0.8622,  0.7402,  0.5834,  ..., -0.0615, -0.0441, -0.0092]]],\n",
      "\n",
      "\n",
      "        ...,\n",
      "\n",
      "\n",
      "        [[[-0.0458, -0.0287, -0.0287,  ..., -1.3644, -1.3644, -1.5185],\n",
      "          [-0.0629, -0.0629, -0.0801,  ..., -1.4500, -1.5357, -1.2617],\n",
      "          [-0.0801, -0.0801, -0.0801,  ..., -1.5014, -1.2959, -1.3130],\n",
      "          ...,\n",
      "          [ 0.0569,  0.0912,  0.0912,  ...,  1.9407,  1.1529,  1.9235],\n",
      "          [ 0.0227,  0.0569,  0.0569,  ...,  1.8550,  1.0502,  1.8550],\n",
      "          [ 0.0227,  0.0569,  0.0741,  ...,  1.9920,  2.0263,  1.9407]],\n",
      "\n",
      "         [[ 0.3803,  0.3803,  0.3978,  ..., -1.5105, -1.4580, -1.6155],\n",
      "          [ 0.3803,  0.3803,  0.3627,  ..., -1.5980, -1.6331, -1.3529],\n",
      "          [ 0.3627,  0.3627,  0.3627,  ..., -1.6506, -1.4405, -1.4580],\n",
      "          ...,\n",
      "          [ 0.2752,  0.2752,  0.2752,  ...,  1.6057,  0.8179,  1.5707],\n",
      "          [ 0.2402,  0.2402,  0.2402,  ...,  1.5532,  0.7304,  1.5357],\n",
      "          [ 0.2052,  0.2052,  0.2227,  ...,  1.6933,  1.7283,  1.6232]],\n",
      "\n",
      "         [[ 0.9494,  1.0017,  0.9668,  ..., -1.3339, -1.2641, -1.4210],\n",
      "          [ 0.9842,  1.0191,  0.9668,  ..., -1.4210, -1.4384, -1.1596],\n",
      "          [ 1.0017,  1.0017,  1.0017,  ..., -1.4733, -1.2293, -1.2467],\n",
      "          ...,\n",
      "          [ 0.3742,  0.3393,  0.3393,  ...,  1.6814,  0.8448,  1.6117],\n",
      "          [ 0.3393,  0.3393,  0.3393,  ...,  1.6117,  0.7576,  1.5594],\n",
      "          [ 0.3045,  0.3219,  0.3393,  ...,  1.7511,  1.7511,  1.6465]]],\n",
      "\n",
      "\n",
      "        [[[ 0.5878,  0.6049,  0.5707,  ...,  0.6906,  0.6906,  0.7077],\n",
      "          [ 0.6221,  0.5878,  0.6049,  ...,  0.6734,  0.6734,  0.6906],\n",
      "          [ 0.6221,  0.6049,  0.6221,  ...,  0.6906,  0.6906,  0.6906],\n",
      "          ...,\n",
      "          [ 0.6049,  0.6049,  0.6049,  ...,  0.5022,  0.5022,  0.4851],\n",
      "          [ 0.6049,  0.5878,  0.5878,  ...,  0.5193,  0.5022,  0.5193],\n",
      "          [ 0.5707,  0.6049,  0.5878,  ...,  0.5022,  0.5022,  0.5022]],\n",
      "\n",
      "         [[ 0.6779,  0.6954,  0.6604,  ...,  0.8004,  0.8004,  0.8179],\n",
      "          [ 0.7129,  0.6779,  0.6954,  ...,  0.7829,  0.7829,  0.8004],\n",
      "          [ 0.7129,  0.6954,  0.7129,  ...,  0.8004,  0.8004,  0.8004],\n",
      "          ...,\n",
      "          [ 0.8179,  0.8179,  0.8354,  ...,  0.7654,  0.7654,  0.7479],\n",
      "          [ 0.8179,  0.8179,  0.8179,  ...,  0.7829,  0.7654,  0.7829],\n",
      "          [ 0.8179,  0.8529,  0.8529,  ...,  0.7654,  0.7654,  0.7654]],\n",
      "\n",
      "         [[-0.0267, -0.0092, -0.0441,  ...,  0.1302,  0.1302,  0.1476],\n",
      "          [ 0.0431,  0.0082,  0.0256,  ...,  0.1128,  0.1128,  0.1302],\n",
      "          [ 0.0431,  0.0256,  0.0431,  ...,  0.1302,  0.1302,  0.1302],\n",
      "          ...,\n",
      "          [ 0.0082, -0.0267, -0.0615,  ..., -0.3753, -0.3753, -0.3927],\n",
      "          [-0.0267, -0.0790, -0.1138,  ..., -0.3578, -0.3753, -0.3578],\n",
      "          [-0.0790, -0.0441, -0.0964,  ..., -0.3753, -0.3753, -0.3753]]],\n",
      "\n",
      "\n",
      "        [[[ 1.4612,  1.1015,  1.2385,  ..., -0.5082, -0.4568, -0.4226],\n",
      "          [ 1.4440,  1.4269,  1.1529,  ..., -0.5596, -0.5253, -0.5082],\n",
      "          [ 1.3242,  1.4098,  1.4440,  ..., -0.6281, -0.6109, -0.5424],\n",
      "          ...,\n",
      "          [ 0.9474,  0.9988,  1.3927,  ..., -0.1314, -0.1143, -0.0972],\n",
      "          [ 1.2214,  0.9303,  1.4954,  ..., -0.1314, -0.1143, -0.0972],\n",
      "          [ 1.1015,  1.1872,  1.3584,  ..., -0.1657, -0.1486, -0.1314]],\n",
      "\n",
      "         [[ 1.5882,  1.2206,  1.3606,  ..., -0.0399,  0.0126,  0.0476],\n",
      "          [ 1.5707,  1.5532,  1.2731,  ..., -0.1450, -0.0574, -0.0399],\n",
      "          [ 1.4482,  1.5357,  1.5707,  ..., -0.2675, -0.1975, -0.1275],\n",
      "          ...,\n",
      "          [ 1.0455,  1.1331,  1.5357,  ...,  0.3627,  0.3803,  0.3627],\n",
      "          [ 1.3256,  1.0280,  1.6057,  ...,  0.3277,  0.3452,  0.3102],\n",
      "          [ 1.2031,  1.2906,  1.4657,  ...,  0.2927,  0.3102,  0.2752]],\n",
      "\n",
      "         [[ 1.9951,  1.6291,  1.7685,  ..., -0.8458, -0.8284, -0.7936],\n",
      "          [ 1.9777,  1.9603,  1.6814,  ..., -0.8807, -0.8633, -0.8458],\n",
      "          [ 1.8557,  1.9428,  1.9777,  ..., -0.9678, -0.9156, -0.8458],\n",
      "          ...,\n",
      "          [ 1.4200,  1.4897,  1.8905,  ..., -1.0376, -1.0201, -0.9853],\n",
      "          [ 1.6988,  1.4025,  1.9777,  ..., -1.0201, -1.0027, -1.0027],\n",
      "          [ 1.5768,  1.6640,  1.8034,  ..., -1.0550, -1.0376, -1.0376]]]],\n",
      "       device='cuda:0')\n",
      "<class 'torch.Tensor'>\n",
      "Epoch 99: 100%|██████████| 165/165 [00:20<00:00,  8.06it/s, v_num=v0ou, val_acc=0.0122] "
     ]
    },
    {
     "name": "stderr",
     "output_type": "stream",
     "text": [
      "`Trainer.fit` stopped: `max_epochs=100` reached.\n"
     ]
    },
    {
     "name": "stdout",
     "output_type": "stream",
     "text": [
      "Epoch 99: 100%|██████████| 165/165 [00:20<00:00,  8.06it/s, v_num=v0ou, val_acc=0.0122]\n"
     ]
    },
    {
     "data": {
      "text/html": [
       "<style>\n",
       "    table.wandb td:nth-child(1) { padding: 0 10px; text-align: left ; width: auto;} td:nth-child(2) {text-align: left ; width: 100%}\n",
       "    .wandb-row { display: flex; flex-direction: row; flex-wrap: wrap; justify-content: flex-start; width: 100% }\n",
       "    .wandb-col { display: flex; flex-direction: column; flex-basis: 100%; flex: 1; padding: 10px; }\n",
       "    </style>\n",
       "<div class=\"wandb-row\"><div class=\"wandb-col\"><h3>Run history:</h3><br/><table class=\"wandb\"><tr><td>classifier_loss</td><td>██▆▄▅▅▄▅▅▅▄▆▆▅▆▅▅▅▄▄▃▂▃▅▅▃▄▄▃▄▄▂▃▁▃▃▃▃▄▂</td></tr><tr><td>epoch</td><td>▁▁▁▂▂▂▂▂▂▃▃▃▃▃▄▄▄▄▄▄▅▅▅▅▅▅▆▆▆▆▆▇▇▇▇▇▇███</td></tr><tr><td>trainer/global_step</td><td>▁▁▁▂▂▂▂▂▂▃▃▃▃▃▄▄▄▄▄▄▅▅▅▅▅▅▆▆▆▆▆▇▇▇▇▇▇███</td></tr><tr><td>val_acc</td><td>▁▃▄▃▁▅▃▂▄▃▄▃▄▆▄▃▅▅▄▇▃▃▆▆▅▃▆▆▅▆▆▅▄▄▇█▇▇▇▇</td></tr></table><br/></div><div class=\"wandb-col\"><h3>Run summary:</h3><br/><table class=\"wandb\"><tr><td>classifier_loss</td><td>5.90266</td></tr><tr><td>epoch</td><td>99</td></tr><tr><td>trainer/global_step</td><td>16499</td></tr><tr><td>val_acc</td><td>0.01219</td></tr></table><br/></div></div>"
      ],
      "text/plain": [
       "<IPython.core.display.HTML object>"
      ]
     },
     "metadata": {},
     "output_type": "display_data"
    },
    {
     "data": {
      "text/html": [
       " View run <strong style=\"color:#cdcd00\">Classifier ssl not frozen backbone</strong> at: <a href='https://wandb.ai/nest-ai/Self-supervised%20learning%20in-the-wild/runs/svp9v0ou' target=\"_blank\">https://wandb.ai/nest-ai/Self-supervised%20learning%20in-the-wild/runs/svp9v0ou</a><br/>Synced 5 W&B file(s), 0 media file(s), 0 artifact file(s) and 0 other file(s)"
      ],
      "text/plain": [
       "<IPython.core.display.HTML object>"
      ]
     },
     "metadata": {},
     "output_type": "display_data"
    },
    {
     "data": {
      "text/html": [
       "Find logs at: <code>.\\wandb\\run-20231210_172440-svp9v0ou\\logs</code>"
      ],
      "text/plain": [
       "<IPython.core.display.HTML object>"
      ]
     },
     "metadata": {},
     "output_type": "display_data"
    }
   ],
   "source": [
    "model_ssl_not_frozen = train_classifier(\"Classifier ssl not frozen backbone\",\n",
    "                                        'best_model_with_ssl_not_frozen',\n",
    "                                        ssl_model.backbone, False, max_epochs)"
   ]
  },
  {
   "cell_type": "code",
   "execution_count": null,
   "id": "840b03e3",
   "metadata": {},
   "outputs": [
    {
     "name": "stderr",
     "output_type": "stream",
     "text": [
      "C:\\Users\\HLCaptain\\AppData\\Local\\Packages\\PythonSoftwareFoundation.Python.3.11_qbz5n2kfra8p0\\LocalCache\\local-packages\\Python311\\site-packages\\torchvision\\models\\_utils.py:208: UserWarning: The parameter 'pretrained' is deprecated since 0.13 and may be removed in the future, please use 'weights' instead.\n",
      "  warnings.warn(\n",
      "C:\\Users\\HLCaptain\\AppData\\Local\\Packages\\PythonSoftwareFoundation.Python.3.11_qbz5n2kfra8p0\\LocalCache\\local-packages\\Python311\\site-packages\\torchvision\\models\\_utils.py:223: UserWarning: Arguments other than a weight enum or `None` for 'weights' are deprecated since 0.13 and may be removed in the future. The current behavior is equivalent to passing `weights=ResNet18_Weights.IMAGENET1K_V1`. You can also use `weights=ResNet18_Weights.DEFAULT` to get the most up-to-date weights.\n",
      "  warnings.warn(msg)\n"
     ]
    },
    {
     "data": {
      "text/plain": [
       "<All keys matched successfully>"
      ]
     },
     "execution_count": 18,
     "metadata": {},
     "output_type": "execute_result"
    }
   ],
   "source": [
    "# Before running, change ckpt_with_classifier_path to the correct one\n",
    "# and comment out the lines below.\n",
    "\n",
    "ckpt_with_classifier_path = \"models/best_model_with_ssl_not_frozen.ckpt\"\n",
    "\n",
    "ssl_model = VICReg()\n",
    "model_ssl_not_frozen = Classifier(ssl_model.backbone, False, num_classes, classifier_net)\n",
    "model_ssl_not_frozen.load_state_dict(torch.load(ckpt_with_classifier_path, map_location=torch.device('cpu'))['state_dict'])"
   ]
  },
  {
   "cell_type": "markdown",
   "id": "455fc48f",
   "metadata": {},
   "source": [
    "### Without SSL, but pretrained backbone with frozen weights"
   ]
  },
  {
   "cell_type": "code",
   "execution_count": null,
   "id": "3895e122",
   "metadata": {},
   "outputs": [],
   "source": [
    "# Defining the pretrained backbone\n",
    "# Running this cell is also required for loading from checkpoint\n",
    "\n",
    "resnet_pt = torchvision.models.resnet18(pretrained=True)\n",
    "backbone_pt = nn.Sequential(*list(resnet_pt.children())[:-1])"
   ]
  },
  {
   "cell_type": "code",
   "execution_count": null,
   "id": "b3026bbe",
   "metadata": {},
   "outputs": [
    {
     "name": "stderr",
     "output_type": "stream",
     "text": [
      "GPU available: True (cuda), used: True\n",
      "TPU available: False, using: 0 TPU cores\n",
      "IPU available: False, using: 0 IPUs\n",
      "HPU available: False, using: 0 HPUs\n"
     ]
    },
    {
     "data": {
      "text/html": [
       "Tracking run with wandb version 0.16.1"
      ],
      "text/plain": [
       "<IPython.core.display.HTML object>"
      ]
     },
     "metadata": {},
     "output_type": "display_data"
    },
    {
     "data": {
      "text/html": [
       "Run data is saved locally in <code>.\\wandb\\run-20231210_180516-gkzoanot</code>"
      ],
      "text/plain": [
       "<IPython.core.display.HTML object>"
      ]
     },
     "metadata": {},
     "output_type": "display_data"
    },
    {
     "data": {
      "text/html": [
       "Syncing run <strong><a href='https://wandb.ai/nest-ai/Self-supervised%20learning%20in-the-wild/runs/gkzoanot' target=\"_blank\">Classifier pretrained and frozen backbone</a></strong> to <a href='https://wandb.ai/nest-ai/Self-supervised%20learning%20in-the-wild' target=\"_blank\">Weights & Biases</a> (<a href='https://wandb.me/run' target=\"_blank\">docs</a>)<br/>"
      ],
      "text/plain": [
       "<IPython.core.display.HTML object>"
      ]
     },
     "metadata": {},
     "output_type": "display_data"
    },
    {
     "data": {
      "text/html": [
       " View project at <a href='https://wandb.ai/nest-ai/Self-supervised%20learning%20in-the-wild' target=\"_blank\">https://wandb.ai/nest-ai/Self-supervised%20learning%20in-the-wild</a>"
      ],
      "text/plain": [
       "<IPython.core.display.HTML object>"
      ]
     },
     "metadata": {},
     "output_type": "display_data"
    },
    {
     "data": {
      "text/html": [
       " View run at <a href='https://wandb.ai/nest-ai/Self-supervised%20learning%20in-the-wild/runs/gkzoanot' target=\"_blank\">https://wandb.ai/nest-ai/Self-supervised%20learning%20in-the-wild/runs/gkzoanot</a>"
      ],
      "text/plain": [
       "<IPython.core.display.HTML object>"
      ]
     },
     "metadata": {},
     "output_type": "display_data"
    },
    {
     "name": "stderr",
     "output_type": "stream",
     "text": [
      "C:\\Users\\HLCaptain\\AppData\\Local\\Packages\\PythonSoftwareFoundation.Python.3.11_qbz5n2kfra8p0\\LocalCache\\local-packages\\Python311\\site-packages\\lightning\\pytorch\\callbacks\\model_checkpoint.py:639: Checkpoint directory ./models/ exists and is not empty.\n",
      "LOCAL_RANK: 0 - CUDA_VISIBLE_DEVICES: [0]\n",
      "\n",
      "  | Name      | Type               | Params\n",
      "-------------------------------------------------\n",
      "0 | backbone  | Sequential         | 11.2 M\n",
      "1 | fc        | Sequential         | 251 K \n",
      "2 | criterion | CrossEntropyLoss   | 0     \n",
      "3 | accuracy  | MulticlassAccuracy | 0     \n",
      "-------------------------------------------------\n",
      "251 K     Trainable params\n",
      "11.2 M    Non-trainable params\n",
      "11.4 M    Total params\n",
      "45.711    Total estimated model params size (MB)\n"
     ]
    },
    {
     "name": "stdout",
     "output_type": "stream",
     "text": [
      "Epoch 0:   0%|          | 0/165 [00:00<?, ?it/s]                            <class 'torch.Tensor'>\n",
      "tensor([[[[ 1.1015,  1.0673,  0.9817,  ...,  0.8618,  0.8789,  0.8961],\n",
      "          [ 1.0502,  1.0331,  0.9988,  ...,  0.6392,  0.6906,  0.7591],\n",
      "          [ 0.8447,  0.8618,  0.8447,  ...,  0.4508,  0.5022,  0.5878],\n",
      "          ...,\n",
      "          [ 0.6563, -0.0972, -1.2788,  ..., -1.5699, -1.3644, -1.1247],\n",
      "          [ 0.7591,  0.9817,  0.8961,  ..., -1.4158, -1.4672, -1.4843],\n",
      "          [ 0.7248,  0.8447,  0.9988,  ..., -1.3815, -1.4158, -1.6555]],\n",
      "\n",
      "         [[ 1.4307,  1.3957,  1.2906,  ...,  1.2906,  1.3081,  1.3256],\n",
      "          [ 1.3606,  1.3431,  1.2731,  ...,  1.0280,  1.0980,  1.1681],\n",
      "          [ 1.1506,  1.1331,  1.1155,  ...,  0.8354,  0.9055,  0.9930],\n",
      "          ...,\n",
      "          [ 0.8880,  0.1176, -1.1078,  ..., -1.3004, -1.1253, -0.8627],\n",
      "          [ 0.9755,  1.2206,  1.1331,  ..., -1.1779, -1.2479, -1.2479],\n",
      "          [ 0.9405,  1.0630,  1.2031,  ..., -1.1429, -1.1954, -1.4230]],\n",
      "\n",
      "         [[ 1.6640,  1.6465,  1.5942,  ...,  1.4897,  1.5071,  1.5245],\n",
      "          [ 1.6640,  1.6814,  1.6291,  ...,  1.2457,  1.2631,  1.3328],\n",
      "          [ 1.4897,  1.5245,  1.5071,  ...,  1.0539,  1.0714,  1.1585],\n",
      "          ...,\n",
      "          [ 0.7228, -0.0441, -1.1770,  ..., -0.6018, -0.5670, -0.3753],\n",
      "          [ 0.7925,  1.0365,  1.0017,  ..., -0.5495, -0.7064, -0.8284],\n",
      "          [ 0.7228,  0.8797,  1.0539,  ..., -0.5495, -0.6890, -1.0027]]],\n",
      "\n",
      "\n",
      "        [[[ 0.1939,  0.1768,  0.2111,  ...,  0.3994,  0.3823,  0.3823],\n",
      "          [ 0.2111,  0.1939,  0.1768,  ...,  0.3994,  0.3994,  0.3994],\n",
      "          [ 0.1768,  0.1768,  0.1768,  ...,  0.3823,  0.3994,  0.4166],\n",
      "          ...,\n",
      "          [ 0.1254,  0.1426,  0.1254,  ...,  0.3138,  0.3138,  0.4166],\n",
      "          [ 0.1597,  0.1597,  0.0227,  ...,  0.3652,  0.4679,  0.4851],\n",
      "          [ 0.0398,  0.0398, -0.2171,  ...,  0.3994,  0.4337,  0.4337]],\n",
      "\n",
      "         [[ 0.3978,  0.3803,  0.3627,  ...,  0.5203,  0.5028,  0.5028],\n",
      "          [ 0.4503,  0.4328,  0.3803,  ...,  0.5203,  0.5203,  0.5203],\n",
      "          [ 0.4153,  0.4153,  0.3803,  ...,  0.5028,  0.5203,  0.5378],\n",
      "          ...,\n",
      "          [ 0.2577,  0.2052,  0.0476,  ...,  0.3627,  0.3452,  0.4503],\n",
      "          [ 0.2752,  0.2402,  0.0301,  ...,  0.3978,  0.4503,  0.4678],\n",
      "          [ 0.1877,  0.1352, -0.1625,  ...,  0.3803,  0.4153,  0.4153]],\n",
      "\n",
      "         [[-0.4101, -0.4275, -0.4275,  ..., -0.2532, -0.2707, -0.2707],\n",
      "          [-0.3753, -0.3927, -0.4275,  ..., -0.2532, -0.2532, -0.2532],\n",
      "          [-0.4101, -0.4101, -0.4275,  ..., -0.2707, -0.2532, -0.2358],\n",
      "          ...,\n",
      "          [-0.3927, -0.4101, -0.5670,  ..., -0.3927, -0.4450, -0.3404],\n",
      "          [-0.3055, -0.3230, -0.5147,  ..., -0.3927, -0.3578, -0.3404],\n",
      "          [-0.2881, -0.3230, -0.6018,  ..., -0.3927, -0.3927, -0.3927]]],\n",
      "\n",
      "\n",
      "        [[[-0.2171, -0.0458, -0.4054,  ..., -0.4568, -0.4568, -0.4226],\n",
      "          [-0.0972, -0.1828, -0.4568,  ..., -0.5424, -0.5596, -0.3883],\n",
      "          [ 0.0056, -0.1486, -0.7308,  ..., -0.5253, -0.5596, -0.4397],\n",
      "          ...,\n",
      "          [-1.1589, -1.2788, -0.8335,  ..., -0.3541, -0.4226, -0.5767],\n",
      "          [-1.3302, -1.1075, -0.8335,  ..., -0.5253, -0.5082, -0.2342],\n",
      "          [-1.3302, -0.9534, -1.0048,  ..., -0.3027, -0.5082, -0.2342]],\n",
      "\n",
      "         [[ 0.5028,  0.6078,  0.1527,  ...,  0.2052,  0.2577,  0.3277],\n",
      "          [ 0.6254,  0.4328,  0.1176,  ...,  0.1702,  0.1877,  0.3803],\n",
      "          [ 0.7304,  0.5028, -0.1099,  ...,  0.2052,  0.1877,  0.3277],\n",
      "          ...,\n",
      "          [-0.0924, -0.1800,  0.2052,  ...,  0.4503,  0.4503,  0.3978],\n",
      "          [-0.3200, -0.0224,  0.2052,  ...,  0.2752,  0.3627,  0.6954],\n",
      "          [-0.3550,  0.0826, -0.0049,  ...,  0.5203,  0.3102,  0.6779]],\n",
      "\n",
      "         [[-1.1944, -1.1247, -1.2641,  ..., -1.1944, -1.2119, -1.1944],\n",
      "          [-1.0724, -1.1421, -1.1770,  ..., -1.2467, -1.2990, -1.2293],\n",
      "          [-0.9678, -0.9853, -1.2816,  ..., -1.1770, -1.2990, -1.2990],\n",
      "          ...,\n",
      "          [-1.0376, -1.1944, -0.9330,  ..., -1.2293, -1.3339, -1.5604],\n",
      "          [-1.2119, -1.0376, -0.9678,  ..., -1.4036, -1.4210, -1.2641],\n",
      "          [-1.2293, -0.9156, -1.1596,  ..., -1.2119, -1.4733, -1.3164]]],\n",
      "\n",
      "\n",
      "        ...,\n",
      "\n",
      "\n",
      "        [[[ 1.1187,  1.1700,  0.8789,  ...,  1.2899,  1.2899,  1.2214],\n",
      "          [ 0.6563,  0.4166,  0.6563,  ...,  1.3070,  1.0673,  0.7419],\n",
      "          [ 1.4954,  1.2385,  1.2043,  ...,  0.6392,  0.9988,  1.0844],\n",
      "          ...,\n",
      "          [ 0.6734,  0.6221,  0.8104,  ...,  1.1358,  1.2214,  1.0673],\n",
      "          [ 0.6392,  0.7591,  0.7077,  ...,  1.0673,  1.0673,  0.7933],\n",
      "          [ 0.9132,  0.8961,  0.7933,  ...,  1.1700,  1.1529,  0.5536]],\n",
      "\n",
      "         [[ 0.9930,  1.0105,  0.6779,  ...,  1.1331,  1.1331,  1.0630],\n",
      "          [ 0.5378,  0.2577,  0.5203,  ...,  1.1506,  0.9055,  0.5728],\n",
      "          [ 1.3957,  1.1681,  1.0980,  ...,  0.5028,  0.8704,  0.9930],\n",
      "          ...,\n",
      "          [ 0.6954,  0.6429,  0.8354,  ...,  1.1331,  1.2206,  1.0630],\n",
      "          [ 0.6604,  0.7829,  0.7304,  ...,  1.0630,  1.0630,  0.8004],\n",
      "          [ 0.9405,  0.9230,  0.8179,  ...,  1.1856,  1.1681,  0.5553]],\n",
      "\n",
      "         [[ 0.8099,  0.8448,  0.4788,  ...,  1.0017,  1.0017,  0.9319],\n",
      "          [ 0.3916,  0.1302,  0.3393,  ...,  1.1237,  0.8797,  0.5485],\n",
      "          [ 1.2805,  1.0539,  0.9842,  ...,  0.4962,  0.8622,  0.9842],\n",
      "          ...,\n",
      "          [ 0.7751,  0.7228,  0.9145,  ...,  1.1934,  1.2805,  1.1237],\n",
      "          [ 0.7054,  0.8622,  0.8099,  ...,  1.1237,  1.1237,  0.8274],\n",
      "          [ 1.0191,  1.0365,  0.9319,  ...,  1.2108,  1.1934,  0.5834]]],\n",
      "\n",
      "\n",
      "        [[[-0.9363, -0.9363, -0.9192,  ..., -0.9705, -0.9192, -0.8507],\n",
      "          [-0.9705, -0.9534, -0.9363,  ..., -0.9877, -0.9877, -0.9363],\n",
      "          [-0.9705, -0.9534, -0.9534,  ..., -1.0048, -1.0219, -0.9877],\n",
      "          ...,\n",
      "          [-0.5082, -0.0629, -0.1657,  ..., -0.6623, -0.6623, -0.6623],\n",
      "          [-0.3541,  0.5022,  0.1768,  ..., -0.6452, -0.6452, -0.6452],\n",
      "          [ 0.1426,  0.7933,  0.2453,  ..., -0.6281, -0.6281, -0.6281]],\n",
      "\n",
      "         [[-0.7752, -0.7752, -0.7577,  ..., -0.8978, -0.8452, -0.7752],\n",
      "          [-0.8102, -0.7927, -0.7752,  ..., -0.9153, -0.9153, -0.8627],\n",
      "          [-0.8102, -0.7927, -0.7927,  ..., -0.9328, -0.9503, -0.9153],\n",
      "          ...,\n",
      "          [-0.4601, -0.0224, -0.1275,  ..., -0.6001, -0.6001, -0.6001],\n",
      "          [-0.3025,  0.5203,  0.1877,  ..., -0.5826, -0.5826, -0.5826],\n",
      "          [ 0.1702,  0.8004,  0.1702,  ..., -0.5651, -0.5651, -0.5651]],\n",
      "\n",
      "         [[-1.0898, -1.0550, -1.0376,  ..., -1.0724, -1.0201, -0.9853],\n",
      "          [-1.1247, -1.0724, -1.0550,  ..., -1.0898, -1.0898, -1.0724],\n",
      "          [-1.1247, -1.0724, -1.0724,  ..., -1.1073, -1.1247, -1.1247],\n",
      "          ...,\n",
      "          [-0.8981, -0.4973, -0.6367,  ..., -0.9504, -0.9504, -0.9853],\n",
      "          [-0.8633,  0.0082, -0.3230,  ..., -0.9330, -0.9330, -0.9330],\n",
      "          [-0.5147,  0.2173, -0.3404,  ..., -0.8807, -0.8807, -0.8807]]],\n",
      "\n",
      "\n",
      "        [[[-2.1179,  0.2453,  0.2796,  ...,  0.4337,  0.4337,  0.4337],\n",
      "          [-2.1179,  0.2282,  0.2796,  ...,  0.4337,  0.4337,  0.4337],\n",
      "          [-2.1179,  0.2282,  0.2796,  ...,  0.4337,  0.4166,  0.4166],\n",
      "          ...,\n",
      "          [-2.1179,  0.1426,  0.1426,  ...,  0.4337,  0.4337,  0.4337],\n",
      "          [-2.1179,  0.1597,  0.1597,  ...,  0.4337,  0.4337,  0.4337],\n",
      "          [-2.1179,  0.1597,  0.1597,  ...,  0.4337,  0.4337,  0.4166]],\n",
      "\n",
      "         [[-2.0357,  0.9230,  0.9580,  ...,  1.0980,  1.0980,  1.0980],\n",
      "          [-2.0357,  0.9055,  0.9580,  ...,  1.0980,  1.0980,  1.0980],\n",
      "          [-2.0357,  0.9055,  0.9580,  ...,  1.0980,  1.0805,  1.0805],\n",
      "          ...,\n",
      "          [-2.0357,  0.8880,  0.8880,  ...,  1.0980,  1.0980,  1.0980],\n",
      "          [-2.0357,  0.8704,  0.8704,  ...,  1.0980,  1.0980,  1.0980],\n",
      "          [-2.0357,  0.8704,  0.8704,  ...,  1.0980,  1.0980,  1.0805]],\n",
      "\n",
      "         [[-1.8044,  0.1128,  0.1476,  ...,  0.3742,  0.3742,  0.4091],\n",
      "          [-1.8044,  0.0953,  0.1476,  ...,  0.3742,  0.3742,  0.4091],\n",
      "          [-1.8044,  0.1302,  0.1825,  ...,  0.3742,  0.3568,  0.3916],\n",
      "          ...,\n",
      "          [-1.8044,  0.0953,  0.0953,  ...,  0.4091,  0.4091,  0.4091],\n",
      "          [-1.8044,  0.0953,  0.0953,  ...,  0.4091,  0.4091,  0.4091],\n",
      "          [-1.8044,  0.0953,  0.0953,  ...,  0.4091,  0.4091,  0.3916]]]],\n",
      "       device='cuda:0')\n",
      "<class 'torch.Tensor'>\n",
      "Epoch 99: 100%|██████████| 165/165 [00:20<00:00,  8.21it/s, v_num=anot, val_acc=0.024] "
     ]
    },
    {
     "name": "stderr",
     "output_type": "stream",
     "text": [
      "`Trainer.fit` stopped: `max_epochs=100` reached.\n"
     ]
    },
    {
     "name": "stdout",
     "output_type": "stream",
     "text": [
      "Epoch 99: 100%|██████████| 165/165 [00:20<00:00,  8.21it/s, v_num=anot, val_acc=0.024]\n"
     ]
    },
    {
     "data": {
      "text/html": [
       "<style>\n",
       "    table.wandb td:nth-child(1) { padding: 0 10px; text-align: left ; width: auto;} td:nth-child(2) {text-align: left ; width: 100%}\n",
       "    .wandb-row { display: flex; flex-direction: row; flex-wrap: wrap; justify-content: flex-start; width: 100% }\n",
       "    .wandb-col { display: flex; flex-direction: column; flex-basis: 100%; flex: 1; padding: 10px; }\n",
       "    </style>\n",
       "<div class=\"wandb-row\"><div class=\"wandb-col\"><h3>Run history:</h3><br/><table class=\"wandb\"><tr><td>classifier_loss</td><td>█▆▅▅▅▄▄▄▄▄▄▄▄▅▄▅▂▄▂▄▄▄▄▃▄▂▂▂▃▁▂▂▃▂▃▃▂▁▂▂</td></tr><tr><td>epoch</td><td>▁▁▁▂▂▂▂▂▂▃▃▃▃▃▄▄▄▄▄▄▅▅▅▅▅▅▆▆▆▆▆▇▇▇▇▇▇███</td></tr><tr><td>trainer/global_step</td><td>▁▁▁▂▂▂▂▂▂▃▃▃▃▃▄▄▄▄▄▄▅▅▅▅▅▅▆▆▆▆▆▇▇▇▇▇▇███</td></tr><tr><td>val_acc</td><td>▁▇▅▆▄▅█▄▄▆▆▅▇▅▅▅▅▆▅▆▅▆▅▆▆▇▇█▆█▆▆▆▆▅▆▆▆▇▅</td></tr></table><br/></div><div class=\"wandb-col\"><h3>Run summary:</h3><br/><table class=\"wandb\"><tr><td>classifier_loss</td><td>5.20814</td></tr><tr><td>epoch</td><td>99</td></tr><tr><td>trainer/global_step</td><td>16499</td></tr><tr><td>val_acc</td><td>0.024</td></tr></table><br/></div></div>"
      ],
      "text/plain": [
       "<IPython.core.display.HTML object>"
      ]
     },
     "metadata": {},
     "output_type": "display_data"
    },
    {
     "data": {
      "text/html": [
       " View run <strong style=\"color:#cdcd00\">Classifier pretrained and frozen backbone</strong> at: <a href='https://wandb.ai/nest-ai/Self-supervised%20learning%20in-the-wild/runs/gkzoanot' target=\"_blank\">https://wandb.ai/nest-ai/Self-supervised%20learning%20in-the-wild/runs/gkzoanot</a><br/>Synced 5 W&B file(s), 0 media file(s), 0 artifact file(s) and 0 other file(s)"
      ],
      "text/plain": [
       "<IPython.core.display.HTML object>"
      ]
     },
     "metadata": {},
     "output_type": "display_data"
    },
    {
     "data": {
      "text/html": [
       "Find logs at: <code>.\\wandb\\run-20231210_180516-gkzoanot\\logs</code>"
      ],
      "text/plain": [
       "<IPython.core.display.HTML object>"
      ]
     },
     "metadata": {},
     "output_type": "display_data"
    }
   ],
   "source": [
    "model_pretrained_frozen = train_classifier(\"Classifier pretrained and frozen backbone\",\n",
    "                                           'best_model_with_pretrained_frozen',\n",
    "                                           backbone_pt, True, max_epochs)"
   ]
  },
  {
   "cell_type": "code",
   "execution_count": null,
   "id": "51fab22f",
   "metadata": {},
   "outputs": [
    {
     "data": {
      "text/plain": [
       "<All keys matched successfully>"
      ]
     },
     "execution_count": 21,
     "metadata": {},
     "output_type": "execute_result"
    }
   ],
   "source": [
    "# Before running, change ckpt_with_classifier_path to the correct one,\n",
    "# make sure you ran the cell 2 up that defines the backbone_pt\n",
    "# and comment out the lines below.\n",
    "\n",
    "ckpt_with_classifier_path = \"models/best_model_with_pretrained_frozen.ckpt\"\n",
    "\n",
    "model_pretrained_frozen = Classifier(backbone_pt, False, num_classes, classifier_net)\n",
    "model_pretrained_frozen.load_state_dict(torch.load(ckpt_with_classifier_path, map_location=torch.device('cpu'))['state_dict'])"
   ]
  },
  {
   "cell_type": "markdown",
   "id": "e28b375b",
   "metadata": {},
   "source": [
    "### Without SSL, but pretrained backbone with NOT frozen weights"
   ]
  },
  {
   "cell_type": "code",
   "execution_count": null,
   "id": "961d0fa2",
   "metadata": {},
   "outputs": [
    {
     "name": "stderr",
     "output_type": "stream",
     "text": [
      "GPU available: True (cuda), used: True\n",
      "TPU available: False, using: 0 TPU cores\n",
      "IPU available: False, using: 0 IPUs\n",
      "HPU available: False, using: 0 HPUs\n"
     ]
    },
    {
     "data": {
      "text/html": [
       "Tracking run with wandb version 0.16.1"
      ],
      "text/plain": [
       "<IPython.core.display.HTML object>"
      ]
     },
     "metadata": {},
     "output_type": "display_data"
    },
    {
     "data": {
      "text/html": [
       "Run data is saved locally in <code>.\\wandb\\run-20231210_183950-vezvc725</code>"
      ],
      "text/plain": [
       "<IPython.core.display.HTML object>"
      ]
     },
     "metadata": {},
     "output_type": "display_data"
    },
    {
     "data": {
      "text/html": [
       "Syncing run <strong><a href='https://wandb.ai/nest-ai/Self-supervised%20learning%20in-the-wild/runs/vezvc725' target=\"_blank\">Classifier pretrained and not frozen backbone</a></strong> to <a href='https://wandb.ai/nest-ai/Self-supervised%20learning%20in-the-wild' target=\"_blank\">Weights & Biases</a> (<a href='https://wandb.me/run' target=\"_blank\">docs</a>)<br/>"
      ],
      "text/plain": [
       "<IPython.core.display.HTML object>"
      ]
     },
     "metadata": {},
     "output_type": "display_data"
    },
    {
     "data": {
      "text/html": [
       " View project at <a href='https://wandb.ai/nest-ai/Self-supervised%20learning%20in-the-wild' target=\"_blank\">https://wandb.ai/nest-ai/Self-supervised%20learning%20in-the-wild</a>"
      ],
      "text/plain": [
       "<IPython.core.display.HTML object>"
      ]
     },
     "metadata": {},
     "output_type": "display_data"
    },
    {
     "data": {
      "text/html": [
       " View run at <a href='https://wandb.ai/nest-ai/Self-supervised%20learning%20in-the-wild/runs/vezvc725' target=\"_blank\">https://wandb.ai/nest-ai/Self-supervised%20learning%20in-the-wild/runs/vezvc725</a>"
      ],
      "text/plain": [
       "<IPython.core.display.HTML object>"
      ]
     },
     "metadata": {},
     "output_type": "display_data"
    },
    {
     "name": "stderr",
     "output_type": "stream",
     "text": [
      "C:\\Users\\HLCaptain\\AppData\\Local\\Packages\\PythonSoftwareFoundation.Python.3.11_qbz5n2kfra8p0\\LocalCache\\local-packages\\Python311\\site-packages\\lightning\\pytorch\\callbacks\\model_checkpoint.py:639: Checkpoint directory ./models/ exists and is not empty.\n",
      "LOCAL_RANK: 0 - CUDA_VISIBLE_DEVICES: [0]\n",
      "\n",
      "  | Name      | Type               | Params\n",
      "-------------------------------------------------\n",
      "0 | backbone  | Sequential         | 11.2 M\n",
      "1 | fc        | Sequential         | 251 K \n",
      "2 | criterion | CrossEntropyLoss   | 0     \n",
      "3 | accuracy  | MulticlassAccuracy | 0     \n",
      "-------------------------------------------------\n",
      "251 K     Trainable params\n",
      "11.2 M    Non-trainable params\n",
      "11.4 M    Total params\n",
      "45.711    Total estimated model params size (MB)\n"
     ]
    },
    {
     "name": "stdout",
     "output_type": "stream",
     "text": [
      "Epoch 0:   0%|          | 0/165 [00:00<?, ?it/s]                            <class 'torch.Tensor'>\n",
      "tensor([[[[ 1.5125,  1.5982,  1.6667,  ...,  0.5707,  0.4508,  0.4851],\n",
      "          [ 1.4954,  1.4954,  1.4440,  ...,  0.7077,  0.6734,  0.6392],\n",
      "          [ 1.3070,  1.3242,  1.3070,  ...,  0.8618,  0.8618,  0.7933],\n",
      "          ...,\n",
      "          [ 0.8789,  0.9646,  0.9303,  ...,  1.0844,  1.1015,  1.1015],\n",
      "          [ 0.9988,  0.9303,  0.8961,  ...,  1.1015,  1.0844,  1.0844],\n",
      "          [ 0.8447,  0.8447,  0.8789,  ...,  1.1015,  1.1015,  1.0844]],\n",
      "\n",
      "         [[ 1.1331,  1.1681,  1.2381,  ...,  0.1702,  0.0126,  0.0126],\n",
      "          [ 1.0630,  1.0280,  0.9755,  ...,  0.4328,  0.3452,  0.2752],\n",
      "          [ 0.8880,  0.8704,  0.8354,  ...,  0.6429,  0.6078,  0.5203],\n",
      "          ...,\n",
      "          [ 0.4328,  0.5553,  0.5553,  ...,  0.9055,  0.8704,  0.8704],\n",
      "          [ 0.5903,  0.5203,  0.5203,  ...,  0.8704,  0.8529,  0.8704],\n",
      "          [ 0.4328,  0.4328,  0.5028,  ...,  0.8529,  0.8529,  0.8529]],\n",
      "\n",
      "         [[ 0.2348,  0.2871,  0.3916,  ..., -0.4275, -0.5495, -0.4973],\n",
      "          [ 0.1651,  0.1651,  0.1476,  ..., -0.1835, -0.2184, -0.2010],\n",
      "          [-0.0615, -0.0267,  0.0082,  ...,  0.1128,  0.1128,  0.1128],\n",
      "          ...,\n",
      "          [-0.1487, -0.0790, -0.1312,  ...,  0.4265,  0.3742,  0.3742],\n",
      "          [-0.0092, -0.1138, -0.1661,  ...,  0.4091,  0.3568,  0.3393],\n",
      "          [-0.1661, -0.2010, -0.1835,  ...,  0.3393,  0.3045,  0.2522]]],\n",
      "\n",
      "\n",
      "        [[[-0.4226, -0.5596, -0.1143,  ..., -0.4911, -0.5938, -0.6623],\n",
      "          [-0.4739, -0.1828,  0.3138,  ..., -0.5596, -0.6109, -0.6794],\n",
      "          [-0.3541,  0.3138,  0.6221,  ..., -0.5767, -0.5938, -0.6623],\n",
      "          ...,\n",
      "          [-0.1314, -0.1657, -0.1143,  ..., -0.7479, -0.8335, -0.7137],\n",
      "          [ 0.5364,  0.5364,  0.4508,  ..., -0.7308, -0.7993, -0.4054],\n",
      "          [ 0.6049,  0.6906,  0.6906,  ..., -0.7479, -0.8164, -0.1999]],\n",
      "\n",
      "         [[-0.2325, -0.3725,  0.1352,  ..., -0.2150, -0.3025, -0.3725],\n",
      "          [-0.2850,  0.0126,  0.5728,  ..., -0.2850, -0.3200, -0.3901],\n",
      "          [-0.1625,  0.5728,  0.8880,  ..., -0.3025, -0.3025, -0.3725],\n",
      "          ...,\n",
      "          [ 0.1527,  0.0826,  0.1352,  ..., -0.4776, -0.5651, -0.4951],\n",
      "          [ 0.8354,  0.8004,  0.7129,  ..., -0.4601, -0.5301, -0.1625],\n",
      "          [ 0.8704,  0.9055,  0.9055,  ..., -0.5301, -0.6001,  0.0476]],\n",
      "\n",
      "         [[ 0.1476,  0.0431,  0.5311,  ...,  0.1302, -0.0441, -0.1138],\n",
      "          [ 0.0953,  0.4265,  0.9668,  ...,  0.0605, -0.0615, -0.1312],\n",
      "          [ 0.2173,  0.9668,  1.2805,  ...,  0.0082, -0.0441, -0.1312],\n",
      "          ...,\n",
      "          [ 0.5311,  0.4788,  0.5311,  ..., -0.3055, -0.3927, -0.3404],\n",
      "          [ 1.2108,  1.1934,  1.1062,  ..., -0.2881, -0.3927, -0.0615],\n",
      "          [ 1.2631,  1.3154,  1.3154,  ..., -0.3753, -0.4450,  0.1476]]],\n",
      "\n",
      "\n",
      "        [[[ 0.2624,  0.1597,  0.0398,  ..., -0.1486, -0.1143, -0.7479],\n",
      "          [ 0.2624,  0.2282,  0.1939,  ...,  0.2967,  0.2624,  0.2282],\n",
      "          [ 0.2624,  0.2624,  0.2796,  ...,  0.4166,  0.4508,  0.5193],\n",
      "          ...,\n",
      "          [ 0.3138,  0.3138,  0.3138,  ...,  0.3823,  0.3823,  0.3823],\n",
      "          [ 0.3138,  0.3138,  0.3138,  ...,  0.3823,  0.3823,  0.3823],\n",
      "          [ 0.3138,  0.3138,  0.3138,  ...,  0.3823,  0.3823,  0.3823]],\n",
      "\n",
      "         [[ 1.0455,  0.9405,  0.8179,  ...,  0.5553,  0.5903, -0.0574],\n",
      "          [ 1.0980,  1.0630,  1.0280,  ...,  1.0630,  1.0280,  0.9930],\n",
      "          [ 1.1155,  1.1155,  1.1331,  ...,  1.2556,  1.2906,  1.3081],\n",
      "          ...,\n",
      "          [ 1.2031,  1.2031,  1.2031,  ...,  1.1856,  1.1856,  1.1856],\n",
      "          [ 1.2031,  1.2031,  1.2031,  ...,  1.1856,  1.1856,  1.1856],\n",
      "          [ 1.2031,  1.2031,  1.2031,  ...,  1.1856,  1.1856,  1.1856]],\n",
      "\n",
      "         [[ 0.3568,  0.2522,  0.1476,  ..., -0.1835, -0.1487, -0.7936],\n",
      "          [ 0.2348,  0.1999,  0.1999,  ...,  0.1999,  0.1651,  0.1476],\n",
      "          [ 0.1128,  0.1128,  0.1302,  ...,  0.2522,  0.2871,  0.3568],\n",
      "          ...,\n",
      "          [-0.0092, -0.0092, -0.0092,  ...,  0.0605,  0.0605,  0.0953],\n",
      "          [-0.0092, -0.0092, -0.0092,  ...,  0.0605,  0.0605,  0.0953],\n",
      "          [-0.0092, -0.0092, -0.0092,  ...,  0.0953,  0.0953,  0.0953]]],\n",
      "\n",
      "\n",
      "        ...,\n",
      "\n",
      "\n",
      "        [[[-1.9295, -2.0837, -2.1179,  ..., -1.8439, -1.6727, -1.3644],\n",
      "          [-2.0323, -2.1179, -2.0323,  ..., -1.7754, -1.3302, -1.0048],\n",
      "          [-1.9809, -2.1179, -2.1179,  ..., -1.4500, -0.6965, -0.2513],\n",
      "          ...,\n",
      "          [-0.5082, -0.2684, -0.0972,  ...,  1.5810,  1.0159,  0.5536],\n",
      "          [-0.1143, -0.1999, -0.3198,  ...,  1.7180,  1.5982,  1.2728],\n",
      "          [-0.1486, -0.1657, -0.1486,  ...,  1.8037,  1.8550,  1.5639]],\n",
      "\n",
      "         [[-1.5805, -1.7731, -1.8431,  ..., -1.9482, -1.8431, -1.6856],\n",
      "          [-1.7556, -1.8431, -1.6856,  ..., -1.9307, -1.5630, -1.4055],\n",
      "          [-1.8081, -1.8606, -1.7556,  ..., -1.5980, -0.9503, -0.7052],\n",
      "          ...,\n",
      "          [ 0.3102,  0.6078,  0.7829,  ...,  0.1702, -0.2675, -0.6877],\n",
      "          [ 0.7129,  0.6779,  0.5553,  ...,  0.2577,  0.1877, -0.0924],\n",
      "          [ 0.6779,  0.7129,  0.7304,  ...,  0.3452,  0.3978,  0.0476]],\n",
      "\n",
      "         [[-1.2293, -1.4384, -1.6127,  ..., -1.7870, -1.6999, -1.6302],\n",
      "          [-1.4210, -1.6127, -1.5779,  ..., -1.7522, -1.4036, -1.3164],\n",
      "          [-1.5081, -1.7347, -1.7522,  ..., -1.3861, -0.7413, -0.6018],\n",
      "          ...,\n",
      "          [-0.3927, -0.0964,  0.0779,  ...,  0.5485,  0.0605, -0.4101],\n",
      "          [ 0.0256, -0.0267, -0.1487,  ...,  0.6531,  0.5834,  0.2696],\n",
      "          [-0.0092,  0.0082,  0.0256,  ...,  0.7054,  0.7925,  0.4614]]],\n",
      "\n",
      "\n",
      "        [[[-0.0116,  0.0056,  0.0056,  ..., -0.0287, -0.0458, -0.0972],\n",
      "          [ 0.0056,  0.0056,  0.0056,  ..., -0.0287, -0.0458, -0.0972],\n",
      "          [ 0.0227,  0.0227,  0.0227,  ..., -0.0287, -0.0458, -0.0801],\n",
      "          ...,\n",
      "          [-2.1179, -2.1179, -2.1179,  ..., -2.1179, -2.1179, -2.1179],\n",
      "          [-2.1179, -2.1179, -2.1179,  ..., -2.1179, -2.1179, -2.1179],\n",
      "          [-2.1179, -2.1179, -2.1179,  ..., -2.1179, -2.1179, -2.1179]],\n",
      "\n",
      "         [[ 0.0126,  0.0301,  0.0301,  ...,  0.0301, -0.0049, -0.0049],\n",
      "          [ 0.0301,  0.0301,  0.0301,  ...,  0.0301, -0.0049, -0.0049],\n",
      "          [ 0.0476,  0.0476,  0.0476,  ..., -0.0049, -0.0049,  0.0126],\n",
      "          ...,\n",
      "          [-2.0357, -2.0357, -2.0357,  ..., -2.0357, -2.0357, -2.0357],\n",
      "          [-2.0357, -2.0357, -2.0357,  ..., -2.0357, -2.0357, -2.0357],\n",
      "          [-2.0357, -2.0357, -2.0357,  ..., -2.0357, -2.0357, -2.0357]],\n",
      "\n",
      "         [[-0.8110, -0.7936, -0.7936,  ..., -0.8110, -0.7587, -0.7761],\n",
      "          [-0.7936, -0.7936, -0.7936,  ..., -0.8458, -0.7587, -0.7761],\n",
      "          [-0.7761, -0.7761, -0.7761,  ..., -0.8633, -0.7936, -0.7587],\n",
      "          ...,\n",
      "          [-1.8044, -1.8044, -1.8044,  ..., -1.8044, -1.8044, -1.8044],\n",
      "          [-1.8044, -1.8044, -1.8044,  ..., -1.8044, -1.8044, -1.8044],\n",
      "          [-1.8044, -1.8044, -1.8044,  ..., -1.8044, -1.8044, -1.8044]]],\n",
      "\n",
      "\n",
      "        [[[-2.1179, -2.1179, -2.1179,  ..., -2.1179, -2.1179, -2.1179],\n",
      "          [-2.1179, -2.1179, -2.1179,  ..., -2.1179, -2.1179, -2.1179],\n",
      "          [-2.1179, -2.1179, -2.1179,  ..., -2.1179, -2.1179, -2.1179],\n",
      "          ...,\n",
      "          [-0.3198, -0.6281, -0.5082,  ..., -0.7650, -0.6965, -0.8335],\n",
      "          [-0.7993, -0.5938, -0.3198,  ..., -0.7993, -0.7308, -0.9363],\n",
      "          [-0.8164, -0.3027,  0.0741,  ..., -0.6623, -0.8335, -0.8335]],\n",
      "\n",
      "         [[-2.0357, -2.0357, -2.0357,  ..., -2.0357, -2.0357, -2.0357],\n",
      "          [-2.0357, -2.0357, -2.0357,  ..., -2.0357, -2.0357, -2.0357],\n",
      "          [-2.0357, -2.0357, -2.0357,  ..., -2.0357, -2.0357, -2.0357],\n",
      "          ...,\n",
      "          [ 0.2227, -0.7752, -1.4755,  ..., -1.9657, -1.9307, -2.0007],\n",
      "          [-0.6877, -1.1604, -1.6681,  ..., -2.0007, -1.9307, -2.0357],\n",
      "          [-1.2829, -1.4405, -1.7031,  ..., -1.8431, -2.0357, -2.0007]],\n",
      "\n",
      "         [[-1.8044, -1.8044, -1.8044,  ..., -1.8044, -1.8044, -1.8044],\n",
      "          [-1.8044, -1.8044, -1.8044,  ..., -1.8044, -1.8044, -1.8044],\n",
      "          [-1.8044, -1.8044, -1.8044,  ..., -1.8044, -1.8044, -1.8044],\n",
      "          ...,\n",
      "          [ 0.9319, -0.1487, -0.9853,  ..., -1.6127, -1.5604, -1.6127],\n",
      "          [ 0.0256, -0.5670, -1.2119,  ..., -1.6824, -1.5779, -1.6999],\n",
      "          [-0.6890, -0.9678, -1.3687,  ..., -1.6302, -1.7347, -1.6476]]]],\n",
      "       device='cuda:0')\n",
      "<class 'torch.Tensor'>\n",
      "Epoch 99: 100%|██████████| 165/165 [00:19<00:00,  8.29it/s, v_num=c725, val_acc=0.024] "
     ]
    },
    {
     "name": "stderr",
     "output_type": "stream",
     "text": [
      "`Trainer.fit` stopped: `max_epochs=100` reached.\n"
     ]
    },
    {
     "name": "stdout",
     "output_type": "stream",
     "text": [
      "Epoch 99: 100%|██████████| 165/165 [00:19<00:00,  8.29it/s, v_num=c725, val_acc=0.024]\n"
     ]
    },
    {
     "data": {
      "text/html": [
       "<style>\n",
       "    table.wandb td:nth-child(1) { padding: 0 10px; text-align: left ; width: auto;} td:nth-child(2) {text-align: left ; width: 100%}\n",
       "    .wandb-row { display: flex; flex-direction: row; flex-wrap: wrap; justify-content: flex-start; width: 100% }\n",
       "    .wandb-col { display: flex; flex-direction: column; flex-basis: 100%; flex: 1; padding: 10px; }\n",
       "    </style>\n",
       "<div class=\"wandb-row\"><div class=\"wandb-col\"><h3>Run history:</h3><br/><table class=\"wandb\"><tr><td>classifier_loss</td><td>█▆▅▄▅▆▆▄▄▄▄▄▃▄▄▃▄▃▂▄▃▄▃▄▃▁▄▃▂▃▂▂▃▃▂▃▃▁▄▂</td></tr><tr><td>epoch</td><td>▁▁▁▂▂▂▂▂▂▃▃▃▃▃▄▄▄▄▄▄▅▅▅▅▅▅▆▆▆▆▆▇▇▇▇▇▇███</td></tr><tr><td>trainer/global_step</td><td>▁▁▁▂▂▂▂▂▂▃▃▃▃▃▄▄▄▄▄▄▅▅▅▅▅▅▆▆▆▆▆▇▇▇▇▇▇███</td></tr><tr><td>val_acc</td><td>▁▃█▄▇▅▆██▇▅▅▄▆▄▆▅▆▆▅▄▅▄▇▇█▆▅█▇▆█▆▆▅▅▆▆▆▆</td></tr></table><br/></div><div class=\"wandb-col\"><h3>Run summary:</h3><br/><table class=\"wandb\"><tr><td>classifier_loss</td><td>5.17322</td></tr><tr><td>epoch</td><td>99</td></tr><tr><td>trainer/global_step</td><td>16499</td></tr><tr><td>val_acc</td><td>0.024</td></tr></table><br/></div></div>"
      ],
      "text/plain": [
       "<IPython.core.display.HTML object>"
      ]
     },
     "metadata": {},
     "output_type": "display_data"
    },
    {
     "data": {
      "text/html": [
       " View run <strong style=\"color:#cdcd00\">Classifier pretrained and not frozen backbone</strong> at: <a href='https://wandb.ai/nest-ai/Self-supervised%20learning%20in-the-wild/runs/vezvc725' target=\"_blank\">https://wandb.ai/nest-ai/Self-supervised%20learning%20in-the-wild/runs/vezvc725</a><br/>Synced 5 W&B file(s), 0 media file(s), 0 artifact file(s) and 0 other file(s)"
      ],
      "text/plain": [
       "<IPython.core.display.HTML object>"
      ]
     },
     "metadata": {},
     "output_type": "display_data"
    },
    {
     "data": {
      "text/html": [
       "Find logs at: <code>.\\wandb\\run-20231210_183950-vezvc725\\logs</code>"
      ],
      "text/plain": [
       "<IPython.core.display.HTML object>"
      ]
     },
     "metadata": {},
     "output_type": "display_data"
    }
   ],
   "source": [
    "model_pretrained_not_frozen = train_classifier(\"Classifier pretrained and not frozen backbone\",\n",
    "                                               'best_model_with_pretrained_not_frozen',\n",
    "                                               backbone_pt, False, max_epochs)"
   ]
  },
  {
   "cell_type": "code",
   "execution_count": null,
   "id": "229994cc",
   "metadata": {},
   "outputs": [
    {
     "data": {
      "text/plain": [
       "<All keys matched successfully>"
      ]
     },
     "execution_count": 23,
     "metadata": {},
     "output_type": "execute_result"
    }
   ],
   "source": [
    "# Before running, change ckpt_with_classifier_path to the correct one,\n",
    "# make sure you ran the cell 4 up that defines the backbone_pt\n",
    "# and comment out the lines below.\n",
    "\n",
    "ckpt_with_classifier_path = \"models/best_model_with_pretrained_not_frozen.ckpt\"\n",
    "\n",
    "model_pretrained_not_frozen = Classifier(backbone_pt, False, num_classes, classifier_net)\n",
    "model_pretrained_not_frozen.load_state_dict(torch.load(ckpt_with_classifier_path, map_location=torch.device('cpu'))['state_dict'])"
   ]
  },
  {
   "cell_type": "markdown",
   "id": "bc9ba413",
   "metadata": {},
   "source": [
    "### With untrained backbone"
   ]
  },
  {
   "cell_type": "code",
   "execution_count": null,
   "id": "c922040d",
   "metadata": {},
   "outputs": [
    {
     "name": "stderr",
     "output_type": "stream",
     "text": [
      "C:\\Users\\HLCaptain\\AppData\\Local\\Packages\\PythonSoftwareFoundation.Python.3.11_qbz5n2kfra8p0\\LocalCache\\local-packages\\Python311\\site-packages\\torchvision\\models\\_utils.py:208: UserWarning: The parameter 'pretrained' is deprecated since 0.13 and may be removed in the future, please use 'weights' instead.\n",
      "  warnings.warn(\n",
      "C:\\Users\\HLCaptain\\AppData\\Local\\Packages\\PythonSoftwareFoundation.Python.3.11_qbz5n2kfra8p0\\LocalCache\\local-packages\\Python311\\site-packages\\torchvision\\models\\_utils.py:223: UserWarning: Arguments other than a weight enum or `None` for 'weights' are deprecated since 0.13 and may be removed in the future. The current behavior is equivalent to passing `weights=None`.\n",
      "  warnings.warn(msg)\n"
     ]
    }
   ],
   "source": [
    "# Defining the untrained backbone\n",
    "# Running this cell is also required for loading from checkpoint\n",
    "\n",
    "resnet_npt = torchvision.models.resnet18(pretrained=False)\n",
    "backbone_npt = nn.Sequential(*list(resnet_npt.children())[:-1])"
   ]
  },
  {
   "cell_type": "code",
   "execution_count": null,
   "id": "568daab1",
   "metadata": {},
   "outputs": [
    {
     "name": "stderr",
     "output_type": "stream",
     "text": [
      "GPU available: True (cuda), used: True\n",
      "TPU available: False, using: 0 TPU cores\n",
      "IPU available: False, using: 0 IPUs\n",
      "HPU available: False, using: 0 HPUs\n"
     ]
    },
    {
     "data": {
      "text/html": [
       "Tracking run with wandb version 0.16.1"
      ],
      "text/plain": [
       "<IPython.core.display.HTML object>"
      ]
     },
     "metadata": {},
     "output_type": "display_data"
    },
    {
     "data": {
      "text/html": [
       "Run data is saved locally in <code>.\\wandb\\run-20231210_191421-nmo8irdb</code>"
      ],
      "text/plain": [
       "<IPython.core.display.HTML object>"
      ]
     },
     "metadata": {},
     "output_type": "display_data"
    },
    {
     "data": {
      "text/html": [
       "Syncing run <strong><a href='https://wandb.ai/nest-ai/Self-supervised%20learning%20in-the-wild/runs/nmo8irdb' target=\"_blank\">Classifier untrained backbone</a></strong> to <a href='https://wandb.ai/nest-ai/Self-supervised%20learning%20in-the-wild' target=\"_blank\">Weights & Biases</a> (<a href='https://wandb.me/run' target=\"_blank\">docs</a>)<br/>"
      ],
      "text/plain": [
       "<IPython.core.display.HTML object>"
      ]
     },
     "metadata": {},
     "output_type": "display_data"
    },
    {
     "data": {
      "text/html": [
       " View project at <a href='https://wandb.ai/nest-ai/Self-supervised%20learning%20in-the-wild' target=\"_blank\">https://wandb.ai/nest-ai/Self-supervised%20learning%20in-the-wild</a>"
      ],
      "text/plain": [
       "<IPython.core.display.HTML object>"
      ]
     },
     "metadata": {},
     "output_type": "display_data"
    },
    {
     "data": {
      "text/html": [
       " View run at <a href='https://wandb.ai/nest-ai/Self-supervised%20learning%20in-the-wild/runs/nmo8irdb' target=\"_blank\">https://wandb.ai/nest-ai/Self-supervised%20learning%20in-the-wild/runs/nmo8irdb</a>"
      ],
      "text/plain": [
       "<IPython.core.display.HTML object>"
      ]
     },
     "metadata": {},
     "output_type": "display_data"
    },
    {
     "name": "stderr",
     "output_type": "stream",
     "text": [
      "C:\\Users\\HLCaptain\\AppData\\Local\\Packages\\PythonSoftwareFoundation.Python.3.11_qbz5n2kfra8p0\\LocalCache\\local-packages\\Python311\\site-packages\\lightning\\pytorch\\callbacks\\model_checkpoint.py:639: Checkpoint directory ./models/ exists and is not empty.\n",
      "LOCAL_RANK: 0 - CUDA_VISIBLE_DEVICES: [0]\n",
      "\n",
      "  | Name      | Type               | Params\n",
      "-------------------------------------------------\n",
      "0 | backbone  | Sequential         | 11.2 M\n",
      "1 | fc        | Sequential         | 251 K \n",
      "2 | criterion | CrossEntropyLoss   | 0     \n",
      "3 | accuracy  | MulticlassAccuracy | 0     \n",
      "-------------------------------------------------\n",
      "11.4 M    Trainable params\n",
      "0         Non-trainable params\n",
      "11.4 M    Total params\n",
      "45.711    Total estimated model params size (MB)\n"
     ]
    },
    {
     "name": "stdout",
     "output_type": "stream",
     "text": [
      "Epoch 0:   0%|          | 0/165 [00:00<?, ?it/s]                            <class 'torch.Tensor'>\n",
      "tensor([[[[-2.1179, -2.1179, -2.1179,  ..., -2.1179, -2.1179, -2.1179],\n",
      "          [ 1.1700,  1.1529,  1.1358,  ...,  0.9988,  0.9817,  0.9817],\n",
      "          [ 1.1015,  1.0844,  1.0673,  ...,  1.0159,  0.9988,  0.9817],\n",
      "          ...,\n",
      "          [ 0.5364,  0.5536,  0.5536,  ..., -0.0116, -0.0287, -0.0287],\n",
      "          [ 0.5878,  0.5707,  0.5536,  ..., -0.1314, -0.1828, -0.1486],\n",
      "          [ 0.3823,  0.2967,  0.2111,  ..., -0.2856, -0.3541, -0.3541]],\n",
      "\n",
      "         [[-2.0357, -2.0357, -2.0357,  ..., -2.0357, -2.0357, -2.0357],\n",
      "          [ 1.4657,  1.4482,  1.4307,  ...,  1.3606,  1.3431,  1.3431],\n",
      "          [ 1.3957,  1.3782,  1.3606,  ...,  1.3782,  1.3606,  1.3431],\n",
      "          ...,\n",
      "          [ 0.0651,  0.0826,  0.1001,  ..., -0.3550, -0.3725, -0.3725],\n",
      "          [ 0.1176,  0.1001,  0.1001,  ..., -0.4426, -0.4426, -0.4601],\n",
      "          [-0.1099, -0.1975, -0.2500,  ..., -0.5651, -0.6001, -0.6176]],\n",
      "\n",
      "         [[-1.8044, -1.8044, -1.8044,  ..., -1.8044, -1.8044, -1.8044],\n",
      "          [ 1.9080,  1.8905,  1.8731,  ...,  1.8557,  1.8383,  1.8383],\n",
      "          [ 1.8383,  1.8208,  1.8034,  ...,  1.8731,  1.8557,  1.8383],\n",
      "          ...,\n",
      "          [-0.0615, -0.0790, -0.1138,  ..., -0.4624, -0.5147, -0.5147],\n",
      "          [-0.0441, -0.0615, -0.1138,  ..., -0.5670, -0.5844, -0.5844],\n",
      "          [-0.2707, -0.3927, -0.4624,  ..., -0.6541, -0.7413, -0.7587]]],\n",
      "\n",
      "\n",
      "        [[[ 2.1633,  2.1633,  2.1804,  ...,  2.1804,  2.1804,  2.1804],\n",
      "          [ 2.1633,  2.1633,  2.1804,  ...,  2.1804,  2.1804,  2.1804],\n",
      "          [ 2.1633,  2.1633,  2.1804,  ...,  2.1804,  2.1804,  2.1804],\n",
      "          ...,\n",
      "          [ 2.1633,  2.1633,  2.1804,  ...,  2.1804,  2.1804,  2.1804],\n",
      "          [ 2.1633,  2.1633,  2.1804,  ...,  2.1804,  2.1804,  2.1804],\n",
      "          [ 2.1633,  2.1633,  2.1804,  ...,  2.1804,  2.1804,  2.1804]],\n",
      "\n",
      "         [[ 2.3585,  2.3585,  2.3761,  ...,  2.3585,  2.3585,  2.3585],\n",
      "          [ 2.3585,  2.3585,  2.3761,  ...,  2.3585,  2.3585,  2.3585],\n",
      "          [ 2.3585,  2.3585,  2.3761,  ...,  2.3585,  2.3585,  2.3585],\n",
      "          ...,\n",
      "          [ 2.3585,  2.3585,  2.3585,  ...,  2.3410,  2.3410,  2.3410],\n",
      "          [ 2.3585,  2.3585,  2.3585,  ...,  2.3410,  2.3410,  2.3410],\n",
      "          [ 2.3585,  2.3585,  2.3585,  ...,  2.3410,  2.3410,  2.3410]],\n",
      "\n",
      "         [[ 2.6400,  2.6400,  2.6400,  ...,  2.6051,  2.6051,  2.6051],\n",
      "          [ 2.6400,  2.6400,  2.6400,  ...,  2.6051,  2.6051,  2.6051],\n",
      "          [ 2.6400,  2.6400,  2.6400,  ...,  2.6051,  2.6051,  2.6051],\n",
      "          ...,\n",
      "          [ 2.6051,  2.6051,  2.6051,  ...,  2.6400,  2.6400,  2.6400],\n",
      "          [ 2.6051,  2.6051,  2.6051,  ...,  2.6400,  2.6400,  2.6400],\n",
      "          [ 2.6051,  2.6051,  2.6051,  ...,  2.6400,  2.6400,  2.6400]]],\n",
      "\n",
      "\n",
      "        [[[-1.4500, -1.5014, -1.5014,  ..., -0.9705, -0.6965, -0.4911],\n",
      "          [-1.4672, -1.5014, -1.5014,  ..., -0.9020, -0.6452, -0.5253],\n",
      "          [-1.4843, -1.4843, -1.4843,  ..., -0.9020, -0.6794, -0.5424],\n",
      "          ...,\n",
      "          [-0.3198, -0.3541, -0.4568,  ..., -0.9363, -0.9705, -0.9534],\n",
      "          [-0.3027, -0.3541, -0.4226,  ..., -0.9363, -0.9534, -0.8164],\n",
      "          [-0.2856, -0.3369, -0.4226,  ..., -0.9363, -0.9363, -0.7479]],\n",
      "\n",
      "         [[-0.7402, -0.8452, -0.8803,  ..., -0.6352, -0.2850, -0.0399],\n",
      "          [-0.7577, -0.8452, -0.8803,  ..., -0.5651, -0.2325, -0.0749],\n",
      "          [-0.7227, -0.8102, -0.8627,  ..., -0.5651, -0.2675, -0.0924],\n",
      "          ...,\n",
      "          [ 0.4153,  0.3803,  0.2402,  ..., -0.4776, -0.5301, -0.5126],\n",
      "          [ 0.4328,  0.3803,  0.2752,  ..., -0.4776, -0.4951, -0.3550],\n",
      "          [ 0.4328,  0.3803,  0.2752,  ..., -0.4776, -0.4776, -0.2325]],\n",
      "\n",
      "         [[-1.4559, -1.4907, -1.5256,  ..., -1.6650, -1.4210, -1.2293],\n",
      "          [-1.4733, -1.4907, -1.5256,  ..., -1.5953, -1.4036, -1.2816],\n",
      "          [-1.4907, -1.5081, -1.5081,  ..., -1.5953, -1.4384, -1.2990],\n",
      "          ...,\n",
      "          [-0.9678, -0.9678, -1.0550,  ..., -1.7347, -1.7347, -1.6999],\n",
      "          [-0.9853, -1.0027, -1.0550,  ..., -1.7696, -1.7870, -1.6127],\n",
      "          [-1.0027, -1.0376, -1.0898,  ..., -1.7696, -1.7696, -1.5779]]],\n",
      "\n",
      "\n",
      "        ...,\n",
      "\n",
      "\n",
      "        [[[ 1.4612,  1.4098,  1.3070,  ..., -1.8097, -1.7069, -1.4329],\n",
      "          [ 1.4783,  1.4269,  1.2899,  ..., -1.6727, -1.5014, -1.4158],\n",
      "          [ 1.4954,  1.4612,  1.2899,  ..., -1.3815, -1.4158, -1.6555],\n",
      "          ...,\n",
      "          [-2.1179, -2.1179, -2.1179,  ..., -2.1179, -2.1179, -2.1179],\n",
      "          [-2.1179, -2.1179, -2.1179,  ..., -2.1179, -2.1179, -2.1179],\n",
      "          [-2.1179, -2.1179, -2.1179,  ..., -2.1179, -2.1179, -2.1179]],\n",
      "\n",
      "         [[ 1.7633,  1.7283,  1.6758,  ..., -1.7206, -1.6155, -1.3354],\n",
      "          [ 1.7808,  1.7458,  1.6583,  ..., -1.5805, -1.4055, -1.3179],\n",
      "          [ 1.7983,  1.7983,  1.6583,  ..., -1.2829, -1.3179, -1.5630],\n",
      "          ...,\n",
      "          [-2.0357, -2.0357, -2.0357,  ..., -2.0357, -2.0357, -2.0357],\n",
      "          [-2.0357, -2.0357, -2.0357,  ..., -2.0357, -2.0357, -2.0357],\n",
      "          [-2.0357, -2.0357, -2.0357,  ..., -2.0357, -2.0357, -2.0357]],\n",
      "\n",
      "         [[ 2.1694,  2.2043,  2.1346,  ..., -1.4907, -1.3861, -1.1073],\n",
      "          [ 2.1868,  2.2217,  2.1171,  ..., -1.3513, -1.1770, -1.0898],\n",
      "          [ 2.2391,  2.2217,  2.1171,  ..., -1.0550, -1.0898, -1.3339],\n",
      "          ...,\n",
      "          [-1.8044, -1.8044, -1.8044,  ..., -1.8044, -1.8044, -1.8044],\n",
      "          [-1.8044, -1.8044, -1.8044,  ..., -1.8044, -1.8044, -1.8044],\n",
      "          [-1.8044, -1.8044, -1.8044,  ..., -1.8044, -1.8044, -1.8044]]],\n",
      "\n",
      "\n",
      "        [[[ 0.5193,  0.5364,  0.5364,  ..., -0.7479, -0.6965, -0.6452],\n",
      "          [ 0.5193,  0.5364,  0.5193,  ..., -0.7650, -0.7650, -0.6623],\n",
      "          [ 0.5536,  0.5536,  0.5364,  ..., -0.7822, -0.7822, -0.6623],\n",
      "          ...,\n",
      "          [ 0.6392,  0.6563,  0.6734,  ...,  0.4166,  0.3652,  0.4166],\n",
      "          [ 0.6563,  0.6563,  0.6734,  ...,  0.4166,  0.3481,  0.3994],\n",
      "          [ 0.6563,  0.6734,  0.6734,  ...,  0.3994,  0.3823,  0.3823]],\n",
      "\n",
      "         [[ 0.7129,  0.7304,  0.7304,  ..., -1.3529, -1.3529, -1.3704],\n",
      "          [ 0.7129,  0.7304,  0.7129,  ..., -1.3179, -1.3880, -1.3529],\n",
      "          [ 0.7479,  0.7479,  0.7304,  ..., -1.3004, -1.3529, -1.3179],\n",
      "          ...,\n",
      "          [ 0.8354,  0.8529,  0.8354,  ...,  0.6954,  0.6429,  0.6429],\n",
      "          [ 0.8529,  0.8529,  0.8354,  ...,  0.6954,  0.6254,  0.6779],\n",
      "          [ 0.8529,  0.8704,  0.8354,  ...,  0.6779,  0.6604,  0.6604]],\n",
      "\n",
      "         [[ 0.5659,  0.5834,  0.5834,  ..., -0.8110, -0.7238, -0.6890],\n",
      "          [ 0.5659,  0.5834,  0.5659,  ..., -0.8284, -0.8110, -0.6715],\n",
      "          [ 0.6008,  0.6008,  0.5834,  ..., -0.8284, -0.7936, -0.6890],\n",
      "          ...,\n",
      "          [ 0.7576,  0.7751,  0.8099,  ...,  0.5136,  0.4614,  0.4788],\n",
      "          [ 0.7751,  0.7751,  0.8099,  ...,  0.5136,  0.4439,  0.4962],\n",
      "          [ 0.7751,  0.7925,  0.8099,  ...,  0.4962,  0.4788,  0.4788]]],\n",
      "\n",
      "\n",
      "        [[[ 0.2111, -0.3369, -0.9534,  ..., -0.2171, -0.0287,  0.4508],\n",
      "          [ 0.5536,  0.7077, -0.4226,  ...,  0.7248, -0.4397,  0.1768],\n",
      "          [ 0.5878,  0.0398,  0.3309,  ...,  1.3755,  1.1872,  1.4269],\n",
      "          ...,\n",
      "          [ 0.4166,  0.6392,  1.0502,  ..., -0.2171,  0.2624,  0.6221],\n",
      "          [ 0.4166,  0.8789,  1.2214,  ...,  0.1939,  0.0741, -0.1999],\n",
      "          [ 1.6153,  0.9303,  0.8961,  ...,  0.3823,  0.1939, -0.5596]],\n",
      "\n",
      "         [[ 0.1527, -0.4251, -1.0378,  ..., -0.2500, -0.0749,  0.3803],\n",
      "          [ 0.4853,  0.6254, -0.5301,  ...,  0.6954, -0.5126,  0.1352],\n",
      "          [ 0.4678, -0.1099,  0.1877,  ...,  1.2731,  1.1331,  1.4657],\n",
      "          ...,\n",
      "          [ 0.2752,  0.4853,  0.8880,  ..., -0.2150,  0.3102,  0.7129],\n",
      "          [ 0.2752,  0.7304,  1.0630,  ...,  0.1877,  0.1176, -0.1275],\n",
      "          [ 1.4657,  0.7479,  0.6954,  ...,  0.4153,  0.2752, -0.4951]],\n",
      "\n",
      "         [[ 0.5136, -0.0267, -0.6715,  ...,  0.0256,  0.3045,  0.8099],\n",
      "          [ 0.7751,  0.9668, -0.1835,  ...,  0.9319, -0.1835,  0.5485],\n",
      "          [ 0.6356,  0.1128,  0.4091,  ...,  1.5420,  1.3851,  1.8034],\n",
      "          ...,\n",
      "          [ 0.4962,  0.5659,  0.8971,  ...,  0.1476,  0.6531,  1.0539],\n",
      "          [ 0.4962,  0.8099,  1.0714,  ...,  0.6008,  0.4614,  0.2173],\n",
      "          [ 1.6465,  0.8448,  0.7228,  ...,  0.8448,  0.6531, -0.1138]]]],\n",
      "       device='cuda:0')\n",
      "<class 'torch.Tensor'>\n",
      "Epoch 99: 100%|██████████| 165/165 [00:22<00:00,  7.28it/s, v_num=irdb, val_acc=0.00838]"
     ]
    },
    {
     "name": "stderr",
     "output_type": "stream",
     "text": [
      "`Trainer.fit` stopped: `max_epochs=100` reached.\n"
     ]
    },
    {
     "name": "stdout",
     "output_type": "stream",
     "text": [
      "Epoch 99: 100%|██████████| 165/165 [00:22<00:00,  7.28it/s, v_num=irdb, val_acc=0.00838]\n"
     ]
    },
    {
     "data": {
      "text/html": [
       "<style>\n",
       "    table.wandb td:nth-child(1) { padding: 0 10px; text-align: left ; width: auto;} td:nth-child(2) {text-align: left ; width: 100%}\n",
       "    .wandb-row { display: flex; flex-direction: row; flex-wrap: wrap; justify-content: flex-start; width: 100% }\n",
       "    .wandb-col { display: flex; flex-direction: column; flex-basis: 100%; flex: 1; padding: 10px; }\n",
       "    </style>\n",
       "<div class=\"wandb-row\"><div class=\"wandb-col\"><h3>Run history:</h3><br/><table class=\"wandb\"><tr><td>classifier_loss</td><td>█▆▅▅▅▅▄▃▄▂▃▂▄▁▃▂▅▆▂▂▁▂▅▂▂▂▃▄▂▂▁▃▃▁▃▂▂▂▂▂</td></tr><tr><td>epoch</td><td>▁▁▁▂▂▂▂▂▂▃▃▃▃▃▄▄▄▄▄▄▅▅▅▅▅▅▆▆▆▆▆▇▇▇▇▇▇███</td></tr><tr><td>trainer/global_step</td><td>▁▁▁▂▂▂▂▂▂▃▃▃▃▃▄▄▄▄▄▄▅▅▅▅▅▅▆▆▆▆▆▇▇▇▇▇▇███</td></tr><tr><td>val_acc</td><td>▄▃▇█▃▅▇▆▄▅▃▅▃▄█▅▆▃▁▄▂▄▅▃▄▁▅▃▄▂▄▄▅▄▅▅▄▅▇▄</td></tr></table><br/></div><div class=\"wandb-col\"><h3>Run summary:</h3><br/><table class=\"wandb\"><tr><td>classifier_loss</td><td>5.77801</td></tr><tr><td>epoch</td><td>99</td></tr><tr><td>trainer/global_step</td><td>16499</td></tr><tr><td>val_acc</td><td>0.00838</td></tr></table><br/></div></div>"
      ],
      "text/plain": [
       "<IPython.core.display.HTML object>"
      ]
     },
     "metadata": {},
     "output_type": "display_data"
    },
    {
     "data": {
      "text/html": [
       " View run <strong style=\"color:#cdcd00\">Classifier untrained backbone</strong> at: <a href='https://wandb.ai/nest-ai/Self-supervised%20learning%20in-the-wild/runs/nmo8irdb' target=\"_blank\">https://wandb.ai/nest-ai/Self-supervised%20learning%20in-the-wild/runs/nmo8irdb</a><br/>Synced 5 W&B file(s), 0 media file(s), 0 artifact file(s) and 0 other file(s)"
      ],
      "text/plain": [
       "<IPython.core.display.HTML object>"
      ]
     },
     "metadata": {},
     "output_type": "display_data"
    },
    {
     "data": {
      "text/html": [
       "Find logs at: <code>.\\wandb\\run-20231210_191421-nmo8irdb\\logs</code>"
      ],
      "text/plain": [
       "<IPython.core.display.HTML object>"
      ]
     },
     "metadata": {},
     "output_type": "display_data"
    }
   ],
   "source": [
    "model_untrained = train_classifier(\"Classifier untrained backbone\",\n",
    "                                   'best_model_with_untrained',\n",
    "                                   backbone_npt, False, max_epochs)"
   ]
  },
  {
   "cell_type": "code",
   "execution_count": null,
   "id": "9be88e07",
   "metadata": {},
   "outputs": [
    {
     "data": {
      "text/plain": [
       "<All keys matched successfully>"
      ]
     },
     "execution_count": 26,
     "metadata": {},
     "output_type": "execute_result"
    }
   ],
   "source": [
    "# Before running, change ckpt_with_classifier_path to the correct one,\n",
    "# make sure you ran the cell 2 up that defines the backbone_npt\n",
    "# and comment out the lines below.\n",
    "\n",
    "ckpt_with_classifier_path = \"models/best_model_with_untrained.ckpt\"\n",
    "\n",
    "model_untrained = Classifier(backbone_npt, False, num_classes, classifier_net)\n",
    "model_untrained.load_state_dict(torch.load(ckpt_with_classifier_path, map_location=torch.device('cpu'))['state_dict'])"
   ]
  },
  {
   "cell_type": "markdown",
   "id": "7a8ef730",
   "metadata": {},
   "source": [
    "# Evaluation"
   ]
  },
  {
   "cell_type": "markdown",
   "id": "ab818144",
   "metadata": {},
   "source": [
    "## Accuracy on test dataset"
   ]
  },
  {
   "cell_type": "code",
   "execution_count": null,
   "id": "0165d648",
   "metadata": {},
   "outputs": [
    {
     "name": "stderr",
     "output_type": "stream",
     "text": [
      "GPU available: True (cuda), used: True\n",
      "TPU available: False, using: 0 TPU cores\n",
      "IPU available: False, using: 0 IPUs\n",
      "HPU available: False, using: 0 HPUs\n"
     ]
    },
    {
     "data": {
      "text/html": [
       "Tracking run with wandb version 0.16.1"
      ],
      "text/plain": [
       "<IPython.core.display.HTML object>"
      ]
     },
     "metadata": {},
     "output_type": "display_data"
    },
    {
     "data": {
      "text/html": [
       "Run data is saved locally in <code>.\\wandb\\run-20231210_195211-5awv0ggb</code>"
      ],
      "text/plain": [
       "<IPython.core.display.HTML object>"
      ]
     },
     "metadata": {},
     "output_type": "display_data"
    },
    {
     "data": {
      "text/html": [
       "Syncing run <strong><a href='https://wandb.ai/nest-ai/Self-supervised%20learning%20in-the-wild/runs/5awv0ggb' target=\"_blank\">Classifier</a></strong> to <a href='https://wandb.ai/nest-ai/Self-supervised%20learning%20in-the-wild' target=\"_blank\">Weights & Biases</a> (<a href='https://wandb.me/run' target=\"_blank\">docs</a>)<br/>"
      ],
      "text/plain": [
       "<IPython.core.display.HTML object>"
      ]
     },
     "metadata": {},
     "output_type": "display_data"
    },
    {
     "data": {
      "text/html": [
       " View project at <a href='https://wandb.ai/nest-ai/Self-supervised%20learning%20in-the-wild' target=\"_blank\">https://wandb.ai/nest-ai/Self-supervised%20learning%20in-the-wild</a>"
      ],
      "text/plain": [
       "<IPython.core.display.HTML object>"
      ]
     },
     "metadata": {},
     "output_type": "display_data"
    },
    {
     "data": {
      "text/html": [
       " View run at <a href='https://wandb.ai/nest-ai/Self-supervised%20learning%20in-the-wild/runs/5awv0ggb' target=\"_blank\">https://wandb.ai/nest-ai/Self-supervised%20learning%20in-the-wild/runs/5awv0ggb</a>"
      ],
      "text/plain": [
       "<IPython.core.display.HTML object>"
      ]
     },
     "metadata": {},
     "output_type": "display_data"
    },
    {
     "name": "stderr",
     "output_type": "stream",
     "text": [
      "LOCAL_RANK: 0 - CUDA_VISIBLE_DEVICES: [0]\n"
     ]
    },
    {
     "name": "stdout",
     "output_type": "stream",
     "text": [
      "Testing DataLoader 0: 100%|██████████| 6/6 [00:00<00:00, 12.94it/s]\n"
     ]
    },
    {
     "name": "stderr",
     "output_type": "stream",
     "text": [
      "C:\\Users\\HLCaptain\\AppData\\Local\\Packages\\PythonSoftwareFoundation.Python.3.11_qbz5n2kfra8p0\\LocalCache\\local-packages\\Python311\\site-packages\\lightning\\pytorch\\utilities\\data.py:77: Trying to infer the `batch_size` from an ambiguous collection. The batch size we found is 65. To avoid any miscalculations, use `self.log(..., batch_size=batch_size)`.\n"
     ]
    },
    {
     "data": {
      "text/html": [
       "<pre style=\"white-space:pre;overflow-x:auto;line-height:normal;font-family:Menlo,'DejaVu Sans Mono',consolas,'Courier New',monospace\">┏━━━━━━━━━━━━━━━━━━━━━━━━━━━┳━━━━━━━━━━━━━━━━━━━━━━━━━━━┓\n",
       "┃<span style=\"font-weight: bold\">        Test metric        </span>┃<span style=\"font-weight: bold\">       DataLoader 0        </span>┃\n",
       "┡━━━━━━━━━━━━━━━━━━━━━━━━━━━╇━━━━━━━━━━━━━━━━━━━━━━━━━━━┩\n",
       "│<span style=\"color: #008080; text-decoration-color: #008080\">         test_acc          </span>│<span style=\"color: #800080; text-decoration-color: #800080\">    0.00685714278370142    </span>│\n",
       "│<span style=\"color: #008080; text-decoration-color: #008080\">         test_loss         </span>│<span style=\"color: #800080; text-decoration-color: #800080\">     6.748806476593018     </span>│\n",
       "└───────────────────────────┴───────────────────────────┘\n",
       "</pre>\n"
      ],
      "text/plain": [
       "┏━━━━━━━━━━━━━━━━━━━━━━━━━━━┳━━━━━━━━━━━━━━━━━━━━━━━━━━━┓\n",
       "┃\u001b[1m \u001b[0m\u001b[1m       Test metric       \u001b[0m\u001b[1m \u001b[0m┃\u001b[1m \u001b[0m\u001b[1m      DataLoader 0       \u001b[0m\u001b[1m \u001b[0m┃\n",
       "┡━━━━━━━━━━━━━━━━━━━━━━━━━━━╇━━━━━━━━━━━━━━━━━━━━━━━━━━━┩\n",
       "│\u001b[36m \u001b[0m\u001b[36m        test_acc         \u001b[0m\u001b[36m \u001b[0m│\u001b[35m \u001b[0m\u001b[35m   0.00685714278370142   \u001b[0m\u001b[35m \u001b[0m│\n",
       "│\u001b[36m \u001b[0m\u001b[36m        test_loss        \u001b[0m\u001b[36m \u001b[0m│\u001b[35m \u001b[0m\u001b[35m    6.748806476593018    \u001b[0m\u001b[35m \u001b[0m│\n",
       "└───────────────────────────┴───────────────────────────┘\n"
      ]
     },
     "metadata": {},
     "output_type": "display_data"
    },
    {
     "name": "stderr",
     "output_type": "stream",
     "text": [
      "LOCAL_RANK: 0 - CUDA_VISIBLE_DEVICES: [0]\n"
     ]
    },
    {
     "name": "stdout",
     "output_type": "stream",
     "text": [
      "Testing DataLoader 0: 100%|██████████| 6/6 [00:00<00:00, 15.57it/s]\n"
     ]
    },
    {
     "data": {
      "text/html": [
       "<pre style=\"white-space:pre;overflow-x:auto;line-height:normal;font-family:Menlo,'DejaVu Sans Mono',consolas,'Courier New',monospace\">┏━━━━━━━━━━━━━━━━━━━━━━━━━━━┳━━━━━━━━━━━━━━━━━━━━━━━━━━━┓\n",
       "┃<span style=\"font-weight: bold\">        Test metric        </span>┃<span style=\"font-weight: bold\">       DataLoader 0        </span>┃\n",
       "┡━━━━━━━━━━━━━━━━━━━━━━━━━━━╇━━━━━━━━━━━━━━━━━━━━━━━━━━━┩\n",
       "│<span style=\"color: #008080; text-decoration-color: #008080\">         test_acc          </span>│<span style=\"color: #800080; text-decoration-color: #800080\">   0.008380952291190624    </span>│\n",
       "│<span style=\"color: #008080; text-decoration-color: #008080\">         test_loss         </span>│<span style=\"color: #800080; text-decoration-color: #800080\">     6.030611038208008     </span>│\n",
       "└───────────────────────────┴───────────────────────────┘\n",
       "</pre>\n"
      ],
      "text/plain": [
       "┏━━━━━━━━━━━━━━━━━━━━━━━━━━━┳━━━━━━━━━━━━━━━━━━━━━━━━━━━┓\n",
       "┃\u001b[1m \u001b[0m\u001b[1m       Test metric       \u001b[0m\u001b[1m \u001b[0m┃\u001b[1m \u001b[0m\u001b[1m      DataLoader 0       \u001b[0m\u001b[1m \u001b[0m┃\n",
       "┡━━━━━━━━━━━━━━━━━━━━━━━━━━━╇━━━━━━━━━━━━━━━━━━━━━━━━━━━┩\n",
       "│\u001b[36m \u001b[0m\u001b[36m        test_acc         \u001b[0m\u001b[36m \u001b[0m│\u001b[35m \u001b[0m\u001b[35m  0.008380952291190624   \u001b[0m\u001b[35m \u001b[0m│\n",
       "│\u001b[36m \u001b[0m\u001b[36m        test_loss        \u001b[0m\u001b[36m \u001b[0m│\u001b[35m \u001b[0m\u001b[35m    6.030611038208008    \u001b[0m\u001b[35m \u001b[0m│\n",
       "└───────────────────────────┴───────────────────────────┘\n"
      ]
     },
     "metadata": {},
     "output_type": "display_data"
    },
    {
     "name": "stderr",
     "output_type": "stream",
     "text": [
      "LOCAL_RANK: 0 - CUDA_VISIBLE_DEVICES: [0]\n"
     ]
    },
    {
     "name": "stdout",
     "output_type": "stream",
     "text": [
      "Testing DataLoader 0: 100%|██████████| 6/6 [00:00<00:00, 21.30it/s]\n"
     ]
    },
    {
     "data": {
      "text/html": [
       "<pre style=\"white-space:pre;overflow-x:auto;line-height:normal;font-family:Menlo,'DejaVu Sans Mono',consolas,'Courier New',monospace\">┏━━━━━━━━━━━━━━━━━━━━━━━━━━━┳━━━━━━━━━━━━━━━━━━━━━━━━━━━┓\n",
       "┃<span style=\"font-weight: bold\">        Test metric        </span>┃<span style=\"font-weight: bold\">       DataLoader 0        </span>┃\n",
       "┡━━━━━━━━━━━━━━━━━━━━━━━━━━━╇━━━━━━━━━━━━━━━━━━━━━━━━━━━┩\n",
       "│<span style=\"color: #008080; text-decoration-color: #008080\">         test_acc          </span>│<span style=\"color: #800080; text-decoration-color: #800080\">    0.02628571353852749    </span>│\n",
       "│<span style=\"color: #008080; text-decoration-color: #008080\">         test_loss         </span>│<span style=\"color: #800080; text-decoration-color: #800080\">     5.675470352172852     </span>│\n",
       "└───────────────────────────┴───────────────────────────┘\n",
       "</pre>\n"
      ],
      "text/plain": [
       "┏━━━━━━━━━━━━━━━━━━━━━━━━━━━┳━━━━━━━━━━━━━━━━━━━━━━━━━━━┓\n",
       "┃\u001b[1m \u001b[0m\u001b[1m       Test metric       \u001b[0m\u001b[1m \u001b[0m┃\u001b[1m \u001b[0m\u001b[1m      DataLoader 0       \u001b[0m\u001b[1m \u001b[0m┃\n",
       "┡━━━━━━━━━━━━━━━━━━━━━━━━━━━╇━━━━━━━━━━━━━━━━━━━━━━━━━━━┩\n",
       "│\u001b[36m \u001b[0m\u001b[36m        test_acc         \u001b[0m\u001b[36m \u001b[0m│\u001b[35m \u001b[0m\u001b[35m   0.02628571353852749   \u001b[0m\u001b[35m \u001b[0m│\n",
       "│\u001b[36m \u001b[0m\u001b[36m        test_loss        \u001b[0m\u001b[36m \u001b[0m│\u001b[35m \u001b[0m\u001b[35m    5.675470352172852    \u001b[0m\u001b[35m \u001b[0m│\n",
       "└───────────────────────────┴───────────────────────────┘\n"
      ]
     },
     "metadata": {},
     "output_type": "display_data"
    },
    {
     "name": "stderr",
     "output_type": "stream",
     "text": [
      "LOCAL_RANK: 0 - CUDA_VISIBLE_DEVICES: [0]\n"
     ]
    },
    {
     "name": "stdout",
     "output_type": "stream",
     "text": [
      "Testing DataLoader 0: 100%|██████████| 6/6 [00:00<00:00, 13.50it/s]\n"
     ]
    },
    {
     "data": {
      "text/html": [
       "<pre style=\"white-space:pre;overflow-x:auto;line-height:normal;font-family:Menlo,'DejaVu Sans Mono',consolas,'Courier New',monospace\">┏━━━━━━━━━━━━━━━━━━━━━━━━━━━┳━━━━━━━━━━━━━━━━━━━━━━━━━━━┓\n",
       "┃<span style=\"font-weight: bold\">        Test metric        </span>┃<span style=\"font-weight: bold\">       DataLoader 0        </span>┃\n",
       "┡━━━━━━━━━━━━━━━━━━━━━━━━━━━╇━━━━━━━━━━━━━━━━━━━━━━━━━━━┩\n",
       "│<span style=\"color: #008080; text-decoration-color: #008080\">         test_acc          </span>│<span style=\"color: #800080; text-decoration-color: #800080\">    0.03161904588341713    </span>│\n",
       "│<span style=\"color: #008080; text-decoration-color: #008080\">         test_loss         </span>│<span style=\"color: #800080; text-decoration-color: #800080\">     5.663997173309326     </span>│\n",
       "└───────────────────────────┴───────────────────────────┘\n",
       "</pre>\n"
      ],
      "text/plain": [
       "┏━━━━━━━━━━━━━━━━━━━━━━━━━━━┳━━━━━━━━━━━━━━━━━━━━━━━━━━━┓\n",
       "┃\u001b[1m \u001b[0m\u001b[1m       Test metric       \u001b[0m\u001b[1m \u001b[0m┃\u001b[1m \u001b[0m\u001b[1m      DataLoader 0       \u001b[0m\u001b[1m \u001b[0m┃\n",
       "┡━━━━━━━━━━━━━━━━━━━━━━━━━━━╇━━━━━━━━━━━━━━━━━━━━━━━━━━━┩\n",
       "│\u001b[36m \u001b[0m\u001b[36m        test_acc         \u001b[0m\u001b[36m \u001b[0m│\u001b[35m \u001b[0m\u001b[35m   0.03161904588341713   \u001b[0m\u001b[35m \u001b[0m│\n",
       "│\u001b[36m \u001b[0m\u001b[36m        test_loss        \u001b[0m\u001b[36m \u001b[0m│\u001b[35m \u001b[0m\u001b[35m    5.663997173309326    \u001b[0m\u001b[35m \u001b[0m│\n",
       "└───────────────────────────┴───────────────────────────┘\n"
      ]
     },
     "metadata": {},
     "output_type": "display_data"
    },
    {
     "name": "stderr",
     "output_type": "stream",
     "text": [
      "LOCAL_RANK: 0 - CUDA_VISIBLE_DEVICES: [0]\n"
     ]
    },
    {
     "name": "stdout",
     "output_type": "stream",
     "text": [
      "Testing DataLoader 0: 100%|██████████| 6/6 [00:00<00:00, 21.19it/s]\n"
     ]
    },
    {
     "data": {
      "text/html": [
       "<pre style=\"white-space:pre;overflow-x:auto;line-height:normal;font-family:Menlo,'DejaVu Sans Mono',consolas,'Courier New',monospace\">┏━━━━━━━━━━━━━━━━━━━━━━━━━━━┳━━━━━━━━━━━━━━━━━━━━━━━━━━━┓\n",
       "┃<span style=\"font-weight: bold\">        Test metric        </span>┃<span style=\"font-weight: bold\">       DataLoader 0        </span>┃\n",
       "┡━━━━━━━━━━━━━━━━━━━━━━━━━━━╇━━━━━━━━━━━━━━━━━━━━━━━━━━━┩\n",
       "│<span style=\"color: #008080; text-decoration-color: #008080\">         test_acc          </span>│<span style=\"color: #800080; text-decoration-color: #800080\">   0.007999999448657036    </span>│\n",
       "│<span style=\"color: #008080; text-decoration-color: #008080\">         test_loss         </span>│<span style=\"color: #800080; text-decoration-color: #800080\">     6.081631660461426     </span>│\n",
       "└───────────────────────────┴───────────────────────────┘\n",
       "</pre>\n"
      ],
      "text/plain": [
       "┏━━━━━━━━━━━━━━━━━━━━━━━━━━━┳━━━━━━━━━━━━━━━━━━━━━━━━━━━┓\n",
       "┃\u001b[1m \u001b[0m\u001b[1m       Test metric       \u001b[0m\u001b[1m \u001b[0m┃\u001b[1m \u001b[0m\u001b[1m      DataLoader 0       \u001b[0m\u001b[1m \u001b[0m┃\n",
       "┡━━━━━━━━━━━━━━━━━━━━━━━━━━━╇━━━━━━━━━━━━━━━━━━━━━━━━━━━┩\n",
       "│\u001b[36m \u001b[0m\u001b[36m        test_acc         \u001b[0m\u001b[36m \u001b[0m│\u001b[35m \u001b[0m\u001b[35m  0.007999999448657036   \u001b[0m\u001b[35m \u001b[0m│\n",
       "│\u001b[36m \u001b[0m\u001b[36m        test_loss        \u001b[0m\u001b[36m \u001b[0m│\u001b[35m \u001b[0m\u001b[35m    6.081631660461426    \u001b[0m\u001b[35m \u001b[0m│\n",
       "└───────────────────────────┴───────────────────────────┘\n"
      ]
     },
     "metadata": {},
     "output_type": "display_data"
    }
   ],
   "source": [
    "wandb_logger = l.pytorch.loggers.WandbLogger(\n",
    "    name=\"Classifier\", project=\"Self-supervised learning in-the-wild\"\n",
    ")\n",
    "callback = l.pytorch.callbacks.ModelCheckpoint(\n",
    "    monitor='val_acc',\n",
    "    mode='max'\n",
    ")\n",
    "trainer = l.pytorch.Trainer(\n",
    "    max_epochs=max_epochs, devices=1, accelerator=accelerator, logger=[wandb_logger], callbacks=[callback]\n",
    ")\n",
    "\n",
    "models = [model_ssl_frozen, model_ssl_not_frozen, model_pretrained_frozen, model_pretrained_not_frozen, model_untrained]\n",
    "titles = [\"SSL and frozen backbone\",\n",
    "         \"SSL and not frozen backbone\",\n",
    "         \"Pretrained and frozen backbone\",\n",
    "         \"Pretrained and not frozen backbone\",\n",
    "         \"With untrained backbone\"]\n",
    "\n",
    "accuracies = []\n",
    "losses = []\n",
    "for model in models:\n",
    "    model.eval()\n",
    "    test = trainer.test(model, dataloader_test)\n",
    "    accuracies.append(test[0][\"test_acc\"])\n",
    "    losses.append(test[0][\"test_loss\"])"
   ]
  },
  {
   "cell_type": "code",
   "execution_count": null,
   "id": "0709b42f",
   "metadata": {},
   "outputs": [
    {
     "name": "stderr",
     "output_type": "stream",
     "text": [
      "C:\\Users\\HLCaptain\\AppData\\Local\\Temp\\ipykernel_29116\\3470356060.py:4: UserWarning: set_ticklabels() should only be used with a fixed number of ticks, i.e. after set_ticks() or using a FixedLocator.\n",
      "  ax1.set_xticklabels(titles, rotation=45, ha='right')\n",
      "C:\\Users\\HLCaptain\\AppData\\Local\\Temp\\ipykernel_29116\\3470356060.py:7: UserWarning: set_ticklabels() should only be used with a fixed number of ticks, i.e. after set_ticks() or using a FixedLocator.\n",
      "  ax2.set_xticklabels(titles, rotation=45, ha='right')\n"
     ]
    },
    {
     "data": {
      "image/png": "[encoded data removed]",
      "text/plain": [
       "<Figure size 1000x500 with 2 Axes>"
      ]
     },
     "metadata": {},
     "output_type": "display_data"
    }
   ],
   "source": [
    "fig, (ax1, ax2) = plt.subplots(1, 2, figsize=(10, 5))\n",
    "ax1.bar(titles, accuracies)\n",
    "ax1.set_title('Accuracies')\n",
    "ax1.set_xticklabels(titles, rotation=45, ha='right')\n",
    "ax2.bar(titles, losses)\n",
    "ax2.set_title('Losses')\n",
    "ax2.set_xticklabels(titles, rotation=45, ha='right')\n",
    "\n",
    "plt.show()"
   ]
  },
  {
   "cell_type": "markdown",
   "id": "44b2246d",
   "metadata": {},
   "source": [
    "## Confusion matrix"
   ]
  },
  {
   "cell_type": "code",
   "execution_count": null,
   "id": "2a9ff4c0",
   "metadata": {},
   "outputs": [
    {
     "name": "stderr",
     "output_type": "stream",
     "text": [
      "LOCAL_RANK: 0 - CUDA_VISIBLE_DEVICES: [0]\n"
     ]
    },
    {
     "name": "stdout",
     "output_type": "stream",
     "text": [
      "Predicting DataLoader 0: 100%|██████████| 6/6 [00:00<00:00, 13.88it/s] \n"
     ]
    },
    {
     "name": "stderr",
     "output_type": "stream",
     "text": [
      "LOCAL_RANK: 0 - CUDA_VISIBLE_DEVICES: [0]\n"
     ]
    },
    {
     "name": "stdout",
     "output_type": "stream",
     "text": [
      "Predicting DataLoader 0: 100%|██████████| 6/6 [00:00<00:00, 16.81it/s]\n"
     ]
    },
    {
     "name": "stderr",
     "output_type": "stream",
     "text": [
      "LOCAL_RANK: 0 - CUDA_VISIBLE_DEVICES: [0]\n"
     ]
    },
    {
     "name": "stdout",
     "output_type": "stream",
     "text": [
      "Predicting DataLoader 0: 100%|██████████| 6/6 [00:00<00:00, 15.89it/s] \n"
     ]
    },
    {
     "name": "stderr",
     "output_type": "stream",
     "text": [
      "LOCAL_RANK: 0 - CUDA_VISIBLE_DEVICES: [0]\n"
     ]
    },
    {
     "name": "stdout",
     "output_type": "stream",
     "text": [
      "Predicting DataLoader 0: 100%|██████████| 6/6 [00:00<00:00, 16.80it/s]\n"
     ]
    },
    {
     "name": "stderr",
     "output_type": "stream",
     "text": [
      "LOCAL_RANK: 0 - CUDA_VISIBLE_DEVICES: [0]\n"
     ]
    },
    {
     "name": "stdout",
     "output_type": "stream",
     "text": [
      "Predicting DataLoader 0: 100%|██████████| 6/6 [00:00<00:00, 23.07it/s] \n"
     ]
    }
   ],
   "source": [
    "def evaluate_model(model, dataloader, num_classes):\n",
    "    confusion_matrix_metric = torchmetrics.classification.MulticlassConfusionMatrix(num_classes=num_classes)\n",
    "    model.eval()\n",
    "    with torch.no_grad():\n",
    "        for y_hat, y in trainer.predict(model, dataloader):\n",
    "            confusion_matrix_metric(y_hat.softmax(dim=-1), y)\n",
    "    confusion_matrix = confusion_matrix_metric.compute()\n",
    "    return confusion_matrix\n",
    "\n",
    "confusion_matrices = []\n",
    "for model in models:\n",
    "    confusion_matrices.append(evaluate_model(model, dataloader_test, num_classes))"
   ]
  },
  {
   "cell_type": "code",
   "execution_count": null,
   "id": "206f93ff",
   "metadata": {},
   "outputs": [
    {
     "data": {
      "image/png": "[encoded data removed]",
      "text/plain": [
       "<Figure size 6000x6000 with 5 Axes>"
      ]
     },
     "metadata": {},
     "output_type": "display_data"
    }
   ],
   "source": [
    "fig, axs = plt.subplots(5, 1, figsize=(60, 60))\n",
    "for i, ax in enumerate(axs):\n",
    "    ax.matshow(confusion_matrices[i], cmap=plt.cm.Blues)\n",
    "    ax.set_title(titles[i])\n",
    "    ax.set_xlabel(\"Predicted label\")\n",
    "    ax.set_ylabel(\"True label\")\n",
    "\n",
    "plt.show()"
   ]
  }
 ],
 "metadata": {
  "kernelspec": {
   "display_name": "Python 3 (ipykernel)",
   "language": "python",
   "name": "python3"
  },
  "language_info": {
   "codemirror_mode": {
    "name": "ipython",
    "version": 3
   },
   "file_extension": ".py",
   "mimetype": "text/x-python",
   "name": "python",
   "nbconvert_exporter": "python",
   "pygments_lexer": "ipython3",
   "version": "3.11.7"
  }
 },
 "nbformat": 4,
 "nbformat_minor": 5
}
