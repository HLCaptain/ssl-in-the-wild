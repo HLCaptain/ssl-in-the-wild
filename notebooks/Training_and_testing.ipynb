{
 "cells": [
  {
   "cell_type": "markdown",
   "id": "8003ec70",
   "metadata": {},
   "source": [
    "# Imports and hyperparameters"
   ]
  },
  {
   "cell_type": "code",
   "execution_count": 1,
   "id": "ec2d30fd",
   "metadata": {},
   "outputs": [],
   "source": [
    "import copy\n",
    "import wandb\n",
    "import os\n",
    "\n",
    "import lightning as l\n",
    "import torch\n",
    "import torchvision\n",
    "import torchmetrics\n",
    "from torch import nn\n",
    "import matplotlib.pyplot as plt\n",
    "\n",
    "from lightly.data import LightlyDataset\n",
    "from lightly.loss.vicreg_loss import VICRegLoss\n",
    "from lightly.models.modules.heads import VICRegProjectionHead\n",
    "from lightly.transforms.vicreg_transform import VICRegTransform\n",
    "from lightly.models.utils import (\n",
    "    batch_shuffle,\n",
    "    batch_unshuffle,\n",
    "    deactivate_requires_grad,\n",
    "    update_momentum,\n",
    ")\n",
    "from lightly.transforms import utils\n",
    "from torch.optim import SGD, Adam"
   ]
  },
  {
   "cell_type": "code",
   "execution_count": 2,
   "id": "825fe8be",
   "metadata": {},
   "outputs": [
    {
     "name": "stderr",
     "output_type": "stream",
     "text": [
      "\u001b[34m\u001b[1mwandb\u001b[0m: Currently logged in as: \u001b[33mczifrus-hanna\u001b[0m (\u001b[33mczhanna-wandb\u001b[0m). Use \u001b[1m`wandb login --relogin`\u001b[0m to force relogin\n"
     ]
    },
    {
     "data": {
      "text/plain": [
       "True"
      ]
     },
     "execution_count": 2,
     "metadata": {},
     "output_type": "execute_result"
    }
   ],
   "source": [
    "wandb.login()"
   ]
  },
  {
   "cell_type": "code",
   "execution_count": 3,
   "id": "e85d1392",
   "metadata": {},
   "outputs": [],
   "source": [
    "num_workers = os.cpu_count()\n",
    "batch_size = 512\n",
    "memory_bank_size = 4096\n",
    "seed = 1\n",
    "max_epochs = 100\n",
    "data_dir = '../data/'\n",
    "accelerator = \"gpu\" if torch.cuda.is_available() else \"cpu\""
   ]
  },
  {
   "cell_type": "code",
   "execution_count": 4,
   "id": "b3495978",
   "metadata": {},
   "outputs": [],
   "source": [
    "path_to_train = data_dir + \"100-bird-species/train/\"\n",
    "path_to_valid = data_dir + \"100-bird-species/valid/\"\n",
    "path_to_test = data_dir + \"100-bird-species/test/\""
   ]
  },
  {
   "cell_type": "code",
   "execution_count": 5,
   "id": "658953b6",
   "metadata": {},
   "outputs": [
    {
     "name": "stdout",
     "output_type": "stream",
     "text": [
      "525\n"
     ]
    }
   ],
   "source": [
    "from torchvision.datasets import ImageFolder\n",
    "\n",
    "dataset = ImageFolder(path_to_train)\n",
    "num_classes = len(dataset.classes)\n",
    "print(num_classes)"
   ]
  },
  {
   "cell_type": "code",
   "execution_count": 6,
   "id": "94d09f18",
   "metadata": {},
   "outputs": [
    {
     "name": "stderr",
     "output_type": "stream",
     "text": [
      "Seed set to 1\n"
     ]
    },
    {
     "data": {
      "text/plain": [
       "1"
      ]
     },
     "execution_count": 6,
     "metadata": {},
     "output_type": "execute_result"
    }
   ],
   "source": [
    "l.seed_everything(seed)"
   ]
  },
  {
   "cell_type": "markdown",
   "id": "5132b7c7",
   "metadata": {},
   "source": [
    "# Datasets"
   ]
  },
  {
   "cell_type": "code",
   "execution_count": 7,
   "id": "7c064abb",
   "metadata": {},
   "outputs": [],
   "source": [
    "train_vicreg_transform = VICRegTransform(\n",
    "    input_size=32,\n",
    "    gaussian_blur=0.0,\n",
    ")\n",
    "\n",
    "train_classifier_transforms = torchvision.transforms.Compose(\n",
    "    [\n",
    "        torchvision.transforms.RandomCrop(32, padding=4),\n",
    "        torchvision.transforms.RandomHorizontalFlip(),\n",
    "        torchvision.transforms.ToTensor(),\n",
    "        torchvision.transforms.Normalize(\n",
    "            mean=utils.IMAGENET_NORMALIZE[\"mean\"],\n",
    "            std=utils.IMAGENET_NORMALIZE[\"std\"],\n",
    "        ),\n",
    "    ]\n",
    ")\n",
    "\n",
    "# No additional augmentations for the test set\n",
    "test_transforms = torchvision.transforms.Compose(\n",
    "    [\n",
    "        torchvision.transforms.Resize((32, 32)),\n",
    "        torchvision.transforms.ToTensor(),\n",
    "        torchvision.transforms.Normalize(\n",
    "            mean=utils.IMAGENET_NORMALIZE[\"mean\"],\n",
    "            std=utils.IMAGENET_NORMALIZE[\"std\"],\n",
    "        ),\n",
    "    ]\n",
    ")"
   ]
  },
  {
   "cell_type": "code",
   "execution_count": 8,
   "id": "bc7136f3",
   "metadata": {},
   "outputs": [],
   "source": [
    "dataset_train_vicreg = LightlyDataset(input_dir=path_to_train, transform=train_vicreg_transform)\n",
    "\n",
    "dataset_train_classifier = LightlyDataset(\n",
    "    input_dir=path_to_train, transform=train_classifier_transforms\n",
    ")\n",
    "\n",
    "dataset_valid = LightlyDataset(input_dir=path_to_valid, transform=test_transforms)\n",
    "dataset_test = LightlyDataset(input_dir=path_to_test, transform=test_transforms)"
   ]
  },
  {
   "cell_type": "code",
   "execution_count": 9,
   "id": "6414a55f",
   "metadata": {},
   "outputs": [],
   "source": [
    "dataloader_train_vicreg = torch.utils.data.DataLoader(\n",
    "    dataset_train_vicreg,\n",
    "    batch_size=batch_size,\n",
    "    shuffle=True,\n",
    "    drop_last=True,\n",
    "    num_workers=num_workers,\n",
    "    persistent_workers=True,\n",
    ")\n",
    "\n",
    "dataloader_train_classifier = torch.utils.data.DataLoader(\n",
    "    dataset_train_classifier,\n",
    "    batch_size=batch_size,\n",
    "    shuffle=True,\n",
    "    drop_last=True,\n",
    "    num_workers=num_workers,\n",
    "    persistent_workers=True,\n",
    ")\n",
    "\n",
    "dataloader_valid = torch.utils.data.DataLoader(\n",
    "    dataset_valid,\n",
    "    batch_size=batch_size,\n",
    "    shuffle=False,\n",
    "    drop_last=False,\n",
    "    num_workers=num_workers,\n",
    "    persistent_workers=True,\n",
    ")\n",
    "\n",
    "dataloader_test = torch.utils.data.DataLoader(\n",
    "    dataset_test,\n",
    "    batch_size=batch_size,\n",
    "    shuffle=False,\n",
    "    drop_last=False,\n",
    "    num_workers=num_workers,\n",
    "    persistent_workers=True,\n",
    ")"
   ]
  },
  {
   "cell_type": "markdown",
   "id": "0a25a792",
   "metadata": {},
   "source": [
    "# VICReg class \n",
    "SSL-method with pretrained resnet18 backbone"
   ]
  },
  {
   "cell_type": "code",
   "execution_count": 10,
   "id": "e2a8013e",
   "metadata": {},
   "outputs": [],
   "source": [
    "class VICReg(l.LightningModule):\n",
    "    def __init__(self):\n",
    "        super().__init__()\n",
    "        resnet = torchvision.models.resnet18(pretrained=True)\n",
    "        self.backbone = nn.Sequential(*list(resnet.children())[:-1])\n",
    "        self.projection_head = VICRegProjectionHead(\n",
    "            input_dim=512,\n",
    "            hidden_dim=2048,\n",
    "            output_dim=2048,\n",
    "            num_layers=4,\n",
    "        )\n",
    "        self.criterion = VICRegLoss()\n",
    "\n",
    "    def forward(self, x):\n",
    "        x = self.backbone(x).flatten(start_dim=1)\n",
    "        z = self.projection_head(x)\n",
    "        return z\n",
    "\n",
    "    def training_step(self, batch, batch_index):\n",
    "        (x0, x1) = batch[0]\n",
    "        z0 = self.forward(x0)\n",
    "        z1 = self.forward(x1)\n",
    "        loss = self.criterion(z0, z1)\n",
    "        self.log(\"vicreg_loss\", loss, on_epoch=True)\n",
    "        return loss\n",
    "\n",
    "    def configure_optimizers(self):\n",
    "        optim = Adam(self.parameters(), lr=0.06)\n",
    "        return optim"
   ]
  },
  {
   "cell_type": "markdown",
   "id": "416b82e7",
   "metadata": {},
   "source": [
    "# Classifier class\n",
    "Defining one classification layer after the backbone"
   ]
  },
  {
   "cell_type": "code",
   "execution_count": 11,
   "id": "af461663",
   "metadata": {},
   "outputs": [],
   "source": [
    "class Classifier(l.LightningModule):\n",
    "    def __init__(self, backbone, freeze, num_classes):\n",
    "        super().__init__()\n",
    "        self.backbone = backbone\n",
    "\n",
    "        if freeze:\n",
    "            # freeze the backbone\n",
    "            deactivate_requires_grad(backbone)\n",
    "\n",
    "        # create a linear layer for our downstream classification model\n",
    "        self.fc = nn.Linear(512, num_classes)\n",
    "\n",
    "        self.firstTime = True\n",
    "\n",
    "        self.criterion = nn.CrossEntropyLoss()\n",
    "        self.accuracy = torchmetrics.Accuracy(task='multiclass', num_classes=num_classes)\n",
    "        self.validation_step_outputs = []\n",
    "\n",
    "    def forward(self, x):\n",
    "        y_hat = self.backbone(x).flatten(start_dim=1)\n",
    "        y_hat = self.fc(y_hat)\n",
    "        return y_hat\n",
    "\n",
    "    def training_step(self, batch, batch_idx):\n",
    "        x, y, _ = batch\n",
    "        if self.firstTime:\n",
    "            self.firstTime = False\n",
    "            print(type(x))\n",
    "            print(x)\n",
    "            print(type(y))\n",
    "        y_hat = self.forward(x)\n",
    "        loss = self.criterion(y_hat, y)\n",
    "        self.log(\"classifier_loss\", loss)\n",
    "        return loss\n",
    "\n",
    "    def validation_step(self, batch, batch_idx):\n",
    "        x, y, _ = batch\n",
    "        y_hat = self.forward(x)\n",
    "        y_hat = torch.nn.functional.softmax(y_hat, dim=1)\n",
    "\n",
    "        _, predicted = torch.max(y_hat, 1)\n",
    "        num = predicted.shape[0]\n",
    "        correct = (predicted == y).float().sum()\n",
    "        self.validation_step_outputs.append((num, correct))\n",
    "        return num, correct\n",
    "\n",
    "    def on_validation_epoch_end(self):\n",
    "        if self.validation_step_outputs:\n",
    "            total_num = 0\n",
    "            total_correct = 0\n",
    "            for num, correct in self.validation_step_outputs:\n",
    "                total_num += num\n",
    "                total_correct += correct\n",
    "            acc = total_correct / total_num\n",
    "            self.log(\"val_acc\", acc, on_epoch=True, prog_bar=True)\n",
    "            self.validation_step_outputs.clear()\n",
    "\n",
    "    def test_step(self, batch, batch_idx):\n",
    "        x, y, _ = batch\n",
    "        y_hat = self(x)\n",
    "\n",
    "        loss = self.criterion(y_hat, y)\n",
    "        accuracy = self.accuracy(y_hat, y)\n",
    "\n",
    "        self.log(\"test_loss\", loss)\n",
    "        self.log(\"test_acc\", accuracy)\n",
    "        return loss\n",
    "\n",
    "    def predict_step(self, batch, batch_idx):\n",
    "        x, y, _ = batch\n",
    "        y_hat = self(x)\n",
    "        return (y_hat, y)\n",
    "\n",
    "    def configure_optimizers(self):\n",
    "        optim = Adam(self.fc.parameters(), lr=0.01)\n",
    "        scheduler = torch.optim.lr_scheduler.CosineAnnealingLR(optim, max_epochs)\n",
    "        return [optim], [scheduler]"
   ]
  },
  {
   "cell_type": "markdown",
   "id": "57e8be37",
   "metadata": {},
   "source": [
    "# Training\n",
    "\n",
    "You can load the trained models after each training cell by specifying the appropriate path and commenting out the required lines"
   ]
  },
  {
   "cell_type": "markdown",
   "id": "506c44bb",
   "metadata": {},
   "source": [
    "## VICReg training"
   ]
  },
  {
   "cell_type": "code",
   "execution_count": 36,
   "id": "99cd7516",
   "metadata": {},
   "outputs": [
    {
     "name": "stderr",
     "output_type": "stream",
     "text": [
      "GPU available: True (cuda), used: True\n",
      "TPU available: False, using: 0 TPU cores\n",
      "IPU available: False, using: 0 IPUs\n",
      "HPU available: False, using: 0 HPUs\n",
      "LOCAL_RANK: 0 - CUDA_VISIBLE_DEVICES: [0]\n",
      "\n",
      "  | Name            | Type                 | Params\n",
      "---------------------------------------------------------\n",
      "0 | backbone        | Sequential           | 11.2 M\n",
      "1 | projection_head | VICRegProjectionHead | 13.6 M\n",
      "2 | criterion       | VICRegLoss           | 0     \n",
      "---------------------------------------------------------\n",
      "24.8 M    Trainable params\n",
      "0         Non-trainable params\n",
      "24.8 M    Total params\n",
      "99.289    Total estimated model params size (MB)\n"
     ]
    },
    {
     "name": "stdout",
     "output_type": "stream",
     "text": [
      "Epoch 0:   0%|          | 0/165 [00:00<?, ?it/s] "
     ]
    },
    {
     "name": "stderr",
     "output_type": "stream",
     "text": [
      "C:\\Users\\illya\\AppData\\Local\\Packages\\PythonSoftwareFoundation.Python.3.11_qbz5n2kfra8p0\\LocalCache\\local-packages\\Python311\\site-packages\\lightning\\pytorch\\utilities\\data.py:77: Trying to infer the `batch_size` from an ambiguous collection. The batch size we found is 512. To avoid any miscalculations, use `self.log(..., batch_size=batch_size)`.\n"
     ]
    },
    {
     "name": "stdout",
     "output_type": "stream",
     "text": [
      "Epoch 99: 100%|██████████| 165/165 [00:08<00:00, 19.81it/s, v_num=dae3]"
     ]
    },
    {
     "name": "stderr",
     "output_type": "stream",
     "text": [
      "`Trainer.fit` stopped: `max_epochs=100` reached.\n"
     ]
    },
    {
     "name": "stdout",
     "output_type": "stream",
     "text": [
      "Epoch 99: 100%|██████████| 165/165 [00:09<00:00, 17.58it/s, v_num=dae3]\n"
     ]
    },
    {
     "data": {
      "text/html": [
       "<style>\n",
       "    table.wandb td:nth-child(1) { padding: 0 10px; text-align: left ; width: auto;} td:nth-child(2) {text-align: left ; width: 100%}\n",
       "    .wandb-row { display: flex; flex-direction: row; flex-wrap: wrap; justify-content: flex-start; width: 100% }\n",
       "    .wandb-col { display: flex; flex-direction: column; flex-basis: 100%; flex: 1; padding: 10px; }\n",
       "    </style>\n",
       "<div class=\"wandb-row\"><div class=\"wandb-col\"><h3>Run history:</h3><br/><table class=\"wandb\"><tr><td>epoch</td><td>▁▁▁▂▂▂▂▂▂▃▃▃▃▃▄▄▄▄▄▄▅▅▅▅▅▅▆▆▆▆▆▇▇▇▇▇▇███</td></tr><tr><td>trainer/global_step</td><td>▁▁▁▂▂▂▂▂▂▃▃▃▃▃▄▄▄▄▄▄▅▅▅▅▅▅▆▆▆▆▆▇▇▇▇▇▇███</td></tr><tr><td>vicreg_loss_epoch</td><td>█▁▁▁▁▁▁▁▁▁▁▁▁▁▁▁▁▁▁▁▁▁▁▁▁▁▁▁▁▁▁▁▁▁▁▁▁▁▁▁</td></tr><tr><td>vicreg_loss_step</td><td>█▃▃▂▁▁▁▁▁▁▁▁▁▁▁▁▁▁▁▁▁▁▁▁▁▁▁▁▁▁▁▁▁▁▁▁▁▁▁▁</td></tr></table><br/></div><div class=\"wandb-col\"><h3>Run summary:</h3><br/><table class=\"wandb\"><tr><td>epoch</td><td>99</td></tr><tr><td>trainer/global_step</td><td>16499</td></tr><tr><td>vicreg_loss_epoch</td><td>22.60699</td></tr><tr><td>vicreg_loss_step</td><td>22.49124</td></tr></table><br/></div></div>"
      ],
      "text/plain": [
       "<IPython.core.display.HTML object>"
      ]
     },
     "metadata": {},
     "output_type": "display_data"
    },
    {
     "data": {
      "text/html": [
       " View run <strong style=\"color:#cdcd00\">VICReg</strong> at: <a href='https://wandb.ai/nest-ai/Self-supervised%20learning%20in-the-wild/runs/mkjodae3' target=\"_blank\">https://wandb.ai/nest-ai/Self-supervised%20learning%20in-the-wild/runs/mkjodae3</a><br/>Synced 5 W&B file(s), 0 media file(s), 0 artifact file(s) and 0 other file(s)"
      ],
      "text/plain": [
       "<IPython.core.display.HTML object>"
      ]
     },
     "metadata": {},
     "output_type": "display_data"
    },
    {
     "data": {
      "text/html": [
       "Find logs at: <code>.\\wandb\\run-20231130_190815-mkjodae3\\logs</code>"
      ],
      "text/plain": [
       "<IPython.core.display.HTML object>"
      ]
     },
     "metadata": {},
     "output_type": "display_data"
    }
   ],
   "source": [
    "wandb_logger = l.pytorch.loggers.WandbLogger(\n",
    "    name=\"VICReg\", project=\"Self-supervised learning in-the-wild\"\n",
    ")\n",
    "callback = l.pytorch.callbacks.ModelCheckpoint(\n",
    "    monitor='vicreg_loss',\n",
    "    mode='min',\n",
    "    dirpath = './models/',\n",
    "    filename = 'best_model_vicreg',\n",
    ")\n",
    "\n",
    "ssl_model = VICReg()\n",
    "trainer = l.pytorch.Trainer(\n",
    "    max_epochs=max_epochs, devices=1, accelerator=accelerator, logger=[wandb_logger], callbacks=[callback]\n",
    ")\n",
    "trainer.fit(model=ssl_model, train_dataloaders=dataloader_train_vicreg)\n",
    "\n",
    "wandb.finish()"
   ]
  },
  {
   "cell_type": "code",
   "execution_count": 12,
   "id": "1f81d0ba",
   "metadata": {},
   "outputs": [
    {
     "name": "stderr",
     "output_type": "stream",
     "text": [
      "C:\\Users\\Hanna\\anaconda3\\envs\\deep_learning\\lib\\site-packages\\torchvision\\models\\_utils.py:208: UserWarning: The parameter 'pretrained' is deprecated since 0.13 and may be removed in the future, please use 'weights' instead.\n",
      "  warnings.warn(\n",
      "C:\\Users\\Hanna\\anaconda3\\envs\\deep_learning\\lib\\site-packages\\torchvision\\models\\_utils.py:223: UserWarning: Arguments other than a weight enum or `None` for 'weights' are deprecated since 0.13 and may be removed in the future. The current behavior is equivalent to passing `weights=ResNet18_Weights.IMAGENET1K_V1`. You can also use `weights=ResNet18_Weights.DEFAULT` to get the most up-to-date weights.\n",
      "  warnings.warn(msg)\n"
     ]
    },
    {
     "ename": "RuntimeError",
     "evalue": "Error(s) in loading state_dict for VICReg:\n\tMissing key(s) in state_dict: \"projection_head.layers.4.weight\", \"projection_head.layers.4.bias\", \"projection_head.layers.4.running_mean\", \"projection_head.layers.4.running_var\", \"projection_head.layers.6.weight\", \"projection_head.layers.7.weight\", \"projection_head.layers.7.bias\", \"projection_head.layers.7.running_mean\", \"projection_head.layers.7.running_var\", \"projection_head.layers.9.weight\", \"projection_head.layers.9.bias\". \n\tUnexpected key(s) in state_dict: \"projection_head.layers.3.bias\". ",
     "output_type": "error",
     "traceback": [
      "\u001b[1;31m---------------------------------------------------------------------------\u001b[0m",
      "\u001b[1;31mRuntimeError\u001b[0m                              Traceback (most recent call last)",
      "Cell \u001b[1;32mIn[12], line 5\u001b[0m\n\u001b[0;32m      2\u001b[0m ckpt_path \u001b[38;5;241m=\u001b[39m \u001b[38;5;124m\"\u001b[39m\u001b[38;5;124mmodels/best_model_vicreg.ckpt\u001b[39m\u001b[38;5;124m\"\u001b[39m\n\u001b[0;32m      4\u001b[0m ssl_model \u001b[38;5;241m=\u001b[39m VICReg()\n\u001b[1;32m----> 5\u001b[0m \u001b[43mssl_model\u001b[49m\u001b[38;5;241;43m.\u001b[39;49m\u001b[43mload_state_dict\u001b[49m\u001b[43m(\u001b[49m\u001b[43mtorch\u001b[49m\u001b[38;5;241;43m.\u001b[39;49m\u001b[43mload\u001b[49m\u001b[43m(\u001b[49m\u001b[43mckpt_path\u001b[49m\u001b[43m,\u001b[49m\u001b[43m \u001b[49m\u001b[43mmap_location\u001b[49m\u001b[38;5;241;43m=\u001b[39;49m\u001b[43mtorch\u001b[49m\u001b[38;5;241;43m.\u001b[39;49m\u001b[43mdevice\u001b[49m\u001b[43m(\u001b[49m\u001b[38;5;124;43m'\u001b[39;49m\u001b[38;5;124;43mcpu\u001b[39;49m\u001b[38;5;124;43m'\u001b[39;49m\u001b[43m)\u001b[49m\u001b[43m)\u001b[49m\u001b[43m[\u001b[49m\u001b[38;5;124;43m'\u001b[39;49m\u001b[38;5;124;43mstate_dict\u001b[39;49m\u001b[38;5;124;43m'\u001b[39;49m\u001b[43m]\u001b[49m\u001b[43m)\u001b[49m\n",
      "File \u001b[1;32m~\\anaconda3\\envs\\deep_learning\\lib\\site-packages\\torch\\nn\\modules\\module.py:2152\u001b[0m, in \u001b[0;36mModule.load_state_dict\u001b[1;34m(self, state_dict, strict, assign)\u001b[0m\n\u001b[0;32m   2147\u001b[0m         error_msgs\u001b[38;5;241m.\u001b[39minsert(\n\u001b[0;32m   2148\u001b[0m             \u001b[38;5;241m0\u001b[39m, \u001b[38;5;124m'\u001b[39m\u001b[38;5;124mMissing key(s) in state_dict: \u001b[39m\u001b[38;5;132;01m{}\u001b[39;00m\u001b[38;5;124m. \u001b[39m\u001b[38;5;124m'\u001b[39m\u001b[38;5;241m.\u001b[39mformat(\n\u001b[0;32m   2149\u001b[0m                 \u001b[38;5;124m'\u001b[39m\u001b[38;5;124m, \u001b[39m\u001b[38;5;124m'\u001b[39m\u001b[38;5;241m.\u001b[39mjoin(\u001b[38;5;124mf\u001b[39m\u001b[38;5;124m'\u001b[39m\u001b[38;5;124m\"\u001b[39m\u001b[38;5;132;01m{\u001b[39;00mk\u001b[38;5;132;01m}\u001b[39;00m\u001b[38;5;124m\"\u001b[39m\u001b[38;5;124m'\u001b[39m \u001b[38;5;28;01mfor\u001b[39;00m k \u001b[38;5;129;01min\u001b[39;00m missing_keys)))\n\u001b[0;32m   2151\u001b[0m \u001b[38;5;28;01mif\u001b[39;00m \u001b[38;5;28mlen\u001b[39m(error_msgs) \u001b[38;5;241m>\u001b[39m \u001b[38;5;241m0\u001b[39m:\n\u001b[1;32m-> 2152\u001b[0m     \u001b[38;5;28;01mraise\u001b[39;00m \u001b[38;5;167;01mRuntimeError\u001b[39;00m(\u001b[38;5;124m'\u001b[39m\u001b[38;5;124mError(s) in loading state_dict for \u001b[39m\u001b[38;5;132;01m{}\u001b[39;00m\u001b[38;5;124m:\u001b[39m\u001b[38;5;130;01m\\n\u001b[39;00m\u001b[38;5;130;01m\\t\u001b[39;00m\u001b[38;5;132;01m{}\u001b[39;00m\u001b[38;5;124m'\u001b[39m\u001b[38;5;241m.\u001b[39mformat(\n\u001b[0;32m   2153\u001b[0m                        \u001b[38;5;28mself\u001b[39m\u001b[38;5;241m.\u001b[39m\u001b[38;5;18m__class__\u001b[39m\u001b[38;5;241m.\u001b[39m\u001b[38;5;18m__name__\u001b[39m, \u001b[38;5;124m\"\u001b[39m\u001b[38;5;130;01m\\n\u001b[39;00m\u001b[38;5;130;01m\\t\u001b[39;00m\u001b[38;5;124m\"\u001b[39m\u001b[38;5;241m.\u001b[39mjoin(error_msgs)))\n\u001b[0;32m   2154\u001b[0m \u001b[38;5;28;01mreturn\u001b[39;00m _IncompatibleKeys(missing_keys, unexpected_keys)\n",
      "\u001b[1;31mRuntimeError\u001b[0m: Error(s) in loading state_dict for VICReg:\n\tMissing key(s) in state_dict: \"projection_head.layers.4.weight\", \"projection_head.layers.4.bias\", \"projection_head.layers.4.running_mean\", \"projection_head.layers.4.running_var\", \"projection_head.layers.6.weight\", \"projection_head.layers.7.weight\", \"projection_head.layers.7.bias\", \"projection_head.layers.7.running_mean\", \"projection_head.layers.7.running_var\", \"projection_head.layers.9.weight\", \"projection_head.layers.9.bias\". \n\tUnexpected key(s) in state_dict: \"projection_head.layers.3.bias\". "
     ]
    }
   ],
   "source": [
    "# Before running change ckpt_path to the correct one\n",
    "# ckpt_path = \"models/best_model_vicreg.ckpt\"\n",
    "\n",
    "# ssl_model = VICReg()\n",
    "# ssl_model.load_state_dict(torch.load(ckpt_path, map_location=torch.device('cpu'))['state_dict'])"
   ]
  },
  {
   "cell_type": "markdown",
   "id": "eb4c72b6",
   "metadata": {},
   "source": [
    "## Classifier training"
   ]
  },
  {
   "cell_type": "code",
   "execution_count": 16,
   "id": "d98e94bb",
   "metadata": {},
   "outputs": [],
   "source": [
    "def train_classifier(wandb_name, filename, backbone, freeze, max_eps):\n",
    "    wandb_logger = l.pytorch.loggers.WandbLogger(\n",
    "        name=wandb_name, project=\"Self-supervised learning in-the-wild\"\n",
    "    )\n",
    "    callback = l.pytorch.callbacks.ModelCheckpoint(\n",
    "        monitor='val_acc',\n",
    "        mode='max',\n",
    "        dirpath = './models/',\n",
    "        filename = filename,\n",
    "    )\n",
    "\n",
    "    classifier = Classifier(backbone, freeze, num_classes)\n",
    "    trainer = l.pytorch.Trainer(\n",
    "        max_epochs=max_eps, devices=1, accelerator=accelerator, logger=[wandb_logger], callbacks=[callback]\n",
    "\n",
    "    )\n",
    "    trainer.fit(classifier, dataloader_train_classifier, dataloader_valid)\n",
    "\n",
    "    wandb.finish()\n",
    "    \n",
    "    return classifier"
   ]
  },
  {
   "cell_type": "markdown",
   "id": "e0c68aee",
   "metadata": {},
   "source": [
    "### With ssl pretrained backbone and frozen weights"
   ]
  },
  {
   "cell_type": "code",
   "execution_count": 44,
   "id": "033aebea",
   "metadata": {
    "scrolled": false
   },
   "outputs": [
    {
     "name": "stderr",
     "output_type": "stream",
     "text": [
      "GPU available: True (cuda), used: True\n",
      "TPU available: False, using: 0 TPU cores\n",
      "IPU available: False, using: 0 IPUs\n",
      "HPU available: False, using: 0 HPUs\n",
      "C:\\Users\\illya\\AppData\\Local\\Packages\\PythonSoftwareFoundation.Python.3.11_qbz5n2kfra8p0\\LocalCache\\local-packages\\Python311\\site-packages\\lightning\\pytorch\\loggers\\wandb.py:389: There is a wandb run already in progress and newly created instances of `WandbLogger` will reuse this run. If this is not desired, call `wandb.finish()` before instantiating `WandbLogger`.\n",
      "C:\\Users\\illya\\AppData\\Local\\Packages\\PythonSoftwareFoundation.Python.3.11_qbz5n2kfra8p0\\LocalCache\\local-packages\\Python311\\site-packages\\lightning\\pytorch\\callbacks\\model_checkpoint.py:639: Checkpoint directory ./models/ exists and is not empty.\n",
      "LOCAL_RANK: 0 - CUDA_VISIBLE_DEVICES: [0]\n",
      "\n",
      "  | Name      | Type               | Params\n",
      "-------------------------------------------------\n",
      "0 | backbone  | Sequential         | 11.2 M\n",
      "1 | fc        | Linear             | 269 K \n",
      "2 | criterion | CrossEntropyLoss   | 0     \n",
      "3 | accuracy  | MulticlassAccuracy | 0     \n",
      "-------------------------------------------------\n",
      "269 K     Trainable params\n",
      "11.2 M    Non-trainable params\n",
      "11.4 M    Total params\n",
      "45.783    Total estimated model params size (MB)\n"
     ]
    },
    {
     "name": "stdout",
     "output_type": "stream",
     "text": [
      "Sanity Checking: |          | 0/? [00:00<?, ?it/s]Epoch 0:   0%|          | 0/165 [00:00<?, ?it/s]                            <class 'torch.Tensor'>\n",
      "tensor([[[[ 1.7009,  1.6495,  1.5639,  ...,  1.8722,  1.8208,  1.9235],\n",
      "          [ 1.6838,  1.7009,  1.6495,  ...,  1.9578,  1.8893,  1.8550],\n",
      "          [ 1.7865,  1.7009,  1.5810,  ...,  1.8037,  1.8722,  1.9064],\n",
      "          ...,\n",
      "          [ 0.5878,  0.4166,  0.8961,  ...,  1.5810,  1.6667,  1.6495],\n",
      "          [ 0.8961,  0.6049,  0.4166,  ...,  1.5468,  1.6667,  1.7180],\n",
      "          [ 0.8276,  0.4851,  0.8789,  ...,  1.6153,  1.6153,  1.6667]],\n",
      "\n",
      "         [[ 1.6933,  1.6583,  1.5707,  ...,  2.0259,  2.0084,  2.1134],\n",
      "          [ 1.6232,  1.6583,  1.6057,  ...,  2.0784,  2.0084,  2.0084],\n",
      "          [ 1.7458,  1.6583,  1.5357,  ...,  1.8508,  1.9559,  2.0259],\n",
      "          ...,\n",
      "          [-0.5126, -0.7052, -0.1975,  ...,  1.7283,  1.8158,  1.7983],\n",
      "          [-0.2675, -0.5301, -0.6527,  ...,  1.7108,  1.8333,  1.8683],\n",
      "          [-0.3375, -0.6176, -0.0574,  ...,  1.8158,  1.7808,  1.8158]],\n",
      "\n",
      "         [[ 1.6988,  1.6117,  1.5245,  ...,  2.1520,  2.1346,  2.2391],\n",
      "          [ 1.6814,  1.6640,  1.5768,  ...,  2.1694,  2.1346,  2.1520],\n",
      "          [ 1.7163,  1.6291,  1.4722,  ...,  1.9254,  2.0648,  2.1520],\n",
      "          ...,\n",
      "          [-0.2184, -0.4101,  0.0953,  ...,  1.9080,  1.9951,  1.9777],\n",
      "          [ 0.0779, -0.1835, -0.3404,  ...,  1.8905,  2.0125,  2.0474],\n",
      "          [ 0.0082, -0.2881,  0.2173,  ...,  1.9777,  1.9603,  1.9951]]],\n",
      "\n",
      "\n",
      "        [[[ 0.5707,  0.5878,  0.6049,  ...,  0.3823,  0.3823,  0.3823],\n",
      "          [ 0.5707,  0.5878,  0.6049,  ...,  0.4166,  0.3823,  0.3823],\n",
      "          [ 0.6049,  0.6392,  0.6563,  ...,  0.4508,  0.4166,  0.3994],\n",
      "          ...,\n",
      "          [-0.1143, -0.1143, -0.0801,  ...,  0.4508,  0.4851,  0.5022],\n",
      "          [-0.1143, -0.0972, -0.0629,  ...,  0.3481,  0.3994,  0.3652],\n",
      "          [-0.0629, -0.0287,  0.0741,  ...,  0.2967,  0.2967,  0.2453]],\n",
      "\n",
      "         [[ 0.7304,  0.7479,  0.7654,  ...,  0.6779,  0.6779,  0.6779],\n",
      "          [ 0.7654,  0.7829,  0.8179,  ...,  0.6779,  0.6779,  0.6779],\n",
      "          [ 0.8004,  0.8354,  0.8704,  ...,  0.7129,  0.7129,  0.6954],\n",
      "          ...,\n",
      "          [ 0.2577,  0.2577,  0.2577,  ...,  0.6604,  0.6954,  0.7129],\n",
      "          [ 0.2577,  0.2752,  0.2752,  ...,  0.6078,  0.6078,  0.6254],\n",
      "          [ 0.2752,  0.3277,  0.3803,  ...,  0.5903,  0.5553,  0.5378]],\n",
      "\n",
      "         [[ 1.0365,  1.0539,  1.0714,  ...,  1.0191,  1.0539,  1.0539],\n",
      "          [ 1.0714,  1.0888,  1.0888,  ...,  1.0365,  1.0539,  1.0539],\n",
      "          [ 1.1062,  1.1411,  1.1411,  ...,  1.0714,  1.0888,  1.0714],\n",
      "          ...,\n",
      "          [ 0.7054,  0.6705,  0.6879,  ...,  1.0365,  1.0714,  1.0888],\n",
      "          [ 0.6705,  0.6879,  0.7054,  ...,  0.9668,  0.9842,  0.9842],\n",
      "          [ 0.7054,  0.7054,  0.7751,  ...,  0.9668,  0.9494,  0.9145]]],\n",
      "\n",
      "\n",
      "        [[[-1.9980, -1.9638, -1.9295,  ..., -2.0837, -2.1008, -2.1008],\n",
      "          [-1.9980, -1.9638, -1.9467,  ..., -2.0837, -2.1008, -2.0665],\n",
      "          [-2.0152, -1.9809, -1.9295,  ..., -2.1008, -2.1179, -2.1008],\n",
      "          ...,\n",
      "          [-0.5082, -0.0629,  0.0569,  ..., -1.5870, -1.4672, -1.4329],\n",
      "          [-0.9705, -0.9877, -0.7822,  ..., -1.7240, -1.6384, -1.6727],\n",
      "          [-0.8849, -0.9192, -0.6965,  ..., -1.8610, -1.7925, -1.7925]],\n",
      "\n",
      "         [[-0.9853, -0.9678, -0.9853,  ..., -1.4230, -1.4405, -1.4405],\n",
      "          [-1.0903, -1.0378, -1.0378,  ..., -1.4405, -1.4755, -1.4755],\n",
      "          [-1.2304, -1.1253, -1.0903,  ..., -1.5105, -1.5280, -1.5455],\n",
      "          ...,\n",
      "          [-0.6001, -0.1450, -0.0224,  ..., -0.7052, -0.6702, -0.7052],\n",
      "          [-1.0203, -1.0378, -0.8452,  ..., -0.6702, -0.6352, -0.7577],\n",
      "          [-0.8627, -0.9503, -0.7227,  ..., -0.6877, -0.6352, -0.7052]],\n",
      "\n",
      "         [[ 0.4265,  0.5311,  0.5834,  ...,  0.1825,  0.1651,  0.1999],\n",
      "          [ 0.3219,  0.4788,  0.5485,  ...,  0.1302,  0.1476,  0.1476],\n",
      "          [ 0.1999,  0.3742,  0.5136,  ...,  0.1128,  0.0953,  0.0953],\n",
      "          ...,\n",
      "          [-0.3753,  0.1128,  0.2696,  ...,  0.4788,  0.4614,  0.3916],\n",
      "          [-0.7413, -0.7238, -0.4624,  ...,  0.5485,  0.5834,  0.4091],\n",
      "          [-0.5147, -0.5321, -0.2707,  ...,  0.5659,  0.5834,  0.4788]]],\n",
      "\n",
      "\n",
      "        ...,\n",
      "\n",
      "\n",
      "        [[[-2.1179, -2.1179, -2.1179,  ..., -2.1179, -2.1179, -2.1179],\n",
      "          [-2.1179, -2.1179, -2.1179,  ..., -2.1179, -2.1179, -2.1179],\n",
      "          [-2.1179, -2.1179, -2.1179,  ..., -2.1179, -2.1179, -2.1179],\n",
      "          ...,\n",
      "          [ 0.1768,  0.1768,  0.1426,  ...,  0.2453,  0.2282, -2.1179],\n",
      "          [ 0.1597,  0.1597,  0.1426,  ...,  0.2111,  0.1939, -2.1179],\n",
      "          [ 0.1426,  0.1426,  0.1426,  ...,  0.1939,  0.1939, -2.1179]],\n",
      "\n",
      "         [[-2.0357, -2.0357, -2.0357,  ..., -2.0357, -2.0357, -2.0357],\n",
      "          [-2.0357, -2.0357, -2.0357,  ..., -2.0357, -2.0357, -2.0357],\n",
      "          [-2.0357, -2.0357, -2.0357,  ..., -2.0357, -2.0357, -2.0357],\n",
      "          ...,\n",
      "          [ 0.5903,  0.5553,  0.5203,  ...,  0.6604,  0.6779, -2.0357],\n",
      "          [ 0.5728,  0.5728,  0.5203,  ...,  0.6604,  0.6429, -2.0357],\n",
      "          [ 0.5553,  0.5553,  0.5203,  ...,  0.6429,  0.6429, -2.0357]],\n",
      "\n",
      "         [[-1.8044, -1.8044, -1.8044,  ..., -1.8044, -1.8044, -1.8044],\n",
      "          [-1.8044, -1.8044, -1.8044,  ..., -1.8044, -1.8044, -1.8044],\n",
      "          [-1.8044, -1.8044, -1.8044,  ..., -1.8044, -1.8044, -1.8044],\n",
      "          ...,\n",
      "          [-1.8044, -1.7870, -1.7870,  ..., -0.8458, -0.8458, -1.8044],\n",
      "          [-1.7870, -1.7870, -1.7870,  ..., -0.8633, -0.8807, -1.8044],\n",
      "          [-1.8044, -1.8044, -1.8044,  ..., -0.8807, -0.8807, -1.8044]]],\n",
      "\n",
      "\n",
      "        [[[-2.1179, -2.1179, -2.1179,  ..., -2.1179, -2.1179, -2.1179],\n",
      "          [-2.1179, -2.1179, -2.1179,  ..., -2.1179, -2.1179, -2.1179],\n",
      "          [-2.1179, -2.1179, -2.1179,  ..., -2.1179, -2.1179, -2.1179],\n",
      "          ...,\n",
      "          [-1.3302, -1.2788, -1.2617,  ..., -1.0904, -0.9534, -1.1932],\n",
      "          [-1.4329, -1.3302, -1.2445,  ..., -0.8164, -0.7650, -1.0048],\n",
      "          [-1.7240, -1.6042, -1.5014,  ..., -0.7993, -0.7650, -0.9877]],\n",
      "\n",
      "         [[-2.0357, -2.0357, -2.0357,  ..., -2.0357, -2.0357, -2.0357],\n",
      "          [-2.0357, -2.0357, -2.0357,  ..., -2.0357, -2.0357, -2.0357],\n",
      "          [-2.0357, -2.0357, -2.0357,  ..., -2.0357, -2.0357, -2.0357],\n",
      "          ...,\n",
      "          [-0.8102, -0.7402, -0.7052,  ..., -0.5651, -0.4426, -0.7052],\n",
      "          [-0.9153, -0.7927, -0.6877,  ..., -0.2850, -0.2675, -0.5301],\n",
      "          [-1.2479, -1.1078, -0.9853,  ..., -0.3375, -0.3025, -0.5826]],\n",
      "\n",
      "         [[-1.8044, -1.8044, -1.8044,  ..., -1.8044, -1.8044, -1.8044],\n",
      "          [-1.8044, -1.8044, -1.8044,  ..., -1.8044, -1.8044, -1.8044],\n",
      "          [-1.8044, -1.8044, -1.8044,  ..., -1.8044, -1.8044, -1.8044],\n",
      "          ...,\n",
      "          [-1.6302, -1.6650, -1.7173,  ..., -1.6999, -1.5779, -1.7522],\n",
      "          [-1.6999, -1.6999, -1.6999,  ..., -1.5256, -1.4907, -1.6127],\n",
      "          [-1.8044, -1.8044, -1.8044,  ..., -1.6650, -1.5604, -1.5953]]],\n",
      "\n",
      "\n",
      "        [[[ 0.2796,  0.2624,  0.2282,  ...,  0.2111,  0.2111,  0.2282],\n",
      "          [ 0.2796,  0.2624,  0.2624,  ...,  0.2111,  0.2282,  0.1939],\n",
      "          [ 0.2796,  0.2624,  0.2624,  ...,  0.2111,  0.2282,  0.1939],\n",
      "          ...,\n",
      "          [-0.9020, -1.0733, -1.1932,  ..., -0.7308, -0.7479, -0.9534],\n",
      "          [-0.7137, -1.1932, -1.1247,  ..., -0.7650, -0.7822, -0.8678],\n",
      "          [-0.5767, -1.1760, -1.2445,  ..., -0.8678, -1.0219, -1.0219]],\n",
      "\n",
      "         [[ 0.2577,  0.2752,  0.2927,  ...,  0.1877,  0.1877,  0.2052],\n",
      "          [ 0.2577,  0.2752,  0.2752,  ...,  0.1877,  0.2052,  0.2052],\n",
      "          [ 0.2752,  0.2752,  0.2752,  ...,  0.1877,  0.2052,  0.2052],\n",
      "          ...,\n",
      "          [-1.0378, -1.1604, -1.2304,  ..., -0.7227, -0.6702, -0.8452],\n",
      "          [-0.8102, -1.2304, -1.1253,  ..., -0.7227, -0.6702, -0.6877],\n",
      "          [-0.6352, -1.2129, -1.2479,  ..., -0.7752, -0.8627, -0.8102]],\n",
      "\n",
      "         [[ 0.3219,  0.3568,  0.3568,  ...,  0.2522,  0.2522,  0.2696],\n",
      "          [ 0.3219,  0.3568,  0.3568,  ...,  0.2522,  0.2696,  0.2522],\n",
      "          [ 0.3045,  0.3219,  0.3568,  ...,  0.2522,  0.2696,  0.2522],\n",
      "          ...,\n",
      "          [-1.2641, -1.3164, -1.4036,  ..., -0.8807, -0.8458, -1.0376],\n",
      "          [-1.0027, -1.4036, -1.3164,  ..., -0.9330, -0.8633, -0.8981],\n",
      "          [-0.8458, -1.3861, -1.4384,  ..., -1.0376, -1.1073, -1.0724]]]],\n",
      "       device='cuda:0')\n",
      "<class 'torch.Tensor'>\n",
      "Epoch 17:   5%|▌         | 9/165 [00:00<00:14, 10.69it/s, v_num=h3o6, val_acc=0.00419]  "
     ]
    },
    {
     "name": "stderr",
     "output_type": "stream",
     "text": [
      "C:\\Users\\illya\\AppData\\Local\\Packages\\PythonSoftwareFoundation.Python.3.11_qbz5n2kfra8p0\\LocalCache\\local-packages\\Python311\\site-packages\\lightning\\pytorch\\trainer\\call.py:54: Detected KeyboardInterrupt, attempting graceful shutdown...\n"
     ]
    },
    {
     "data": {
      "text/html": [
       "<style>\n",
       "    table.wandb td:nth-child(1) { padding: 0 10px; text-align: left ; width: auto;} td:nth-child(2) {text-align: left ; width: 100%}\n",
       "    .wandb-row { display: flex; flex-direction: row; flex-wrap: wrap; justify-content: flex-start; width: 100% }\n",
       "    .wandb-col { display: flex; flex-direction: column; flex-basis: 100%; flex: 1; padding: 10px; }\n",
       "    </style>\n",
       "<div class=\"wandb-row\"><div class=\"wandb-col\"><h3>Run history:</h3><br/><table class=\"wandb\"><tr><td>classifier_loss</td><td>▃▆▃▅▄█▆▃▇▂▅▇▃▂▁▄▅▄▅▃▃▄▄▅▅▄▃▃▃▇▅▆▇▄▂▃▂▃▃▃</td></tr><tr><td>epoch</td><td>▁▁▁▁▁▂▂▂▂▂▃▃▃▃▄▄▄▄▄▅▅▅▅▅▅▅▆▆▆▆▇▇▇▇▇█████</td></tr><tr><td>trainer/global_step</td><td>▁▁▁▁▂▂▂▂▂▃▃▃▃▃▃▄▄▄▄▄▅▅▅▅▅▅▆▆▆▆▆▇▇▇▇▇▇███</td></tr><tr><td>val_acc</td><td>█▂▂▄▂▂▁▂▂▁▁▃▁▅▄▂▂▄</td></tr></table><br/></div><div class=\"wandb-col\"><h3>Run summary:</h3><br/><table class=\"wandb\"><tr><td>classifier_loss</td><td>9.22698</td></tr><tr><td>epoch</td><td>16</td></tr><tr><td>trainer/global_step</td><td>2804</td></tr><tr><td>val_acc</td><td>0.00419</td></tr></table><br/></div></div>"
      ],
      "text/plain": [
       "<IPython.core.display.HTML object>"
      ]
     },
     "metadata": {},
     "output_type": "display_data"
    },
    {
     "data": {
      "text/html": [
       " View run <strong style=\"color:#cdcd00\">Classifier</strong> at: <a href='https://wandb.ai/nest-ai/Self-supervised%20learning%20in-the-wild/runs/kzm7h3o6' target=\"_blank\">https://wandb.ai/nest-ai/Self-supervised%20learning%20in-the-wild/runs/kzm7h3o6</a><br/>Synced 5 W&B file(s), 0 media file(s), 0 artifact file(s) and 0 other file(s)"
      ],
      "text/plain": [
       "<IPython.core.display.HTML object>"
      ]
     },
     "metadata": {},
     "output_type": "display_data"
    },
    {
     "data": {
      "text/html": [
       "Find logs at: <code>.\\wandb\\run-20231130_193601-kzm7h3o6\\logs</code>"
      ],
      "text/plain": [
       "<IPython.core.display.HTML object>"
      ]
     },
     "metadata": {},
     "output_type": "display_data"
    }
   ],
   "source": [
    "model_ssl_frozen = train_classifier(\"Classifier ssl frozen backbone\", \n",
    "                                    'best_model_with_ssl_frozen', \n",
    "                                    ssl_model.backbone, True, max_epochs)"
   ]
  },
  {
   "cell_type": "code",
   "execution_count": 39,
   "id": "ff2fcbe8",
   "metadata": {},
   "outputs": [],
   "source": [
    "# Before running, change ckpt_with_classifier_path to the correct one\n",
    "# and comment out the lines below.\n",
    "\n",
    "# ckpt_with_classifier_path = \"models/best_model_with_ssl_frozen.ckpt\"\n",
    "\n",
    "# ssl_model = VICReg()\n",
    "# model_ssl_frozen = Classifier(ssl_model.backbone, True, num_classes)\n",
    "# model_ssl_frozen.load_state_dict(torch.load(ckpt_with_classifier_path, map_location=torch.device('cpu'))['state_dict'])"
   ]
  },
  {
   "cell_type": "markdown",
   "id": "580c2347",
   "metadata": {},
   "source": [
    "### With ssl pretrained backbone and NOT frozen weights"
   ]
  },
  {
   "cell_type": "code",
   "execution_count": null,
   "id": "9514e43e",
   "metadata": {},
   "outputs": [],
   "source": [
    "model_ssl_not_frozen = train_classifier(\"Classifier ssl not frozen backbone\",\n",
    "                                        'best_model_with_ssl_not_frozen',\n",
    "                                        ssl_model.backbone, False, max_epochs)"
   ]
  },
  {
   "cell_type": "code",
   "execution_count": null,
   "id": "840b03e3",
   "metadata": {},
   "outputs": [],
   "source": [
    "# Before running, change ckpt_with_classifier_path to the correct one\n",
    "# and comment out the lines below.\n",
    "\n",
    "# ckpt_with_classifier_path = \"models/best_model_with_ssl_not_frozen.ckpt\"\n",
    "\n",
    "# ssl_model = VICReg()\n",
    "# model_ssl_not_frozen = Classifier(ssl_model.backbone, False, num_classes)\n",
    "# model_ssl_not_frozen.load_state_dict(torch.load(ckpt_with_classifier_path, map_location=torch.device('cpu'))['state_dict'])"
   ]
  },
  {
   "cell_type": "markdown",
   "id": "455fc48f",
   "metadata": {},
   "source": [
    "### Without SSL, but pretrained backbone with frozen weights"
   ]
  },
  {
   "cell_type": "code",
   "execution_count": null,
   "id": "3895e122",
   "metadata": {},
   "outputs": [],
   "source": [
    "# Defining the pretrained backbone\n",
    "# Running this cell is also required for loading from checkpoint\n",
    "\n",
    "resnet_pt = torchvision.models.resnet18(pretrained=True)\n",
    "backbone_pt = nn.Sequential(*list(resnet_pt.children())[:-1])"
   ]
  },
  {
   "cell_type": "code",
   "execution_count": 17,
   "id": "b3026bbe",
   "metadata": {},
   "outputs": [
    {
     "name": "stderr",
     "output_type": "stream",
     "text": [
      "GPU available: False, used: False\n",
      "TPU available: False, using: 0 TPU cores\n",
      "IPU available: False, using: 0 IPUs\n",
      "HPU available: False, using: 0 HPUs\n"
     ]
    },
    {
     "data": {
      "application/vnd.jupyter.widget-view+json": {
       "model_id": "bc15eb6de9f44a01a9c740bd4a3c9ac3",
       "version_major": 2,
       "version_minor": 0
      },
      "text/plain": [
       "VBox(children=(Label(value='Waiting for wandb.init()...\\r'), FloatProgress(value=0.011111111111111112, max=1.0…"
      ]
     },
     "metadata": {},
     "output_type": "display_data"
    },
    {
     "data": {
      "text/html": [
       "wandb version 0.16.0 is available!  To upgrade, please run:\n",
       " $ pip install wandb --upgrade"
      ],
      "text/plain": [
       "<IPython.core.display.HTML object>"
      ]
     },
     "metadata": {},
     "output_type": "display_data"
    },
    {
     "data": {
      "text/html": [
       "Tracking run with wandb version 0.15.12"
      ],
      "text/plain": [
       "<IPython.core.display.HTML object>"
      ]
     },
     "metadata": {},
     "output_type": "display_data"
    },
    {
     "data": {
      "text/html": [
       "Run data is saved locally in <code>.\\wandb\\run-20231202_191227-xmmh1jt9</code>"
      ],
      "text/plain": [
       "<IPython.core.display.HTML object>"
      ]
     },
     "metadata": {},
     "output_type": "display_data"
    },
    {
     "data": {
      "text/html": [
       "Syncing run <strong><a href='https://wandb.ai/czhanna-wandb/Self-supervised%20learning%20in-the-wild/runs/xmmh1jt9' target=\"_blank\">Classifier pretrained and frozen backbone</a></strong> to <a href='https://wandb.ai/czhanna-wandb/Self-supervised%20learning%20in-the-wild' target=\"_blank\">Weights & Biases</a> (<a href='https://wandb.me/run' target=\"_blank\">docs</a>)<br/>"
      ],
      "text/plain": [
       "<IPython.core.display.HTML object>"
      ]
     },
     "metadata": {},
     "output_type": "display_data"
    },
    {
     "data": {
      "text/html": [
       " View project at <a href='https://wandb.ai/czhanna-wandb/Self-supervised%20learning%20in-the-wild' target=\"_blank\">https://wandb.ai/czhanna-wandb/Self-supervised%20learning%20in-the-wild</a>"
      ],
      "text/plain": [
       "<IPython.core.display.HTML object>"
      ]
     },
     "metadata": {},
     "output_type": "display_data"
    },
    {
     "data": {
      "text/html": [
       " View run at <a href='https://wandb.ai/czhanna-wandb/Self-supervised%20learning%20in-the-wild/runs/xmmh1jt9' target=\"_blank\">https://wandb.ai/czhanna-wandb/Self-supervised%20learning%20in-the-wild/runs/xmmh1jt9</a>"
      ],
      "text/plain": [
       "<IPython.core.display.HTML object>"
      ]
     },
     "metadata": {},
     "output_type": "display_data"
    },
    {
     "name": "stderr",
     "output_type": "stream",
     "text": [
      "C:\\Users\\Hanna\\anaconda3\\envs\\deep_learning\\lib\\site-packages\\lightning\\pytorch\\callbacks\\model_checkpoint.py:630: Checkpoint directory ./models/ exists and is not empty.\n",
      "\n",
      "  | Name      | Type               | Params\n",
      "-------------------------------------------------\n",
      "0 | backbone  | Sequential         | 11.2 M\n",
      "1 | fc        | Linear             | 269 K \n",
      "2 | criterion | CrossEntropyLoss   | 0     \n",
      "3 | accuracy  | MulticlassAccuracy | 0     \n",
      "-------------------------------------------------\n",
      "269 K     Trainable params\n",
      "11.2 M    Non-trainable params\n",
      "11.4 M    Total params\n",
      "45.783    Total estimated model params size (MB)\n"
     ]
    },
    {
     "data": {
      "application/vnd.jupyter.widget-view+json": {
       "model_id": "",
       "version_major": 2,
       "version_minor": 0
      },
      "text/plain": [
       "Sanity Checking: |                                                                               | 0/? [00:00<…"
      ]
     },
     "metadata": {},
     "output_type": "display_data"
    },
    {
     "data": {
      "application/vnd.jupyter.widget-view+json": {
       "model_id": "79f6333e5edd48258301fecfd76457e7",
       "version_major": 2,
       "version_minor": 0
      },
      "text/plain": [
       "Training: |                                                                                      | 0/? [00:00<…"
      ]
     },
     "metadata": {},
     "output_type": "display_data"
    },
    {
     "name": "stdout",
     "output_type": "stream",
     "text": [
      "<class 'torch.Tensor'>\n",
      "tensor([[[[ 0.3138,  0.3138,  0.3138,  ...,  0.2111,  0.2111,  0.2624],\n",
      "          [ 0.3481,  0.3309,  0.2796,  ...,  0.2453,  0.2453,  0.2796],\n",
      "          [ 0.3481,  0.3309,  0.2796,  ...,  0.3309,  0.3309,  0.3652],\n",
      "          ...,\n",
      "          [ 0.0741,  0.1254,  0.1768,  ...,  0.2453,  0.2967,  0.2453],\n",
      "          [ 0.0398,  0.0569,  0.1083,  ...,  0.1254,  0.1939,  0.1426],\n",
      "          [ 0.0398,  0.0741,  0.1254,  ...,  0.1083,  0.1768,  0.1426]],\n",
      "\n",
      "         [[ 0.3277,  0.3277,  0.3277,  ...,  0.2227,  0.2227,  0.2402],\n",
      "          [ 0.3627,  0.3452,  0.2927,  ...,  0.2577,  0.2577,  0.2577],\n",
      "          [ 0.3627,  0.3452,  0.2927,  ...,  0.3452,  0.3452,  0.3452],\n",
      "          ...,\n",
      "          [ 0.0476,  0.1001,  0.1527,  ...,  0.3102,  0.3627,  0.2752],\n",
      "          [-0.0224,  0.0301,  0.0826,  ...,  0.1877,  0.2577,  0.1702],\n",
      "          [-0.0224,  0.0476,  0.1001,  ...,  0.1702,  0.2402,  0.1702]],\n",
      "\n",
      "         [[ 0.4091,  0.4091,  0.4091,  ...,  0.2696,  0.2696,  0.3045],\n",
      "          [ 0.4091,  0.4265,  0.3742,  ...,  0.3045,  0.3045,  0.3219],\n",
      "          [ 0.4439,  0.4265,  0.3742,  ...,  0.3916,  0.3916,  0.4091],\n",
      "          ...,\n",
      "          [ 0.1476,  0.1999,  0.2522,  ...,  0.3393,  0.3916,  0.2871],\n",
      "          [ 0.0953,  0.1302,  0.1825,  ...,  0.2173,  0.2871,  0.1825],\n",
      "          [ 0.0953,  0.1476,  0.1999,  ...,  0.1999,  0.2696,  0.1825]]],\n",
      "\n",
      "\n",
      "        [[[-0.9534, -0.8507, -0.7479,  ..., -1.3644, -1.3815, -1.3987],\n",
      "          [-1.1589, -1.1075, -1.0733,  ..., -1.3644, -1.3815, -1.4158],\n",
      "          [-1.2103, -1.2103, -1.2274,  ..., -1.3815, -1.2959, -1.2959],\n",
      "          ...,\n",
      "          [-0.6623, -0.6452, -0.5424,  ..., -0.3883, -0.4054, -0.5082],\n",
      "          [-0.5253, -0.3712, -0.3198,  ..., -0.3369, -0.3027, -0.1999],\n",
      "          [-0.3883, -0.3027, -0.2513,  ..., -0.3712, -0.3027, -0.4054]],\n",
      "\n",
      "         [[-1.0728, -0.9678, -0.8627,  ..., -1.5455, -1.5630, -1.5805],\n",
      "          [-1.3179, -1.2654, -1.2304,  ..., -1.5105, -1.5280, -1.5980],\n",
      "          [-1.3704, -1.4055, -1.4230,  ..., -1.5280, -1.4755, -1.4755],\n",
      "          ...,\n",
      "          [-0.8102, -0.7927, -0.6877,  ..., -0.4951, -0.5126, -0.6176],\n",
      "          [-0.6702, -0.5126, -0.4601,  ..., -0.4426, -0.4076, -0.3025],\n",
      "          [-0.5301, -0.4426, -0.3901,  ..., -0.4776, -0.4076, -0.5301]],\n",
      "\n",
      "         [[-0.7238, -0.5844, -0.5147,  ..., -1.2990, -1.3164, -1.3339],\n",
      "          [-1.0027, -0.9156, -0.9156,  ..., -1.2816, -1.2990, -1.3513],\n",
      "          [-1.0550, -1.0724, -1.0898,  ..., -1.2990, -1.2293, -1.2293],\n",
      "          ...,\n",
      "          [-0.4973, -0.4798, -0.3753,  ..., -0.0964, -0.1138, -0.2184],\n",
      "          [-0.3578, -0.2010, -0.1487,  ..., -0.0441, -0.0092,  0.0953],\n",
      "          [-0.1835, -0.0964, -0.0441,  ..., -0.0790, -0.0092, -0.0790]]],\n",
      "\n",
      "\n",
      "        [[[-0.3541, -0.3712, -0.3369,  ..., -0.7993, -0.8335, -0.7479],\n",
      "          [-0.3198, -0.3027, -0.3541,  ..., -0.6452, -0.6965, -0.6623],\n",
      "          [-0.2513, -0.1828, -0.1314,  ..., -0.1314, -0.2171, -0.3027],\n",
      "          ...,\n",
      "          [-0.4054, -0.4054, -0.4568,  ..., -0.1657, -0.1486, -0.0972],\n",
      "          [-0.3369, -0.3369, -0.3198,  ..., -0.1143, -0.1143, -0.0972],\n",
      "          [-0.3027, -0.2684, -0.2342,  ..., -0.1314, -0.1657, -0.1486]],\n",
      "\n",
      "         [[ 0.0301, -0.0049,  0.0476,  ..., -0.5651, -0.6176, -0.5651],\n",
      "          [ 0.0651,  0.0651,  0.0301,  ..., -0.4251, -0.5126, -0.5301],\n",
      "          [ 0.1352,  0.1702,  0.2927,  ...,  0.0476, -0.0399, -0.1975],\n",
      "          ...,\n",
      "          [-0.0924, -0.0924, -0.1450,  ...,  0.0476,  0.0651,  0.0826],\n",
      "          [-0.0224, -0.0224, -0.0049,  ...,  0.0826,  0.1176,  0.1176],\n",
      "          [ 0.0301,  0.0651,  0.1001,  ...,  0.1001,  0.1176,  0.0826]],\n",
      "\n",
      "         [[ 0.3045,  0.2696,  0.3568,  ..., -0.4798, -0.5670, -0.5844],\n",
      "          [ 0.3393,  0.3393,  0.3393,  ..., -0.3753, -0.5495, -0.5844],\n",
      "          [ 0.4439,  0.4962,  0.6356,  ...,  0.0779, -0.1138, -0.3230],\n",
      "          ...,\n",
      "          [ 0.0256,  0.0256, -0.0267,  ...,  0.1999,  0.1825,  0.1825],\n",
      "          [ 0.0953,  0.1302,  0.1476,  ...,  0.2871,  0.2696,  0.2348],\n",
      "          [ 0.1825,  0.2173,  0.2871,  ...,  0.2871,  0.2522,  0.2348]]],\n",
      "\n",
      "\n",
      "        ...,\n",
      "\n",
      "\n",
      "        [[[ 0.7248,  0.6221,  0.3652,  ..., -1.0048, -1.0562, -1.1247],\n",
      "          [ 0.2967,  0.2282,  0.0912,  ..., -1.0219, -1.0562, -1.1247],\n",
      "          [ 0.0056, -0.0629, -0.0801,  ..., -1.0733, -1.0733, -1.1075],\n",
      "          ...,\n",
      "          [ 0.1939,  0.1939,  0.1939,  ..., -0.7650, -0.7993, -0.8507],\n",
      "          [ 0.3652,  0.3652,  0.2967,  ..., -0.7993, -0.8507, -0.9192],\n",
      "          [ 0.3823,  0.3994,  0.3823,  ..., -0.9192, -1.0219, -1.0733]],\n",
      "\n",
      "         [[ 0.7304,  0.6254,  0.4153,  ..., -0.8627, -0.8803, -0.9503],\n",
      "          [ 0.3452,  0.2752,  0.1702,  ..., -0.8803, -0.8978, -0.9678],\n",
      "          [ 0.0126, -0.0224, -0.0049,  ..., -0.9328, -0.9153, -0.9503],\n",
      "          ...,\n",
      "          [ 0.1001,  0.1001,  0.1352,  ..., -0.6176, -0.6352, -0.6877],\n",
      "          [ 0.2577,  0.2752,  0.2402,  ..., -0.6527, -0.6877, -0.7577],\n",
      "          [ 0.3277,  0.3452,  0.2752,  ..., -0.7577, -0.8102, -0.8627]],\n",
      "\n",
      "         [[ 0.8971,  0.7925,  0.5311,  ..., -0.8807, -0.9504, -1.0201],\n",
      "          [ 0.4614,  0.3916,  0.3045,  ..., -0.8981, -0.9678, -1.0376],\n",
      "          [ 0.1302,  0.0953,  0.0953,  ..., -0.9504, -0.9853, -1.0201],\n",
      "          ...,\n",
      "          [ 0.2173,  0.2173,  0.2522,  ..., -0.5844, -0.6018, -0.6541],\n",
      "          [ 0.4265,  0.3916,  0.3568,  ..., -0.6193, -0.6541, -0.7238],\n",
      "          [ 0.5136,  0.4962,  0.4439,  ..., -0.6890, -0.7936, -0.8458]]],\n",
      "\n",
      "\n",
      "        [[[-2.0665, -2.0152, -1.9467,  ..., -2.0837, -2.0665, -2.1008],\n",
      "          [-2.0152, -1.9638, -1.9124,  ..., -2.1008, -2.0837, -2.1179],\n",
      "          [-1.9809, -1.9124, -1.8782,  ..., -2.1008, -2.0837, -2.1179],\n",
      "          ...,\n",
      "          [-2.0665, -2.0837, -2.1179,  ..., -2.1179, -2.1179, -2.1179],\n",
      "          [-2.0665, -2.1008, -2.0837,  ..., -2.1179, -2.1179, -2.1008],\n",
      "          [-2.0837, -2.0665, -2.1008,  ..., -2.1179, -2.1179, -2.1179]],\n",
      "\n",
      "         [[-1.6506, -1.5805, -1.5105,  ..., -1.7906, -1.7731, -1.7381],\n",
      "          [-1.5805, -1.4930, -1.4405,  ..., -1.8081, -1.7906, -1.7731],\n",
      "          [-1.5105, -1.4405, -1.4055,  ..., -1.8081, -1.7906, -1.7906],\n",
      "          ...,\n",
      "          [-1.7381, -1.7381, -1.7731,  ..., -1.8606, -1.8606, -1.8606],\n",
      "          [-1.7381, -1.7556, -1.7906,  ..., -1.8606, -1.8606, -1.8431],\n",
      "          [-1.7381, -1.7731, -1.8081,  ..., -1.8606, -1.8606, -1.8606]],\n",
      "\n",
      "         [[-1.4559, -1.3687, -1.2990,  ..., -1.5604, -1.5430, -1.5604],\n",
      "          [-1.3861, -1.2990, -1.2467,  ..., -1.5779, -1.5604, -1.5953],\n",
      "          [-1.3339, -1.2467, -1.2119,  ..., -1.5779, -1.5604, -1.6127],\n",
      "          ...,\n",
      "          [-1.5081, -1.5604, -1.5953,  ..., -1.6127, -1.6127, -1.6127],\n",
      "          [-1.5081, -1.5779, -1.5953,  ..., -1.6127, -1.6127, -1.5953],\n",
      "          [-1.5604, -1.5779, -1.6127,  ..., -1.6127, -1.6127, -1.6127]]],\n",
      "\n",
      "\n",
      "        [[[-0.4568, -0.1999,  0.0741,  ...,  0.0398,  0.0398,  0.0227],\n",
      "          [ 0.4337,  0.5707,  0.7419,  ..., -0.0458,  0.0056,  0.0056],\n",
      "          [ 0.7248,  0.8276,  0.9817,  ..., -0.1828, -0.2171, -0.1828],\n",
      "          ...,\n",
      "          [-0.6281, -0.6452, -0.6452,  ..., -0.3198, -0.2856, -0.2684],\n",
      "          [-0.6452, -0.6109, -0.6281,  ..., -0.1828, -0.1828, -0.1486],\n",
      "          [-0.5938, -0.5596, -0.5596,  ..., -0.2856, -0.2856, -0.1999]],\n",
      "\n",
      "         [[ 0.2577,  0.5728,  0.9755,  ...,  0.4853,  0.5378,  0.5203],\n",
      "          [ 1.1331,  1.3606,  1.5882,  ...,  0.4678,  0.5378,  0.5378],\n",
      "          [ 1.3782,  1.5007,  1.7283,  ...,  0.3627,  0.3277,  0.3627],\n",
      "          ...,\n",
      "          [-1.2479, -1.3179, -1.3529,  ..., -0.6702, -0.4776, -0.3375],\n",
      "          [-1.2829, -1.2829, -1.3004,  ..., -0.5476, -0.3901, -0.2500],\n",
      "          [-1.2304, -1.2304, -1.2304,  ..., -0.7402, -0.5651, -0.3550]],\n",
      "\n",
      "         [[ 0.1825,  0.6705,  1.2108,  ..., -1.6302, -1.6650, -1.7173],\n",
      "          [ 1.3328,  1.6814,  2.0125,  ..., -1.6650, -1.6824, -1.7173],\n",
      "          [ 1.6640,  1.8557,  2.1171,  ..., -1.7870, -1.8044, -1.7870],\n",
      "          ...,\n",
      "          [-1.4036, -1.4559, -1.4384,  ..., -0.7761, -0.4624, -0.1835],\n",
      "          [-1.3861, -1.3861, -1.4384,  ..., -0.6890, -0.4101, -0.1661],\n",
      "          [-1.3339, -1.3339, -1.3687,  ..., -0.8458, -0.6193, -0.3578]]]])\n",
      "<class 'torch.Tensor'>\n"
     ]
    },
    {
     "name": "stderr",
     "output_type": "stream",
     "text": [
      "C:\\Users\\Hanna\\anaconda3\\envs\\deep_learning\\lib\\site-packages\\lightning\\pytorch\\trainer\\call.py:54: Detected KeyboardInterrupt, attempting graceful shutdown...\n"
     ]
    },
    {
     "data": {
      "text/html": [
       "Waiting for W&B process to finish... <strong style=\"color:green\">(success).</strong>"
      ],
      "text/plain": [
       "<IPython.core.display.HTML object>"
      ]
     },
     "metadata": {},
     "output_type": "display_data"
    },
    {
     "data": {
      "text/html": [
       "<style>\n",
       "    table.wandb td:nth-child(1) { padding: 0 10px; text-align: left ; width: auto;} td:nth-child(2) {text-align: left ; width: 100%}\n",
       "    .wandb-row { display: flex; flex-direction: row; flex-wrap: wrap; justify-content: flex-start; width: 100% }\n",
       "    .wandb-col { display: flex; flex-direction: column; flex-basis: 100%; flex: 1; padding: 10px; }\n",
       "    </style>\n",
       "<div class=\"wandb-row\"><div class=\"wandb-col\"><h3>Run history:</h3><br/><table class=\"wandb\"><tr><td>classifier_loss</td><td>█▁</td></tr><tr><td>epoch</td><td>▁▁</td></tr><tr><td>trainer/global_step</td><td>▁█</td></tr></table><br/></div><div class=\"wandb-col\"><h3>Run summary:</h3><br/><table class=\"wandb\"><tr><td>classifier_loss</td><td>7.04107</td></tr><tr><td>epoch</td><td>0</td></tr><tr><td>trainer/global_step</td><td>99</td></tr></table><br/></div></div>"
      ],
      "text/plain": [
       "<IPython.core.display.HTML object>"
      ]
     },
     "metadata": {},
     "output_type": "display_data"
    },
    {
     "data": {
      "text/html": [
       " View run <strong style=\"color:#cdcd00\">Classifier pretrained and frozen backbone</strong> at: <a href='https://wandb.ai/czhanna-wandb/Self-supervised%20learning%20in-the-wild/runs/xmmh1jt9' target=\"_blank\">https://wandb.ai/czhanna-wandb/Self-supervised%20learning%20in-the-wild/runs/xmmh1jt9</a><br/> View job at <a href='https://wandb.ai/czhanna-wandb/Self-supervised%20learning%20in-the-wild/jobs/QXJ0aWZhY3RDb2xsZWN0aW9uOjExMzE3NDk5NQ==/version_details/v2' target=\"_blank\">https://wandb.ai/czhanna-wandb/Self-supervised%20learning%20in-the-wild/jobs/QXJ0aWZhY3RDb2xsZWN0aW9uOjExMzE3NDk5NQ==/version_details/v2</a><br/>Synced 6 W&B file(s), 0 media file(s), 2 artifact file(s) and 0 other file(s)"
      ],
      "text/plain": [
       "<IPython.core.display.HTML object>"
      ]
     },
     "metadata": {},
     "output_type": "display_data"
    },
    {
     "data": {
      "text/html": [
       "Find logs at: <code>.\\wandb\\run-20231202_191227-xmmh1jt9\\logs</code>"
      ],
      "text/plain": [
       "<IPython.core.display.HTML object>"
      ]
     },
     "metadata": {},
     "output_type": "display_data"
    }
   ],
   "source": [
    "model_pretrained_frozen = train_classifier(\"Classifier pretrained and frozen backbone\",\n",
    "                                           'best_model_with_pretrained_frozen',\n",
    "                                           backbone_pt, True, max_epochs)"
   ]
  },
  {
   "cell_type": "code",
   "execution_count": null,
   "id": "51fab22f",
   "metadata": {},
   "outputs": [],
   "source": [
    "# Before running, change ckpt_with_classifier_path to the correct one,\n",
    "# make sure you ran the cell 2 up that defines the backbone_pt\n",
    "# and comment out the lines below.\n",
    "\n",
    "# ckpt_with_classifier_path = \"models/best_model_with_pretrained_frozen.ckpt\"\n",
    "\n",
    "# model_pretrained_frozen = Classifier(backbone_pt, False, num_classes)\n",
    "# model_pretrained_frozen.load_state_dict(torch.load(ckpt_with_classifier_path, map_location=torch.device('cpu'))['state_dict'])"
   ]
  },
  {
   "cell_type": "markdown",
   "id": "e28b375b",
   "metadata": {},
   "source": [
    "### Without SSL, but pretrained backbone with NOT frozen weights"
   ]
  },
  {
   "cell_type": "code",
   "execution_count": 14,
   "id": "961d0fa2",
   "metadata": {},
   "outputs": [
    {
     "ename": "NameError",
     "evalue": "name 'backbone' is not defined",
     "output_type": "error",
     "traceback": [
      "\u001b[1;31m---------------------------------------------------------------------------\u001b[0m",
      "\u001b[1;31mNameError\u001b[0m                                 Traceback (most recent call last)",
      "Cell \u001b[1;32mIn[14], line 5\u001b[0m\n\u001b[0;32m      1\u001b[0m \u001b[38;5;66;03m# backbone already defined\u001b[39;00m\n\u001b[0;32m      3\u001b[0m model_pretrained_not_frozen \u001b[38;5;241m=\u001b[39m train_classifier(\u001b[38;5;124m\"\u001b[39m\u001b[38;5;124mClassifier pretrained and not frozen backbone\u001b[39m\u001b[38;5;124m\"\u001b[39m,\n\u001b[0;32m      4\u001b[0m                                                \u001b[38;5;124m'\u001b[39m\u001b[38;5;124mbest_model_with_pretrained_not_frozen\u001b[39m\u001b[38;5;124m'\u001b[39m,\n\u001b[1;32m----> 5\u001b[0m                                                \u001b[43mbackbone\u001b[49m, \u001b[38;5;28;01mFalse\u001b[39;00m, max_epochs)\n",
      "\u001b[1;31mNameError\u001b[0m: name 'backbone' is not defined"
     ]
    }
   ],
   "source": [
    "model_pretrained_not_frozen = train_classifier(\"Classifier pretrained and not frozen backbone\",\n",
    "                                               'best_model_with_pretrained_not_frozen',\n",
    "                                               backbone_pt, False, max_epochs)"
   ]
  },
  {
   "cell_type": "code",
   "execution_count": null,
   "id": "229994cc",
   "metadata": {},
   "outputs": [],
   "source": [
    "# Before running, change ckpt_with_classifier_path to the correct one,\n",
    "# make sure you ran the cell 4 up that defines the backbone_pt\n",
    "# and comment out the lines below.\n",
    "\n",
    "# ckpt_with_classifier_path = \"models/best_model_with_pretrained_not_frozen.ckpt\"\n",
    "\n",
    "# model_pretrained_not_frozen = Classifier(backbone_pt, False, num_classes)\n",
    "# model_pretrained_not_frozen.load_state_dict(torch.load(ckpt_with_classifier_path, map_location=torch.device('cpu'))['state_dict'])"
   ]
  },
  {
   "cell_type": "markdown",
   "id": "bc9ba413",
   "metadata": {},
   "source": [
    "### With untrained backbone"
   ]
  },
  {
   "cell_type": "code",
   "execution_count": null,
   "id": "c922040d",
   "metadata": {},
   "outputs": [],
   "source": [
    "# Defining the untrained backbone\n",
    "# Running this cell is also required for loading from checkpoint\n",
    "\n",
    "resnet_npt = torchvision.models.resnet18(pretrained=False)\n",
    "backbone_npt = nn.Sequential(*list(resnet_npt.children())[:-1])"
   ]
  },
  {
   "cell_type": "code",
   "execution_count": null,
   "id": "568daab1",
   "metadata": {},
   "outputs": [],
   "source": [
    "model_untrained = train_classifier(\"Classifier untrained backbone\",\n",
    "                                   'best_model_with_untrained',\n",
    "                                   backbone_npt, False, max_epochs)"
   ]
  },
  {
   "cell_type": "code",
   "execution_count": null,
   "id": "9be88e07",
   "metadata": {},
   "outputs": [],
   "source": [
    "# Before running, change ckpt_with_classifier_path to the correct one,\n",
    "# make sure you ran the cell 2 up that defines the backbone_npt\n",
    "# and comment out the lines below.\n",
    "\n",
    "# ckpt_with_classifier_path = \"models/best_model_with_untrained.ckpt\"\n",
    "\n",
    "# model_untrained = Classifier(backbone_npt, False, num_classes)\n",
    "# model_untrained.load_state_dict(torch.load(ckpt_with_classifier_path, map_location=torch.device('cpu'))['state_dict'])"
   ]
  },
  {
   "cell_type": "markdown",
   "id": "7a8ef730",
   "metadata": {},
   "source": [
    "# Evaluation"
   ]
  },
  {
   "cell_type": "markdown",
   "id": "ab818144",
   "metadata": {},
   "source": [
    "## Accuracy on test dataset"
   ]
  },
  {
   "cell_type": "code",
   "execution_count": 40,
   "id": "0165d648",
   "metadata": {},
   "outputs": [
    {
     "name": "stderr",
     "output_type": "stream",
     "text": [
      "GPU available: True (cuda), used: True\n",
      "TPU available: False, using: 0 TPU cores\n",
      "IPU available: False, using: 0 IPUs\n",
      "HPU available: False, using: 0 HPUs\n"
     ]
    },
    {
     "data": {
      "text/html": [
       "Tracking run with wandb version 0.16.0"
      ],
      "text/plain": [
       "<IPython.core.display.HTML object>"
      ]
     },
     "metadata": {},
     "output_type": "display_data"
    },
    {
     "data": {
      "text/html": [
       "Run data is saved locally in <code>.\\wandb\\run-20231130_193601-kzm7h3o6</code>"
      ],
      "text/plain": [
       "<IPython.core.display.HTML object>"
      ]
     },
     "metadata": {},
     "output_type": "display_data"
    },
    {
     "data": {
      "text/html": [
       "Syncing run <strong><a href='https://wandb.ai/nest-ai/Self-supervised%20learning%20in-the-wild/runs/kzm7h3o6' target=\"_blank\">Classifier</a></strong> to <a href='https://wandb.ai/nest-ai/Self-supervised%20learning%20in-the-wild' target=\"_blank\">Weights & Biases</a> (<a href='https://wandb.me/run' target=\"_blank\">docs</a>)<br/>"
      ],
      "text/plain": [
       "<IPython.core.display.HTML object>"
      ]
     },
     "metadata": {},
     "output_type": "display_data"
    },
    {
     "data": {
      "text/html": [
       " View project at <a href='https://wandb.ai/nest-ai/Self-supervised%20learning%20in-the-wild' target=\"_blank\">https://wandb.ai/nest-ai/Self-supervised%20learning%20in-the-wild</a>"
      ],
      "text/plain": [
       "<IPython.core.display.HTML object>"
      ]
     },
     "metadata": {},
     "output_type": "display_data"
    },
    {
     "data": {
      "text/html": [
       " View run at <a href='https://wandb.ai/nest-ai/Self-supervised%20learning%20in-the-wild/runs/kzm7h3o6' target=\"_blank\">https://wandb.ai/nest-ai/Self-supervised%20learning%20in-the-wild/runs/kzm7h3o6</a>"
      ],
      "text/plain": [
       "<IPython.core.display.HTML object>"
      ]
     },
     "metadata": {},
     "output_type": "display_data"
    },
    {
     "name": "stderr",
     "output_type": "stream",
     "text": [
      "LOCAL_RANK: 0 - CUDA_VISIBLE_DEVICES: [0]\n"
     ]
    },
    {
     "name": "stdout",
     "output_type": "stream",
     "text": [
      "Validation DataLoader 0: 100%|██████████| 6/6 [00:00<00:00, 164.31it/s]\n"
     ]
    },
    {
     "data": {
      "text/html": [
       "<pre style=\"white-space:pre;overflow-x:auto;line-height:normal;font-family:Menlo,'DejaVu Sans Mono',consolas,'Courier New',monospace\">┏━━━━━━━━━━━━━━━━━━━━━━━━━━━┳━━━━━━━━━━━━━━━━━━━━━━━━━━━┓\n",
       "┃<span style=\"font-weight: bold\">      Validate metric      </span>┃<span style=\"font-weight: bold\">       DataLoader 0        </span>┃\n",
       "┡━━━━━━━━━━━━━━━━━━━━━━━━━━━╇━━━━━━━━━━━━━━━━━━━━━━━━━━━┩\n",
       "│<span style=\"color: #008080; text-decoration-color: #008080\">          val_acc          </span>│<span style=\"color: #800080; text-decoration-color: #800080\">   0.008380952291190624    </span>│\n",
       "└───────────────────────────┴───────────────────────────┘\n",
       "</pre>\n"
      ],
      "text/plain": [
       "┏━━━━━━━━━━━━━━━━━━━━━━━━━━━┳━━━━━━━━━━━━━━━━━━━━━━━━━━━┓\n",
       "┃\u001b[1m \u001b[0m\u001b[1m     Validate metric     \u001b[0m\u001b[1m \u001b[0m┃\u001b[1m \u001b[0m\u001b[1m      DataLoader 0       \u001b[0m\u001b[1m \u001b[0m┃\n",
       "┡━━━━━━━━━━━━━━━━━━━━━━━━━━━╇━━━━━━━━━━━━━━━━━━━━━━━━━━━┩\n",
       "│\u001b[36m \u001b[0m\u001b[36m         val_acc         \u001b[0m\u001b[36m \u001b[0m│\u001b[35m \u001b[0m\u001b[35m  0.008380952291190624   \u001b[0m\u001b[35m \u001b[0m│\n",
       "└───────────────────────────┴───────────────────────────┘\n"
      ]
     },
     "metadata": {},
     "output_type": "display_data"
    },
    {
     "data": {
      "text/plain": [
       "[{'val_acc': 0.008380952291190624}]"
      ]
     },
     "execution_count": 40,
     "metadata": {},
     "output_type": "execute_result"
    }
   ],
   "source": [
    "wandb_logger = l.pytorch.loggers.WandbLogger(\n",
    "    name=\"Classifier\", project=\"Self-supervised learning in-the-wild\"\n",
    ")\n",
    "callback = l.pytorch.callbacks.ModelCheckpoint(\n",
    "    monitor='val_acc',\n",
    "    mode='max'\n",
    ")\n",
    "trainer = l.pytorch.Trainer(\n",
    "    max_epochs=max_epochs, devices=1, accelerator=accelerator, logger=[wandb_logger], callbacks=[callback]\n",
    ")\n",
    "\n",
    "model_ssl_frozen.eval()\n",
    "trainer.validate(model_ssl_frozen, dataloader_test)"
   ]
  },
  {
   "cell_type": "markdown",
   "id": "44b2246d",
   "metadata": {},
   "source": [
    "## Confusion matrix"
   ]
  },
  {
   "cell_type": "code",
   "execution_count": 41,
   "id": "2a9ff4c0",
   "metadata": {},
   "outputs": [
    {
     "name": "stderr",
     "output_type": "stream",
     "text": [
      "LOCAL_RANK: 0 - CUDA_VISIBLE_DEVICES: [0]\n"
     ]
    },
    {
     "name": "stdout",
     "output_type": "stream",
     "text": [
      "Predicting DataLoader 0: 100%|██████████| 6/6 [00:00<00:00, 157.91it/s]\n"
     ]
    }
   ],
   "source": [
    "def evaluate_model(model, dataloader, num_classes):\n",
    "    confusion_matrix_metric = torchmetrics.classification.MulticlassConfusionMatrix(num_classes=num_classes)\n",
    "    model.eval()\n",
    "    with torch.no_grad():\n",
    "        for y_hat, y in trainer.predict(model, dataloader):\n",
    "            confusion_matrix_metric(y_hat.softmax(dim=-1), y)\n",
    "    confusion_matrix = confusion_matrix_metric.compute()\n",
    "    return confusion_matrix\n",
    "\n",
    "confusion_matrix = evaluate_model(model_ssl_frozen, dataloader_test, num_classes)"
   ]
  },
  {
   "cell_type": "code",
   "execution_count": 42,
   "id": "6d908257",
   "metadata": {},
   "outputs": [
    {
     "data": {
      "image/png": "[encoded data removed]",
      "text/plain": [
       "<Figure size 1300x1300 with 2 Axes>"
      ]
     },
     "metadata": {},
     "output_type": "display_data"
    }
   ],
   "source": [
    "plt.figure(figsize=(13,13))\n",
    "plt.imshow(confusion_matrix, cmap=plt.cm.Blues)\n",
    "plt.xlabel(\"Predicted labels\")\n",
    "plt.ylabel(\"True labels\")\n",
    "plt.xticks([], [])\n",
    "plt.yticks([], [])\n",
    "plt.title('Confusion matrix')\n",
    "plt.colorbar()\n",
    "plt.show()\n",
    "plt.close()"
   ]
  }
 ],
 "metadata": {
  "kernelspec": {
   "display_name": "Python 3 (ipykernel)",
   "language": "python",
   "name": "python3"
  },
  "language_info": {
   "codemirror_mode": {
    "name": "ipython",
    "version": 3
   },
   "file_extension": ".py",
   "mimetype": "text/x-python",
   "name": "python",
   "nbconvert_exporter": "python",
   "pygments_lexer": "ipython3",
   "version": "3.9.18"
  }
 },
 "nbformat": 4,
 "nbformat_minor": 5
}
